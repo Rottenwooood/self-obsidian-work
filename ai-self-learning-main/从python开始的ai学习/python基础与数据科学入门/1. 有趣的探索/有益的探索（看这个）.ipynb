{
 "cells": [
  {
   "cell_type": "markdown",
   "id": "78e3395e",
   "metadata": {},
   "source": [
    "# 有益的探索\n",
    "\n",
    "## 思维导图\n",
    "\n",
    "![思维导图](./图片等杂项/思维导图.png \"思维导图\")\n",
    "\n",
    "![数据类型](./图片等杂项/数据类型.png \"数据类型\")\n",
    "\n",
    "![更简洁](./图片等杂项/更简洁.png \"更简洁\")\n",
    "\n",
    "![神器](./图片等杂项/神器.png \"神器\")\n",
    "\n",
    "\n",
    "\n",
    "## 1.数据类型的底层实现\n",
    "\n",
    "### 1.1 从奇怪的列表开始\n",
    "\n",
    "#### 1.复制问题"
   ]
  },
  {
   "cell_type": "code",
   "execution_count": 1,
   "id": "dc6397e7",
   "metadata": {},
   "outputs": [],
   "source": [
    "list_1 = [1, [22, 33, 44], (5, 6, 7), {\"name\": \"Sarah\"}]"
   ]
  },
  {
   "cell_type": "markdown",
   "id": "50eab5cd",
   "metadata": {},
   "source": [
    "- 浅拷贝"
   ]
  },
  {
   "cell_type": "code",
   "execution_count": 2,
   "id": "09bff740",
   "metadata": {},
   "outputs": [],
   "source": [
    "# list_3 = list_1    #错误，只是相当于给了个别名\n",
    "list_2 = list_1.copy()    #或者list_1[:]  \\  list(list_1)也可以实现浅拷贝"
   ]
  },
  {
   "cell_type": "markdown",
   "id": "a6e01b12",
   "metadata": {},
   "source": [
    "- 对浅拷贝前后两列表分别进行操作"
   ]
  },
  {
   "cell_type": "code",
   "execution_count": 3,
   "id": "9bd2de47",
   "metadata": {},
   "outputs": [
    {
     "name": "stdout",
     "output_type": "stream",
     "text": [
      "list_1:   [1, [22, 33, 44, 55], (5, 6, 7), {'name': 'Sarah'}]\n",
      "list_2:   [1, [22, 33, 44, 55], (5, 6, 7), {'name': 'Sarah'}]\n"
     ]
    }
   ],
   "source": [
    "list_2[1].append(55)\n",
    "\n",
    "print(\"list_1:  \", list_1)\n",
    "print(\"list_2:  \", list_2)"
   ]
  },
  {
   "cell_type": "markdown",
   "id": "3994dc85",
   "metadata": {},
   "source": [
    "- 为什么我改的是list_2,list_1也变了"
   ]
  },
  {
   "cell_type": "markdown",
   "id": "3a1dec07",
   "metadata": {},
   "source": [
    "#### 2. 列表的底层实现\n",
    "\n",
    "**引用数组的概念**\n",
    "\n",
    "列表内的元素可以分散的存储在内存中  \n",
    "列表存储的，实际上是这些**元素的地址！！！** ——地址的存储在内存中是连续的\n",
    "\n",
    "![引用数组](./图片等杂项/引用数组概念图.png \"引用数组概念图\")"
   ]
  },
  {
   "cell_type": "code",
   "execution_count": 2,
   "id": "d40242ad",
   "metadata": {},
   "outputs": [],
   "source": [
    "list_1 = [1, [22, 33, 44], (5, 6, 7), {\"name\": \"Sarah\"}]\n",
    "list_2 = list(list_1)    #浅拷贝"
   ]
  },
  {
   "cell_type": "markdown",
   "id": "79548bb1",
   "metadata": {},
   "source": [
    "(1). 新增元素"
   ]
  },
  {
   "cell_type": "code",
   "execution_count": 3,
   "id": "fdd2b88c",
   "metadata": {},
   "outputs": [
    {
     "name": "stdout",
     "output_type": "stream",
     "text": [
      "list_1:   [1, [22, 33, 44], (5, 6, 7), {'name': 'Sarah'}, 100]\n",
      "list_2:   [1, [22, 33, 44], (5, 6, 7), {'name': 'Sarah'}, 'n']\n"
     ]
    }
   ],
   "source": [
    "list_1.append(100)\n",
    "list_2.append(\"n\")\n",
    "\n",
    "print(\"list_1:  \", list_1)\n",
    "print(\"list_2:  \", list_2)"
   ]
  },
  {
   "cell_type": "markdown",
   "id": "d974d2e8",
   "metadata": {},
   "source": [
    "实现原理：\n",
    "![新增元素实现原理](./图片等杂项/实现原理1.png \"新增元素实现原理\")"
   ]
  },
  {
   "cell_type": "markdown",
   "id": "b62db3e1",
   "metadata": {},
   "source": [
    "(2).修改元素"
   ]
  },
  {
   "cell_type": "code",
   "execution_count": 4,
   "id": "f14b5841",
   "metadata": {},
   "outputs": [
    {
     "name": "stdout",
     "output_type": "stream",
     "text": [
      "list_1:   [10, [22, 33, 44], (5, 6, 7), {'name': 'Sarah'}, 100]\n",
      "list_2:   [20, [22, 33, 44], (5, 6, 7), {'name': 'Sarah'}, 'n']\n"
     ]
    }
   ],
   "source": [
    "list_1[0] = 10\n",
    "list_2[0] = 20\n",
    "\n",
    "print(\"list_1:  \", list_1)\n",
    "print(\"list_2:  \", list_2)"
   ]
  },
  {
   "cell_type": "markdown",
   "id": "f0b0dc43",
   "metadata": {},
   "source": [
    "实现原理：\n",
    "![修改元素实现原理](./图片等杂项/实现原理2.png \"修改元素实现原理\")"
   ]
  },
  {
   "cell_type": "markdown",
   "id": "e9687e0f",
   "metadata": {},
   "source": [
    "(3). 对列表型元素进行操作"
   ]
  },
  {
   "cell_type": "code",
   "execution_count": 5,
   "id": "0d652f5e",
   "metadata": {},
   "outputs": [
    {
     "name": "stdout",
     "output_type": "stream",
     "text": [
      "list_1:   [10, [22, 33, 55, 66], (5, 6, 7), {'name': 'Sarah'}, 100]\n",
      "list_2:   [20, [22, 33, 55, 66], (5, 6, 7), {'name': 'Sarah'}, 'n']\n"
     ]
    }
   ],
   "source": [
    "list_1[1].remove(44)\n",
    "list_2[1] += [55, 66]\n",
    "\n",
    "print(\"list_1:  \", list_1)\n",
    "print(\"list_2:  \", list_2)"
   ]
  },
  {
   "cell_type": "markdown",
   "id": "60191304",
   "metadata": {},
   "source": [
    "发生问题原因：\n",
    "![对列表型元素操作产生问题的原因](./图片等杂项/问题原理1.png \"列表问题原理\")"
   ]
  },
  {
   "cell_type": "markdown",
   "id": "0050f7a2",
   "metadata": {},
   "source": [
    "(4). 对元组型元素进行操作"
   ]
  },
  {
   "cell_type": "code",
   "execution_count": 6,
   "id": "0d697a84",
   "metadata": {},
   "outputs": [
    {
     "name": "stdout",
     "output_type": "stream",
     "text": [
      "list_1:   [10, [22, 33, 55, 66], (5, 6, 7), {'name': 'Sarah'}, 100]\n",
      "list_2:   [20, [22, 33, 55, 66], (5, 6, 7, 8, 7), {'name': 'Sarah'}, 'n']\n"
     ]
    }
   ],
   "source": [
    "list_2[2] += (8, 7)\n",
    "\n",
    "print(\"list_1:  \", list_1)\n",
    "print(\"list_2:  \", list_2)"
   ]
  },
  {
   "cell_type": "markdown",
   "id": "68bb2454",
   "metadata": {},
   "source": [
    "实现原因：元组是**不可变数据类型**，+=操作实际上是产生了一个新的元组。\n",
    "![实现原理3](./图片等杂项/实现原理3.png \"对元组型元素操作的原理\")"
   ]
  },
  {
   "cell_type": "markdown",
   "id": "82c63656",
   "metadata": {},
   "source": [
    "(5). 对字典元素进行操作"
   ]
  },
  {
   "cell_type": "code",
   "execution_count": 7,
   "id": "d4935af4",
   "metadata": {},
   "outputs": [
    {
     "name": "stdout",
     "output_type": "stream",
     "text": [
      "list_1:   [10, [22, 33, 55, 66], (5, 6, 7), {'name': 'Sarah', 'age': 18}, 100]\n",
      "list_2:   [20, [22, 33, 55, 66], (5, 6, 7, 8, 7), {'name': 'Sarah', 'age': 18}, 'n']\n"
     ]
    }
   ],
   "source": [
    "list_1[-2][\"age\"] = 18\n",
    "\n",
    "print(\"list_1:  \", list_1)\n",
    "print(\"list_2:  \", list_2)"
   ]
  },
  {
   "cell_type": "markdown",
   "id": "2a6a6dc1",
   "metadata": {},
   "source": [
    "实现原理：散列表\n",
    "![实现原理4](./图片等杂项/实现原理4.png \"对字典型元素操作的原理\")"
   ]
  },
  {
   "cell_type": "markdown",
   "id": "ad38dc3d",
   "metadata": {},
   "source": [
    "#### 3. 引入深拷贝\n",
    "\n",
    "**浅拷贝后**\n",
    "- 针对不可变元素（数字，字符串，元组）的操作，都各自生效了\n",
    "- 针对可变元素（列表，集合，字典）的操作，发生了一些混淆\n",
    "\n",
    "**引入深拷贝**\n",
    "- 深拷贝将所有层级的相关元素全部复制，完全分开，泾渭分明，避免了上述问题"
   ]
  },
  {
   "cell_type": "code",
   "execution_count": 10,
   "id": "8a0cf727",
   "metadata": {},
   "outputs": [
    {
     "name": "stdout",
     "output_type": "stream",
     "text": [
      "list_1:   [1, [22, 33, 44], (5, 6, 7), {'name': 'Sarah', 'age': 18}]\n",
      "list_2:   [1, [22, 33, 44, 55], (5, 6, 7), {'name': 'Sarah'}]\n"
     ]
    }
   ],
   "source": [
    "import copy\n",
    "\n",
    "list_1 = [1, [22, 33, 44], (5, 6, 7), {\"name\": \"Sarah\"}]\n",
    "list_2 = copy.deepcopy(list_1)\n",
    "list_1[-1][\"age\"] = 18\n",
    "list_2[1].append(55)\n",
    "\n",
    "print(\"list_1:  \", list_1)\n",
    "print(\"list_2:  \", list_2)"
   ]
  },
  {
   "cell_type": "markdown",
   "id": "c3d78350",
   "metadata": {},
   "source": [
    "### 1.2. 神秘的字典\n",
    "#### 1. 快速查找"
   ]
  },
  {
   "cell_type": "code",
   "execution_count": 11,
   "id": "be814377",
   "metadata": {},
   "outputs": [
    {
     "name": "stdout",
     "output_type": "stream",
     "text": [
      "查找1000个元素，在ls_1列表中的有500个，共用时3.7秒\n"
     ]
    }
   ],
   "source": [
    "import time\n",
    "\n",
    "ls_1 = list(range(1000000))\n",
    "ls_2 = list(range(500)) + [-10]*500\n",
    "\n",
    "start = time.time()\n",
    "count = 0\n",
    "for n in ls_2:\n",
    "    if n in ls_1:\n",
    "        count += 1\n",
    "end = time.time()\n",
    "print(f'查找{format(len(ls_2))}个元素，在ls_1列表中的有{count}个，共用时{round((end - start), 2)}秒')"
   ]
  },
  {
   "cell_type": "code",
   "execution_count": 13,
   "id": "08ef0bfd",
   "metadata": {},
   "outputs": [
    {
     "name": "stdout",
     "output_type": "stream",
     "text": [
      "查找1000个元素，在ls_1列表中的有500个，共用时0.0秒\n"
     ]
    }
   ],
   "source": [
    "import time\n",
    "\n",
    "d = {i:1 for i in range(1000000)}\n",
    "ls_2 = list(range(500)) + [-10]*500\n",
    "\n",
    "start = time.time()\n",
    "count = 0\n",
    "for n in ls_2:\n",
    "    try:\n",
    "        d[n]\n",
    "    except:\n",
    "        pass\n",
    "    else:\n",
    "        count += 1\n",
    "end = time.time()\n",
    "print(f'查找{format(len(ls_2))}个元素，在ls_1列表中的有{count}个，共用时{round((end - start), 2)}秒')"
   ]
  },
  {
   "cell_type": "markdown",
   "id": "0d35da58",
   "metadata": {},
   "source": [
    "#### 2. 字典的底层实现\n",
    "\n",
    "通过稀疏数组来实现值得存储与访问  \n",
    "稀疏数组有很多的na值，是一个动态数组，当存储的元素越来越多，会给数组进行相应的扩充\n",
    "\n",
    "**字典的创建过程**\n",
    "\n",
    "- 第一步：创建一个散列表（哈希表） （稀疏数组存散列表，N >> n）"
   ]
  },
  {
   "cell_type": "code",
   "execution_count": 14,
   "id": "fe3db341",
   "metadata": {},
   "outputs": [],
   "source": [
    "d = {}"
   ]
  },
  {
   "cell_type": "markdown",
   "id": "988a738e",
   "metadata": {},
   "source": [
    "- 第二步：通过hash()计算键的散列（哈希）值"
   ]
  },
  {
   "cell_type": "code",
   "execution_count": 15,
   "id": "c0e410ff",
   "metadata": {},
   "outputs": [
    {
     "name": "stdout",
     "output_type": "stream",
     "text": [
      "3763596298756728187\n",
      "1024\n",
      "-3550055125485641917\n"
     ]
    }
   ],
   "source": [
    "print(hash(\"python\"))\n",
    "print(hash(1024))\n",
    "print(hash((1, 2)))"
   ]
  },
  {
   "cell_type": "code",
   "execution_count": 16,
   "id": "d8c89735",
   "metadata": {},
   "outputs": [
    {
     "name": "stdout",
     "output_type": "stream",
     "text": [
      "395704067468293407\n"
     ]
    }
   ],
   "source": [
    "d[\"age\"] = 18        # 增加键值对的操作，首先会计算键的散列值hash(\"age\")\n",
    "print(hash(\"age\"))"
   ]
  },
  {
   "cell_type": "markdown",
   "id": "5ccf1d65",
   "metadata": {},
   "source": [
    "- 第三步：根据散列值确定其在散列表中的位置<br><br>\n",
    "\n",
    "极个别时候，散列值会发生冲突，则内部有相应的解决冲突的办法\n",
    "\n",
    "- 第四步：在该位置上存入值"
   ]
  },
  {
   "cell_type": "markdown",
   "id": "58908aae",
   "metadata": {},
   "source": [
    "**键值对的访问过程**"
   ]
  },
  {
   "cell_type": "code",
   "execution_count": 17,
   "id": "0d4c690b",
   "metadata": {},
   "outputs": [
    {
     "data": {
      "text/plain": [
       "18"
      ]
     },
     "execution_count": 17,
     "metadata": {},
     "output_type": "execute_result"
    }
   ],
   "source": [
    "d[\"age\"]"
   ]
  },
  {
   "cell_type": "markdown",
   "id": "0d652235",
   "metadata": {},
   "source": [
    "- 第一步：计算要访问的键的散列值\n",
    "* 第二步：根据计算的散列值，通过一定的规则，确定其在散列表中的位置  \n",
    "- 第三步：读取该位置上存储的值\n",
    "\n",
    "      如果存在，则返回该值  \n",
    "      如果不存在，则报错KeyError\n",
    "      \n",
    "实现原理：\n",
    "![字典](./图片等杂项/字典.png \"字典实现原理\")"
   ]
  },
  {
   "cell_type": "markdown",
   "id": "6c05639b",
   "metadata": {},
   "source": [
    "#### 小结\n",
    "\n",
    "**(1). 字典数据类型，通过空间换时间，实现了快速的数据查找**\n",
    "\n",
    "- 也就注定了字典的空间利用效率低下\n",
    "\n",
    "**(2). 因为散列值对应位置的顺序与键在字典中显示的顺序可能不同，因此表现出来的字典是无序的**\n",
    "\n",
    "- 回顾：N >> n \n",
    "\n",
    "    如果 N = n，会产生很多位置的冲突\n",
    "* 为什么字典实现了比列表更快速的查找？\n",
    "\n",
    "    列表每次查找是从头开始找的，字典不一样"
   ]
  },
  {
   "cell_type": "markdown",
   "id": "441ea8cc",
   "metadata": {},
   "source": [
    "### 紧凑的字符串\n",
    "\n",
    "**通过紧凑数组实现字符串的存储**\n",
    "\n",
    "- 数据在内存中是连续存放的，效率更高，节省空间\n",
    "* 都是序列类型，为什么列表采用引用数组，而字符串采用紧凑数组？\n",
    "\n",
    "    因为字符串存储的每个元素的是一个字符，可以直接预留相应的空间给它，但列表存储的元素类型多种多样，无法预料需要预留多大空间给它，且列表是可以变化的，对列表元素进行变化的时候，相应的空间也要变化，非常麻烦，因此把元素存储到外面去，只保留地址。\n",
    "    \n",
    "![字符串](./图片等杂项/字符串.png \"字符串紧凑数组\")"
   ]
  },
  {
   "cell_type": "markdown",
   "id": "7877ab18",
   "metadata": {},
   "source": [
    "### 1.3. 是否可变\n",
    "\n",
    "#### 1. 不可变类型：数字，字符串，元组\n",
    "\n",
    "**在生命周期中保持内容不变\n",
    "\n",
    "- 换句话说，就是改变了就不是它自己了（id变了）\n",
    "* 不可变对象的 += 操作实际上创建了一个新的对象"
   ]
  },
  {
   "cell_type": "code",
   "execution_count": 19,
   "id": "9add8582",
   "metadata": {},
   "outputs": [
    {
     "name": "stdout",
     "output_type": "stream",
     "text": [
      "x id:  140730121044776\n",
      "y id:  140730121044776\n"
     ]
    }
   ],
   "source": [
    "x = 1\n",
    "y = \"Python\"\n",
    "\n",
    "print(\"x id: \", id(x))\n",
    "print(\"y id: \", id(x))"
   ]
  },
  {
   "cell_type": "code",
   "execution_count": 20,
   "id": "df39a14d",
   "metadata": {},
   "outputs": [
    {
     "name": "stdout",
     "output_type": "stream",
     "text": [
      "x id:  140730121044840\n",
      "y id:  140730121044840\n"
     ]
    }
   ],
   "source": [
    "x += 2\n",
    "y += \"3.7\"\n",
    "\n",
    "print(\"x id: \", id(x))\n",
    "print(\"y id: \", id(x))"
   ]
  },
  {
   "cell_type": "markdown",
   "id": "0257d8f8",
   "metadata": {},
   "source": [
    "严格意义上，对于不可变类型，也要求其中元素类型是不可变类型时，才是真正不可变的\n",
    "\n",
    "**元组其实也可以变**"
   ]
  },
  {
   "cell_type": "code",
   "execution_count": 21,
   "id": "7d5c02eb",
   "metadata": {},
   "outputs": [
    {
     "name": "stdout",
     "output_type": "stream",
     "text": [
      "(1, [2, 3])\n"
     ]
    }
   ],
   "source": [
    "t = (1,[2])\n",
    "t[1].append(3)\n",
    "\n",
    "print(t)"
   ]
  },
  {
   "cell_type": "markdown",
   "id": "7d3b1843",
   "metadata": {},
   "source": [
    "#### 2. 可变类型：列表，字典，集合\n",
    "- id保持不变，但是里面的内容可以变\n",
    "* 可变对象的 += 操作 实际在原对象的基础上就地修改"
   ]
  },
  {
   "cell_type": "code",
   "execution_count": 22,
   "id": "a285c365",
   "metadata": {},
   "outputs": [
    {
     "name": "stdout",
     "output_type": "stream",
     "text": [
      "ls id:  2844788724224\n",
      "d id:  2844792558336\n"
     ]
    }
   ],
   "source": [
    "ls = [1, 2, 3]\n",
    "d = {\"Name\": \"Sarah\", \"Age\": 18}\n",
    "\n",
    "print(\"ls id: \", id(ls))\n",
    "print(\"d id: \", id(d))"
   ]
  },
  {
   "cell_type": "code",
   "execution_count": 23,
   "id": "ff3c71f1",
   "metadata": {},
   "outputs": [
    {
     "name": "stdout",
     "output_type": "stream",
     "text": [
      "ls id:  2844788724224\n",
      "d id:  2844792558336\n"
     ]
    }
   ],
   "source": [
    "ls += [4, 5]\n",
    "d_2 = {\"Sex\": \"female\"}\n",
    "d.update(d_2)           #把d_2中的元素更新到d中\n",
    "\n",
    "print(\"ls id: \",id(ls))\n",
    "print(\"d id: \", id(d))"
   ]
  },
  {
   "cell_type": "markdown",
   "id": "80dfb33e",
   "metadata": {},
   "source": [
    "### 1.4. 列表操作的几个小例子\n",
    "\n",
    "**[例1] 删除列表中的特定元素**\n",
    "\n",
    "- 方法1 存在运算删除法\n",
    "\n",
    "缺点：每次存在运算，都要从头对列表进行遍历，查找，效率低"
   ]
  },
  {
   "cell_type": "code",
   "execution_count": 24,
   "id": "dfed8f98",
   "metadata": {},
   "outputs": [
    {
     "name": "stdout",
     "output_type": "stream",
     "text": [
      "['2', '2', '4']\n"
     ]
    }
   ],
   "source": [
    "alist = [\"d\", \"d\", \"d\", \"2\", \"2\", \"d\", \"d\", \"4\"]\n",
    "s = \"d\"\n",
    "while True:\n",
    "    if s in alist:\n",
    "        alist.remove(s)\n",
    "    else:\n",
    "        break\n",
    "print(alist)"
   ]
  },
  {
   "cell_type": "markdown",
   "id": "d095530f",
   "metadata": {},
   "source": [
    "- 方法2 一次性遍历元素执行删除"
   ]
  },
  {
   "cell_type": "code",
   "execution_count": 1,
   "id": "9ecfe034",
   "metadata": {},
   "outputs": [
    {
     "name": "stdout",
     "output_type": "stream",
     "text": [
      "['2', '2', 'd', 'd', '4']\n"
     ]
    }
   ],
   "source": [
    "alist = [\"d\", \"d\", \"d\", \"2\", \"2\", \"d\", \"d\", \"4\"]\n",
    "for s in alist:\n",
    "    if s == \"d\":\n",
    "        alist.remove(s)     #remove(s)   删除列表中第一次出现的该元素\n",
    "print(alist)"
   ]
  },
  {
   "cell_type": "markdown",
   "id": "1546401d",
   "metadata": {},
   "source": [
    "原因分析：在 for 循环遍历可迭代对象的时候，会先调用可迭代对像的__iter__ 方法，获取对应的迭代器，然后再调用迭代器的__next__方法将值一个个的遍历出来。所以 for i in a，实际上等价于 for i in a.\\_\\_iter\\_\\_()，也就是列表对应的迭代器:\n",
    "\n",
    "```json\n",
    "typedef struct {\n",
    "    PyObject_HEAD\n",
    "    Py_ssize_t it_index;\n",
    "    PyListObject *it_seq; /* Set to NULL when iterator is exhausted */\n",
    "} listiterobject;\n",
    "```\n",
    "对于当前而言，里面的 it_seq 便是指向 \\[\"d\", \"d\", \"d\", \"2\", \"2\", \"d\", \"d\", \"4\"\\] 的指针，it_index 就是索引，遍历的时候实际上就是调用其内部的 \\_\\_next\\_\\_ 方法，在该方法内部会**通过索引 it_index 去获取列表中元素（it_index 带着 i 去找元素）**，每循环一次，it_index 自增 1，当出现索引越界的时候捕获 IndexError，然后 raise StopIteration，再被 for 循环捕获，从而循环结束。\n",
    "\n",
    "因此，分析这段代码 \n",
    "\n",
    "第一次循环：it_index 等于 0，所以 i 等于 \"d\" ，此时remove后，列表就会变成 \\[\"d\", \"d\", \"2\", \"2\", \"d\", \"d\", \"4\"\\]，且 it_index 变成 1。\n",
    "\n",
    "第二次循环：由于 it_index 等于 1，所以 i 等于 \"d\" ，此时remove后，列表就会变成 \\[\"d\", \"2\", \"2\", \"d\", \"d\", \"4\"\\]，且 it_index 变成 2。\n",
    "\n",
    "第三次循环：由于 it_index 等于 2，所以 i 等于 \"2\" ，此时remove后，列表就会变成 \\[\"d\", \"2\", \"d\", \"d\", \"4\"\\]，且 it_index 变成 3。 \n",
    "\n",
    ".......以这种过程进行下去，就产生了错误结果\\['2', '2', 'd', 'd', '4'\\]\n",
    "\n",
    "**总结：it_index 指向的元素与我想要指向的元素不同**\n",
    "\n",
    "解决方法：使用负向索引"
   ]
  },
  {
   "cell_type": "code",
   "execution_count": 2,
   "id": "3512520c",
   "metadata": {},
   "outputs": [
    {
     "name": "stdout",
     "output_type": "stream",
     "text": [
      "['2', '2', '4']\n"
     ]
    }
   ],
   "source": [
    "alist = [\"d\", \"d\", \"d\", \"2\", \"2\", \"d\", \"d\", \"4\"]\n",
    "for i in range(-len(alist), 0):\n",
    "    if alist[i] == \"d\":\n",
    "        alist.remove(alist[i])\n",
    "print(alist)"
   ]
  },
  {
   "cell_type": "markdown",
   "id": "142d38a9",
   "metadata": {},
   "source": [
    "**[例二] 多维列表的创建**"
   ]
  },
  {
   "cell_type": "code",
   "execution_count": 6,
   "id": "a2c9115d",
   "metadata": {},
   "outputs": [
    {
     "data": {
      "text/plain": [
       "[[0, 0, 0, 0, 0, 0, 0, 0, 0, 0],\n",
       " [0, 0, 0, 0, 0, 0, 0, 0, 0, 0],\n",
       " [0, 0, 0, 0, 0, 0, 0, 0, 0, 0],\n",
       " [0, 0, 0, 0, 0, 0, 0, 0, 0, 0],\n",
       " [0, 0, 0, 0, 0, 0, 0, 0, 0, 0]]"
      ]
     },
     "execution_count": 6,
     "metadata": {},
     "output_type": "execute_result"
    }
   ],
   "source": [
    "ls = [[0] * 10] * 5\n",
    "ls"
   ]
  },
  {
   "cell_type": "code",
   "execution_count": 7,
   "id": "a0e5aea7",
   "metadata": {},
   "outputs": [
    {
     "data": {
      "text/plain": [
       "[[1, 0, 0, 0, 0, 0, 0, 0, 0, 0],\n",
       " [1, 0, 0, 0, 0, 0, 0, 0, 0, 0],\n",
       " [1, 0, 0, 0, 0, 0, 0, 0, 0, 0],\n",
       " [1, 0, 0, 0, 0, 0, 0, 0, 0, 0],\n",
       " [1, 0, 0, 0, 0, 0, 0, 0, 0, 0]]"
      ]
     },
     "execution_count": 7,
     "metadata": {},
     "output_type": "execute_result"
    }
   ],
   "source": [
    "ls[0][0] = 1\n",
    "ls"
   ]
  },
  {
   "cell_type": "markdown",
   "id": "4e96f62f",
   "metadata": {},
   "source": [
    "为什么？<br>\n",
    "问题出在 * 5 上，因为 * 运算符相当于浅复制，大列表中的小列表实际上是对同一个列表的n次引用，修改一个小列表中的元素,其余小列表的值都会改变。\n",
    "\n",
    "怎么办？<br>\n",
    "列表推导式\n",
    "\n",
    "## 2. 更加简洁的语法\n",
    "\n",
    "### 2.1. 解析语法"
   ]
  },
  {
   "cell_type": "code",
   "execution_count": 8,
   "id": "c5205c09",
   "metadata": {},
   "outputs": [
    {
     "data": {
      "text/plain": [
       "[[0, 0, 0, 0, 0, 0, 0, 0, 0, 0],\n",
       " [0, 0, 0, 0, 0, 0, 0, 0, 0, 0],\n",
       " [0, 0, 0, 0, 0, 0, 0, 0, 0, 0],\n",
       " [0, 0, 0, 0, 0, 0, 0, 0, 0, 0],\n",
       " [0, 0, 0, 0, 0, 0, 0, 0, 0, 0]]"
      ]
     },
     "execution_count": 8,
     "metadata": {},
     "output_type": "execute_result"
    }
   ],
   "source": [
    "ls = [[0] * 10 for i in range(5)]\n",
    "ls"
   ]
  },
  {
   "cell_type": "code",
   "execution_count": 9,
   "id": "c282f567",
   "metadata": {},
   "outputs": [
    {
     "data": {
      "text/plain": [
       "[[1, 0, 0, 0, 0, 0, 0, 0, 0, 0],\n",
       " [0, 0, 0, 0, 0, 0, 0, 0, 0, 0],\n",
       " [0, 0, 0, 0, 0, 0, 0, 0, 0, 0],\n",
       " [0, 0, 0, 0, 0, 0, 0, 0, 0, 0],\n",
       " [0, 0, 0, 0, 0, 0, 0, 0, 0, 0]]"
      ]
     },
     "execution_count": 9,
     "metadata": {},
     "output_type": "execute_result"
    }
   ],
   "source": [
    "ls[0][0] = 1\n",
    "ls"
   ]
  },
  {
   "cell_type": "markdown",
   "id": "457a586c",
   "metadata": {},
   "source": [
    "#### 1. 解析语法的基本结构——以列表解析为例（也称为列表推导）\n",
    "\n",
    "\\[expression **for value in iterable** if condition\\]\n",
    "\n",
    "- 三要素：表达式，可迭代对象，if条件（可选）\n",
    "\n",
    "**执行过程**\n",
    "\n",
    "（1）从可迭代对象中拿出一个元素\n",
    "\n",
    "（2）通过if条件（如果有的话），对元素进行筛选\n",
    "\n",
    "    若通过筛选：则把元素传递给表达式\n",
    "    \n",
    "    若未通过：则进入（1）步骤，进行下一次迭代\n",
    "    \n",
    "（3）将传递给表达式的元素，代入表达式进行处理，产生一个结果\n",
    "\n",
    "（4）将（3）步产生的结果作为列表的一个元素进行存储\n",
    "\n",
    "（5）重复（1）-（4）步，直至迭代对象迭代结束，返回新创建的列表"
   ]
  },
  {
   "cell_type": "code",
   "execution_count": null,
   "id": "0638f5fd",
   "metadata": {},
   "outputs": [],
   "source": [
    "# 等价于如下代码\n",
    "result = []\n",
    "for value in iterale:\n",
    "    if condition:\n",
    "        result,append(expression)"
   ]
  },
  {
   "cell_type": "markdown",
   "id": "14fc10ae",
   "metadata": {},
   "source": [
    "[例] 求20以内奇数的平方"
   ]
  },
  {
   "cell_type": "code",
   "execution_count": 10,
   "id": "32b35603",
   "metadata": {},
   "outputs": [
    {
     "name": "stdout",
     "output_type": "stream",
     "text": [
      "[1, 9, 25, 49, 81, 121, 169, 225, 289, 361]\n"
     ]
    }
   ],
   "source": [
    "squares = []\n",
    "for i in range(1, 21):\n",
    "    if i % 2 == 1:\n",
    "        squares.append(i ** 2)\n",
    "print(squares)"
   ]
  },
  {
   "cell_type": "code",
   "execution_count": 11,
   "id": "63cf2783",
   "metadata": {},
   "outputs": [
    {
     "name": "stdout",
     "output_type": "stream",
     "text": [
      "[1, 9, 25, 49, 81, 121, 169, 225, 289, 361]\n"
     ]
    }
   ],
   "source": [
    "squares = [i ** 2 for i in range(1, 21) if i % 2 == 1]\n",
    "print(squares)"
   ]
  },
  {
   "cell_type": "markdown",
   "id": "69018298",
   "metadata": {},
   "source": [
    "**支持多变量**"
   ]
  },
  {
   "cell_type": "code",
   "execution_count": 12,
   "id": "c6a3364d",
   "metadata": {},
   "outputs": [
    {
     "data": {
      "text/plain": [
       "[1, 4, 9]"
      ]
     },
     "execution_count": 12,
     "metadata": {},
     "output_type": "execute_result"
    }
   ],
   "source": [
    "x = [1, 2, 3]\n",
    "y = [1, 2, 3]\n",
    "\n",
    "results = [i * j for i, j in zip(x, y)]\n",
    "results"
   ]
  },
  {
   "cell_type": "markdown",
   "id": "58e5d2b8",
   "metadata": {},
   "source": [
    "**支持循环嵌套**"
   ]
  },
  {
   "cell_type": "code",
   "execution_count": 14,
   "id": "4db7227e",
   "metadata": {},
   "outputs": [
    {
     "data": {
      "text/plain": [
       "['black S', 'black M', 'black L', 'white S', 'white M', 'white L']"
      ]
     },
     "execution_count": 14,
     "metadata": {},
     "output_type": "execute_result"
    }
   ],
   "source": [
    "colors = [\"black\", \"white\"]\n",
    "sizes = [\"S\", \"M\", \"L\"]\n",
    "tshirts = [\"{} {}\".format(color, size) for color in colors for size in sizes]\n",
    "tshirts"
   ]
  },
  {
   "cell_type": "markdown",
   "id": "cb4d8d39",
   "metadata": {},
   "source": [
    "#### 2.其他解析语法的例子\n",
    "\n",
    "- 解析语法构造字典（字典推导）"
   ]
  },
  {
   "cell_type": "code",
   "execution_count": 19,
   "id": "04a490c2",
   "metadata": {},
   "outputs": [
    {
     "name": "stdout",
     "output_type": "stream",
     "text": [
      "0 :  0\n",
      "1 :  1\n",
      "2 :  4\n",
      "3 :  9\n",
      "4 :  16\n",
      "5 :  25\n",
      "6 :  36\n",
      "7 :  49\n",
      "8 :  64\n",
      "9 :  81\n"
     ]
    }
   ],
   "source": [
    "squares = {i : i ** 2 for i in range(10)}\n",
    "for k, v in squares.items():\n",
    "    print(k, \": \", v,end = \"\\n\")"
   ]
  },
  {
   "cell_type": "markdown",
   "id": "ca6d8784",
   "metadata": {},
   "source": [
    "- 解析语法构造集合（集合推导）"
   ]
  },
  {
   "cell_type": "code",
   "execution_count": 20,
   "id": "65136167",
   "metadata": {},
   "outputs": [
    {
     "data": {
      "text/plain": [
       "{0, 1, 4, 9, 16, 25, 36, 49, 64, 81}"
      ]
     },
     "execution_count": 20,
     "metadata": {},
     "output_type": "execute_result"
    }
   ],
   "source": [
    "squares = {i ** 2 for i in range(10)}\n",
    "squares"
   ]
  },
  {
   "cell_type": "markdown",
   "id": "04cbea02",
   "metadata": {},
   "source": [
    "- 生成器表达式"
   ]
  },
  {
   "cell_type": "code",
   "execution_count": 22,
   "id": "04e7c6e6",
   "metadata": {},
   "outputs": [
    {
     "data": {
      "text/plain": [
       "<generator object <genexpr> at 0x00000126D161D700>"
      ]
     },
     "execution_count": 22,
     "metadata": {},
     "output_type": "execute_result"
    }
   ],
   "source": [
    "squares = (i ** 2 for i in range(10))\n",
    "squares"
   ]
  },
  {
   "cell_type": "code",
   "execution_count": 25,
   "id": "62b7ca87",
   "metadata": {},
   "outputs": [
    {
     "name": "stdout",
     "output_type": "stream",
     "text": [
      "black S\n",
      "black M\n",
      "black L\n",
      "white S\n",
      "white M\n",
      "white L\n"
     ]
    }
   ],
   "source": [
    "colors = [\"black\", \"white\"]\n",
    "sizes = [\"S\", \"M\", \"L\"]\n",
    "tshirts = (\"{} {}\".format(color, size) for color in colors for size in sizes)\n",
    "for tshirt in tshirts:\n",
    "    print(tshirt)"
   ]
  },
  {
   "cell_type": "markdown",
   "id": "ee71f4b9",
   "metadata": {},
   "source": [
    "### 2.2. 条件表达式\n",
    "    expr1 if condition else expr2\n",
    "\n",
    "[例] 将变量n的绝对值赋值给变量x"
   ]
  },
  {
   "cell_type": "code",
   "execution_count": 1,
   "id": "1f1539c5",
   "metadata": {},
   "outputs": [
    {
     "data": {
      "text/plain": [
       "10"
      ]
     },
     "execution_count": 1,
     "metadata": {},
     "output_type": "execute_result"
    }
   ],
   "source": [
    "n = 10\n",
    "if n >= 0:\n",
    "    x = n\n",
    "else:\n",
    "    x = -n\n",
    "x"
   ]
  },
  {
   "cell_type": "code",
   "execution_count": 2,
   "id": "40483681",
   "metadata": {},
   "outputs": [
    {
     "data": {
      "text/plain": [
       "10"
      ]
     },
     "execution_count": 2,
     "metadata": {},
     "output_type": "execute_result"
    }
   ],
   "source": [
    "n = -10\n",
    "x = n if n>= 0 else -n\n",
    "x"
   ]
  },
  {
   "cell_type": "markdown",
   "id": "3adc43f1",
   "metadata": {},
   "source": [
    "**条件表达式和解析语法简单实用，且运行速度更快**\n",
    "\n",
    "## 3. 三大神器\n",
    "\n",
    "### 3.1. 生成器"
   ]
  },
  {
   "cell_type": "code",
   "execution_count": 3,
   "id": "af049635",
   "metadata": {},
   "outputs": [],
   "source": [
    "ls = [i ** 2 for i in range(1000000)]"
   ]
  },
  {
   "cell_type": "code",
   "execution_count": 4,
   "id": "a5aa870a",
   "metadata": {},
   "outputs": [],
   "source": [
    "for i in ls:\n",
    "    pass"
   ]
  },
  {
   "cell_type": "markdown",
   "id": "6aecdbfa",
   "metadata": {},
   "source": [
    "缺点：占用大量内存\n",
    "\n",
    "**生成器**\n",
    "\n",
    "（1）采用惰性计算的方式\n",
    "（2）无需一次性存储海量数据\n",
    "（3）一边执行一边计算，只计算每次需要的值\n",
    "（4）实际上一直在执行next()操作，直到无值可取\n",
    "\n",
    "#### 1. 生成器的表达式\n",
    "\n",
    "- 海量数据，不许存储"
   ]
  },
  {
   "cell_type": "code",
   "execution_count": 5,
   "id": "b57b60b8",
   "metadata": {},
   "outputs": [],
   "source": [
    "squares = (i ** 2 for i in range(1000000))"
   ]
  },
  {
   "cell_type": "code",
   "execution_count": 6,
   "id": "0c098241",
   "metadata": {},
   "outputs": [],
   "source": [
    "for i in squares:\n",
    "    pass"
   ]
  },
  {
   "cell_type": "markdown",
   "id": "03470404",
   "metadata": {},
   "source": [
    "- 求0-100的和\n",
    "\n",
    "无需显式存储全部的数据，节省内存"
   ]
  },
  {
   "cell_type": "code",
   "execution_count": 7,
   "id": "2cf7f3b0",
   "metadata": {},
   "outputs": [
    {
     "data": {
      "text/plain": [
       "5050"
      ]
     },
     "execution_count": 7,
     "metadata": {},
     "output_type": "execute_result"
    }
   ],
   "source": [
    "sum((i for i in range(101)))"
   ]
  },
  {
   "cell_type": "markdown",
   "id": "d429b226",
   "metadata": {},
   "source": [
    "#### 2. 生成器函数——yield\n",
    "\n",
    "- 生成斐波拉契数列\n",
    "\n",
    "数列前两个元素为1，1之后的元素为其前两个元素之和"
   ]
  },
  {
   "cell_type": "code",
   "execution_count": 8,
   "id": "9983bd38",
   "metadata": {},
   "outputs": [
    {
     "data": {
      "text/plain": [
       "[1, 1, 2, 3, 5, 8, 13, 21, 34, 55]"
      ]
     },
     "execution_count": 8,
     "metadata": {},
     "output_type": "execute_result"
    }
   ],
   "source": [
    "def fib(max):\n",
    "    ls = []\n",
    "    n, a, b = 0, 1, 1\n",
    "    while n < max:\n",
    "        ls.append(a)\n",
    "        a, b = b, a + b\n",
    "        n = n + 1\n",
    "    return ls\n",
    "\n",
    "\n",
    "fib(10)"
   ]
  },
  {
   "cell_type": "markdown",
   "id": "5d69a47a",
   "metadata": {},
   "source": [
    "中间尝试："
   ]
  },
  {
   "cell_type": "code",
   "execution_count": 9,
   "id": "027402b5",
   "metadata": {},
   "outputs": [
    {
     "name": "stdout",
     "output_type": "stream",
     "text": [
      "1\n",
      "1\n",
      "2\n",
      "3\n",
      "5\n",
      "8\n",
      "13\n",
      "21\n",
      "34\n",
      "55\n"
     ]
    }
   ],
   "source": [
    "def fib(max):\n",
    "    n, a, b = 0, 1, 1\n",
    "    while n < max:\n",
    "        print(a)\n",
    "        a, b = b, a + b\n",
    "        n = n + 1\n",
    "\n",
    "fib(10)"
   ]
  },
  {
   "cell_type": "markdown",
   "id": "bf23eaee",
   "metadata": {},
   "source": [
    "构造生成器函数——yield\n",
    "\n",
    "在每次调用next()的时候执行，遇到yield语句返回，再次执行时从上次返回的yield语句处继续执行"
   ]
  },
  {
   "cell_type": "code",
   "execution_count": 1,
   "id": "3e6f08b3",
   "metadata": {},
   "outputs": [
    {
     "data": {
      "text/plain": [
       "<generator object fib at 0x000001269A7CDE00>"
      ]
     },
     "execution_count": 1,
     "metadata": {},
     "output_type": "execute_result"
    }
   ],
   "source": [
    "def fib(max):\n",
    "    n, a, b = 0, 1, 1\n",
    "    while n < max:\n",
    "        yield a\n",
    "        a, b = b, a + b\n",
    "        n = n + 1\n",
    "        \n",
    "fib(10)"
   ]
  },
  {
   "cell_type": "code",
   "execution_count": 3,
   "id": "cd372c8f",
   "metadata": {},
   "outputs": [
    {
     "name": "stdout",
     "output_type": "stream",
     "text": [
      "1\n",
      "1\n",
      "2\n",
      "3\n",
      "5\n",
      "8\n",
      "13\n",
      "21\n",
      "34\n",
      "55\n"
     ]
    }
   ],
   "source": [
    "for i in fib(10):\n",
    "    print(i)"
   ]
  },
  {
   "cell_type": "markdown",
   "id": "1fbffc42",
   "metadata": {},
   "source": [
    "### 3.2. 可迭代对象\n",
    "\n",
    "#### 1. 可迭代对象\n",
    "\n",
    "可直接作用于for循环的对象统称为可迭代对象：iterable\n",
    "\n",
    "**（1）列表，元组，字符串，字典，集合，文件**\n",
    "\n",
    "可以使用isinstance()判断一个对象是否是iterable对象"
   ]
  },
  {
   "cell_type": "code",
   "execution_count": 5,
   "id": "d0390e9a",
   "metadata": {
    "scrolled": false
   },
   "outputs": [
    {
     "data": {
      "text/plain": [
       "True"
      ]
     },
     "execution_count": 5,
     "metadata": {},
     "output_type": "execute_result"
    }
   ],
   "source": [
    "from collections.abc import Iterable\n",
    "\n",
    "isinstance([1, 2, 3], Iterable)"
   ]
  },
  {
   "cell_type": "code",
   "execution_count": 6,
   "id": "8062f8fc",
   "metadata": {},
   "outputs": [
    {
     "data": {
      "text/plain": [
       "True"
      ]
     },
     "execution_count": 6,
     "metadata": {},
     "output_type": "execute_result"
    }
   ],
   "source": [
    "isinstance({\"name\": \"Sarah\"}, Iterable)"
   ]
  },
  {
   "cell_type": "code",
   "execution_count": 7,
   "id": "47e7ff91",
   "metadata": {},
   "outputs": [
    {
     "data": {
      "text/plain": [
       "True"
      ]
     },
     "execution_count": 7,
     "metadata": {},
     "output_type": "execute_result"
    }
   ],
   "source": [
    "isinstance('Python', Iterable)"
   ]
  },
  {
   "cell_type": "markdown",
   "id": "a3619706",
   "metadata": {},
   "source": [
    "（2）生成器"
   ]
  },
  {
   "cell_type": "code",
   "execution_count": 9,
   "id": "198121b3",
   "metadata": {},
   "outputs": [
    {
     "data": {
      "text/plain": [
       "True"
      ]
     },
     "execution_count": 9,
     "metadata": {},
     "output_type": "execute_result"
    }
   ],
   "source": [
    "squares = (i ** 2 for i in range(3))\n",
    "isinstance(squares, Iterable)"
   ]
  },
  {
   "cell_type": "code",
   "execution_count": 10,
   "id": "ffad33a2",
   "metadata": {},
   "outputs": [
    {
     "name": "stdout",
     "output_type": "stream",
     "text": [
      "0\n",
      "1\n",
      "4\n"
     ]
    }
   ],
   "source": [
    "print(next(squares))\n",
    "print(next(squares))\n",
    "print(next(squares))"
   ]
  },
  {
   "cell_type": "markdown",
   "id": "30b6a76c",
   "metadata": {},
   "source": [
    "直到没有数据可取，抛出Stoplteration"
   ]
  },
  {
   "cell_type": "code",
   "execution_count": 11,
   "id": "0a58797e",
   "metadata": {},
   "outputs": [
    {
     "ename": "StopIteration",
     "evalue": "",
     "output_type": "error",
     "traceback": [
      "\u001b[1;31m---------------------------------------------------------------------------\u001b[0m",
      "\u001b[1;31mStopIteration\u001b[0m                             Traceback (most recent call last)",
      "Cell \u001b[1;32mIn[11], line 1\u001b[0m\n\u001b[1;32m----> 1\u001b[0m \u001b[38;5;28mprint\u001b[39m(\u001b[38;5;28mnext\u001b[39m(squares))\n",
      "\u001b[1;31mStopIteration\u001b[0m: "
     ]
    }
   ],
   "source": [
    "print(next(squares))"
   ]
  },
  {
   "cell_type": "markdown",
   "id": "01183270",
   "metadata": {},
   "source": [
    "可以被next()函数调用不断返回下一个值，直至没有数据可取得对象称为迭代器：Iterator"
   ]
  },
  {
   "cell_type": "markdown",
   "id": "abc6d762",
   "metadata": {},
   "source": [
    "#### 迭代器\n",
    "\n",
    "可以使用isinstance()判断一个对象是否是Iterator对象\n",
    "\n",
    "**（1）生成器都是迭代器**"
   ]
  },
  {
   "cell_type": "code",
   "execution_count": 2,
   "id": "fc20e9bc",
   "metadata": {},
   "outputs": [
    {
     "data": {
      "text/plain": [
       "True"
      ]
     },
     "execution_count": 2,
     "metadata": {},
     "output_type": "execute_result"
    }
   ],
   "source": [
    "from collections.abc import Iterator\n",
    "\n",
    "squares = (i ** 2 for i in range(5))\n",
    "isinstance(squares, Iterator)"
   ]
  },
  {
   "cell_type": "markdown",
   "id": "d4edf571",
   "metadata": {},
   "source": [
    "**（2）列表，元组，字符串，字典，集合不是迭代器**"
   ]
  },
  {
   "cell_type": "code",
   "execution_count": 15,
   "id": "77182543",
   "metadata": {},
   "outputs": [
    {
     "data": {
      "text/plain": [
       "False"
      ]
     },
     "execution_count": 15,
     "metadata": {},
     "output_type": "execute_result"
    }
   ],
   "source": [
    "isinstance([1, 2, 3], Iterator)"
   ]
  },
  {
   "cell_type": "markdown",
   "id": "573fad61",
   "metadata": {},
   "source": [
    "可以通过iter(iterable)创建迭代器"
   ]
  },
  {
   "cell_type": "code",
   "execution_count": 16,
   "id": "0b3c28db",
   "metadata": {},
   "outputs": [
    {
     "data": {
      "text/plain": [
       "True"
      ]
     },
     "execution_count": 16,
     "metadata": {},
     "output_type": "execute_result"
    }
   ],
   "source": [
    "isinstance(iter([1, 2, 3]), Iterator)"
   ]
  },
  {
   "cell_type": "markdown",
   "id": "317ff707",
   "metadata": {},
   "source": [
    "for item in iterable 等价于：\n",
    "    \n",
    "    先通过iter()函数获取可迭代对象Iterbale的迭代器\n",
    "    \n",
    "    然后对获取到的迭代器不断调用next()方法来获取下一个值并将其赋值给item\n",
    "    \n",
    "    当遇到StopIteration的异常后循环结束"
   ]
  },
  {
   "cell_type": "markdown",
   "id": "25196e82",
   "metadata": {},
   "source": [
    "**（3）zip enumerate 等itertools里的函数是迭代器**"
   ]
  },
  {
   "cell_type": "code",
   "execution_count": 1,
   "id": "9b393ce5",
   "metadata": {},
   "outputs": [
    {
     "data": {
      "text/plain": [
       "<zip at 0x213f98c1500>"
      ]
     },
     "execution_count": 1,
     "metadata": {},
     "output_type": "execute_result"
    }
   ],
   "source": [
    "x = [1, 2]\n",
    "y = [\"a\", \"b\"]\n",
    "zip(x, y)"
   ]
  },
  {
   "cell_type": "code",
   "execution_count": 4,
   "id": "3e9f4c71",
   "metadata": {},
   "outputs": [
    {
     "name": "stdout",
     "output_type": "stream",
     "text": [
      "(1, 'a')\n",
      "(2, 'b')\n"
     ]
    },
    {
     "data": {
      "text/plain": [
       "True"
      ]
     },
     "execution_count": 4,
     "metadata": {},
     "output_type": "execute_result"
    }
   ],
   "source": [
    "for i in zip(x, y):\n",
    "    print(i)\n",
    "    \n",
    "isinstance(zip(x, y),Iterator)"
   ]
  },
  {
   "cell_type": "code",
   "execution_count": 5,
   "id": "3d8e78bf",
   "metadata": {},
   "outputs": [
    {
     "data": {
      "text/plain": [
       "<enumerate at 0x213f98cbe70>"
      ]
     },
     "execution_count": 5,
     "metadata": {},
     "output_type": "execute_result"
    }
   ],
   "source": [
    "numbers = [1, 2, 3, 4, 5]\n",
    "enumerate(numbers)"
   ]
  },
  {
   "cell_type": "code",
   "execution_count": 6,
   "id": "d2203933",
   "metadata": {},
   "outputs": [
    {
     "name": "stdout",
     "output_type": "stream",
     "text": [
      "(0, 1)\n",
      "(1, 2)\n",
      "(2, 3)\n",
      "(3, 4)\n",
      "(4, 5)\n"
     ]
    },
    {
     "data": {
      "text/plain": [
       "True"
      ]
     },
     "execution_count": 6,
     "metadata": {},
     "output_type": "execute_result"
    }
   ],
   "source": [
    "for i in enumerate(numbers):\n",
    "    print(i)\n",
    "isinstance(enumerate(numbers),Iterator)"
   ]
  },
  {
   "cell_type": "markdown",
   "id": "39730621",
   "metadata": {},
   "source": [
    "**（4）文件是迭代器**"
   ]
  },
  {
   "cell_type": "code",
   "execution_count": 3,
   "id": "f6e8f517",
   "metadata": {},
   "outputs": [
    {
     "name": "stdout",
     "output_type": "stream",
     "text": [
      "True\n"
     ]
    }
   ],
   "source": [
    "with open(\".\\\\图片等杂项\\\\测试文件.txt\", \"r\", encoding = \"utf-8\") as f:\n",
    "    print(isinstance(f, Iterator))"
   ]
  },
  {
   "cell_type": "markdown",
   "id": "37d09a51",
   "metadata": {},
   "source": [
    "**（5）迭代器是可耗尽的**"
   ]
  },
  {
   "cell_type": "code",
   "execution_count": 9,
   "id": "bbad6be5",
   "metadata": {},
   "outputs": [
    {
     "name": "stdout",
     "output_type": "stream",
     "text": [
      "0\n",
      "1\n",
      "4\n",
      "9\n",
      "16\n"
     ]
    }
   ],
   "source": [
    "squares = (i ** 2 for i in range(5))\n",
    "for square in squares:\n",
    "    print(square)"
   ]
  },
  {
   "cell_type": "code",
   "execution_count": 10,
   "id": "ebb0d3aa",
   "metadata": {},
   "outputs": [],
   "source": [
    "for square in squares:\n",
    "    print(square)"
   ]
  },
  {
   "cell_type": "markdown",
   "id": "b3027d03",
   "metadata": {},
   "source": [
    "（6）range()不是迭代器"
   ]
  },
  {
   "cell_type": "code",
   "execution_count": 11,
   "id": "a81f8a0c",
   "metadata": {},
   "outputs": [
    {
     "data": {
      "text/plain": [
       "False"
      ]
     },
     "execution_count": 11,
     "metadata": {},
     "output_type": "execute_result"
    }
   ],
   "source": [
    "numbers = range(10)\n",
    "isinstance(numbers, Iterator)"
   ]
  },
  {
   "cell_type": "code",
   "execution_count": 15,
   "id": "cc53534b",
   "metadata": {},
   "outputs": [
    {
     "name": "stdout",
     "output_type": "stream",
     "text": [
      "10\n",
      "0\n",
      "True\n"
     ]
    },
    {
     "ename": "TypeError",
     "evalue": "'range' object is not an iterator",
     "output_type": "error",
     "traceback": [
      "\u001b[1;31m---------------------------------------------------------------------------\u001b[0m",
      "\u001b[1;31mTypeError\u001b[0m                                 Traceback (most recent call last)",
      "Cell \u001b[1;32mIn[15], line 5\u001b[0m\n\u001b[0;32m      3\u001b[0m \u001b[38;5;28mprint\u001b[39m(\u001b[38;5;241m9\u001b[39m \u001b[38;5;129;01min\u001b[39;00m numbers)     \u001b[38;5;66;03m#可存在计算\u001b[39;00m\n\u001b[0;32m      4\u001b[0m \u001b[38;5;66;03m#以上这些迭代器都做不到\u001b[39;00m\n\u001b[1;32m----> 5\u001b[0m \u001b[38;5;28mnext\u001b[39m(numbers)\n",
      "\u001b[1;31mTypeError\u001b[0m: 'range' object is not an iterator"
     ]
    }
   ],
   "source": [
    "print(len(numbers))     #有长度\n",
    "print(numbers[0])       #可索引\n",
    "print(9 in numbers)     #可存在计算\n",
    "#以上这些迭代器都做不到\n",
    "next(numbers)           #不可被next()调用"
   ]
  },
  {
   "cell_type": "code",
   "execution_count": 16,
   "id": "de3876d5",
   "metadata": {},
   "outputs": [
    {
     "name": "stdout",
     "output_type": "stream",
     "text": [
      "0\n",
      "1\n",
      "2\n",
      "3\n",
      "4\n",
      "5\n",
      "6\n",
      "7\n",
      "8\n",
      "9\n"
     ]
    }
   ],
   "source": [
    "for number in numbers:\n",
    "    print(number)"
   ]
  },
  {
   "cell_type": "markdown",
   "id": "8cae4329",
   "metadata": {},
   "source": [
    "不会被耗尽"
   ]
  },
  {
   "cell_type": "code",
   "execution_count": 17,
   "id": "293f3361",
   "metadata": {},
   "outputs": [
    {
     "name": "stdout",
     "output_type": "stream",
     "text": [
      "0\n",
      "1\n",
      "2\n",
      "3\n",
      "4\n",
      "5\n",
      "6\n",
      "7\n",
      "8\n",
      "9\n"
     ]
    }
   ],
   "source": [
    "for number in numbers:\n",
    "    print(number)"
   ]
  },
  {
   "cell_type": "markdown",
   "id": "2c65cab6",
   "metadata": {},
   "source": [
    "可以称range()为懒序列\n",
    "\n",
    "    它是一种序列\n",
    "    \n",
    "    但并不包含任何内存中的内容\n",
    "    \n",
    "    而是通过计算来回答问题\n",
    "<br><br>    \n",
    "可迭代对象，迭代器，生成器关系图\n",
    "![关系图](./图片等杂项/关系图.png \"关系图\")\n",
    "\n",
    "<br>\n",
    "\n",
    "**三者概念与关系详解见——**[详解](https://www.zhihu.com/question/20829330/answer/2320711618)"
   ]
  },
  {
   "cell_type": "markdown",
   "id": "43cd2c06",
   "metadata": {},
   "source": [
    "### 3. 装饰器\n",
    "\n",
    "#### 1. 需求的提出\n",
    "\n",
    "（1）需要对已开发上线的程序添加某些功能\n",
    "\n",
    "（2）不能对程序中函数的源代码进行修改\n",
    "\n",
    "（3）不能改变程序中函数的调用方式\n",
    "\n",
    "**比如说，要统计每个函数的运行时间**"
   ]
  },
  {
   "cell_type": "code",
   "execution_count": 19,
   "id": "421123d3",
   "metadata": {},
   "outputs": [],
   "source": [
    "def f1():\n",
    "    pass\n",
    "\n",
    "def f2():\n",
    "    pass\n",
    "\n",
    "def f3():\n",
    "    pass\n",
    "\n",
    "f1()\n",
    "f2()\n",
    "f3()"
   ]
  },
  {
   "cell_type": "markdown",
   "id": "22a128c8",
   "metadata": {},
   "source": [
    "不希望修改函数源代码，也不希望函数调用方式发生改变——使用装饰器\n",
    "\n",
    "#### 2. 函数对象\n",
    "\n",
    "函数是Python中的第一类对象\n",
    "\n",
    "（1）可以把函数赋值给变量\n",
    "\n",
    "（2）对该变量进行调用，实现原函数的功能"
   ]
  },
  {
   "cell_type": "code",
   "execution_count": 20,
   "id": "d5fa4b20",
   "metadata": {},
   "outputs": [
    {
     "name": "stdout",
     "output_type": "stream",
     "text": [
      "<class 'function'>\n"
     ]
    }
   ],
   "source": [
    "def square(x):\n",
    "    return x ** 2\n",
    "\n",
    "print(type(square))      #square 是 function类的一个实例"
   ]
  },
  {
   "cell_type": "code",
   "execution_count": 23,
   "id": "661f3cdf",
   "metadata": {},
   "outputs": [
    {
     "name": "stdout",
     "output_type": "stream",
     "text": [
      "25\n",
      "25\n"
     ]
    }
   ],
   "source": [
    "pow_2 = square      #可以理解成给这个函数起了个别名\n",
    "print(pow_2(5))\n",
    "print(square(5))"
   ]
  },
  {
   "cell_type": "markdown",
   "id": "705e7c46",
   "metadata": {},
   "source": [
    "可以将函数作为参数进行传递\n",
    "\n",
    "#### 高阶函数\n",
    "\n",
    "（1）接收函数作为参数\n",
    "\n",
    "（2）或者返回一个函数\n",
    "\n",
    "**满足上述条件之一的函数称之为高阶函数**"
   ]
  },
  {
   "cell_type": "code",
   "execution_count": 24,
   "id": "cb5e003e",
   "metadata": {},
   "outputs": [
    {
     "data": {
      "text/plain": [
       "64"
      ]
     },
     "execution_count": 24,
     "metadata": {},
     "output_type": "execute_result"
    }
   ],
   "source": [
    "def square(x):\n",
    "    return x ** 2\n",
    "\n",
    "def pow_2(fun):  \n",
    "    return fun    #高阶函数\n",
    "\n",
    "f = pow_2(square)\n",
    "f(8)"
   ]
  },
  {
   "cell_type": "code",
   "execution_count": 25,
   "id": "66f02116",
   "metadata": {},
   "outputs": [
    {
     "name": "stdout",
     "output_type": "stream",
     "text": [
      "True\n"
     ]
    }
   ],
   "source": [
    "print(f == square)"
   ]
  },
  {
   "cell_type": "markdown",
   "id": "eeccd744",
   "metadata": {},
   "source": [
    "#### 4. 嵌套函数\n",
    "\n",
    "**在函数内部定义一个函数**"
   ]
  },
  {
   "cell_type": "code",
   "execution_count": 26,
   "id": "83c3190f",
   "metadata": {},
   "outputs": [
    {
     "name": "stdout",
     "output_type": "stream",
     "text": [
      "outer is running\n",
      "inner is running\n"
     ]
    }
   ],
   "source": [
    "def outer():\n",
    "    print(\"outer is running\")\n",
    "    \n",
    "    def inner():\n",
    "        print(\"inner is running\")\n",
    "        \n",
    "    inner()\n",
    "    \n",
    "outer()"
   ]
  },
  {
   "cell_type": "markdown",
   "id": "1a63a0c5",
   "metadata": {},
   "source": [
    "#### 5. 闭包"
   ]
  },
  {
   "cell_type": "code",
   "execution_count": 27,
   "id": "e57f3645",
   "metadata": {},
   "outputs": [
    {
     "name": "stdout",
     "output_type": "stream",
     "text": [
      "<function outer.<locals>.inner at 0x00000213FB9D0C20>\n"
     ]
    }
   ],
   "source": [
    "def outer():\n",
    "    x = 1\n",
    "    z = 10\n",
    "    \n",
    "    def inner():\n",
    "        y = x + 100\n",
    "        return y, z\n",
    "    \n",
    "    return inner\n",
    "\n",
    "f = outer()       # 实际上f包含了inner函数本身 + outer函数的环境\n",
    "print(f)"
   ]
  },
  {
   "cell_type": "code",
   "execution_count": 28,
   "id": "05bfdab1",
   "metadata": {},
   "outputs": [
    {
     "name": "stdout",
     "output_type": "stream",
     "text": [
      "(<cell at 0x00000213FB9008B0: int object at 0x00007FFE40A3C328>, <cell at 0x00000213FB9BB880: int object at 0x00007FFE40A3C448>)\n",
      "1\n",
      "10\n"
     ]
    }
   ],
   "source": [
    "print(f.__closure__)     #__closure__属性中包含了来自外部函数的信息\n",
    "for i in f.__closure__:\n",
    "    print(i.cell_contents)"
   ]
  },
  {
   "cell_type": "code",
   "execution_count": 29,
   "id": "baf9f35e",
   "metadata": {},
   "outputs": [
    {
     "name": "stdout",
     "output_type": "stream",
     "text": [
      "(101, 10)\n"
     ]
    }
   ],
   "source": [
    "res = f()\n",
    "print(res)"
   ]
  },
  {
   "cell_type": "markdown",
   "id": "e560f5e3",
   "metadata": {},
   "source": [
    "**闭包：延伸了作用域的函数** \n",
    "\n",
    "**如果一个函数定义在另一个函数的作用域内，并且引用了外层函数的变量，则该函数称为闭包** \n",
    "\n",
    "**闭包是由函数及其相关的引用环境组合而成的实体（即：闭包 = 函数 + 引用环境**\n",
    "\n",
    "- 一旦在内层函数重新定义了相同名字的变量，则变量成为局部变量"
   ]
  },
  {
   "cell_type": "code",
   "execution_count": 33,
   "id": "4f925136",
   "metadata": {},
   "outputs": [
    {
     "ename": "UnboundLocalError",
     "evalue": "cannot access local variable 'x' where it is not associated with a value",
     "output_type": "error",
     "traceback": [
      "\u001b[1;31m---------------------------------------------------------------------------\u001b[0m",
      "\u001b[1;31mUnboundLocalError\u001b[0m                         Traceback (most recent call last)",
      "Cell \u001b[1;32mIn[33], line 11\u001b[0m\n\u001b[0;32m      8\u001b[0m     \u001b[38;5;28;01mreturn\u001b[39;00m inner\n\u001b[0;32m     10\u001b[0m f \u001b[38;5;241m=\u001b[39m outer()\n\u001b[1;32m---> 11\u001b[0m f()\n",
      "Cell \u001b[1;32mIn[33], line 5\u001b[0m, in \u001b[0;36mouter.<locals>.inner\u001b[1;34m()\u001b[0m\n\u001b[0;32m      4\u001b[0m \u001b[38;5;28;01mdef\u001b[39;00m \u001b[38;5;21minner\u001b[39m():\n\u001b[1;32m----> 5\u001b[0m     x \u001b[38;5;241m=\u001b[39m x \u001b[38;5;241m+\u001b[39m \u001b[38;5;241m100\u001b[39m     \u001b[38;5;66;03m# x在内层重新定义，变成了局部变量，运行会报错，找不到x的值\u001b[39;00m\n\u001b[0;32m      6\u001b[0m     \u001b[38;5;28;01mreturn\u001b[39;00m x\n",
      "\u001b[1;31mUnboundLocalError\u001b[0m: cannot access local variable 'x' where it is not associated with a value"
     ]
    }
   ],
   "source": [
    "def outer():\n",
    "    x = 1\n",
    "    \n",
    "    def inner():\n",
    "        x = x + 100     # x在内层重新定义，变成了局部变量，运行会报错，找不到x的值\n",
    "        return x\n",
    "    \n",
    "    return inner\n",
    "\n",
    "f = outer()\n",
    "f()"
   ]
  },
  {
   "cell_type": "markdown",
   "id": "915bbed7",
   "metadata": {},
   "source": [
    "nonlocal允许内嵌的函数来修改闭包变量"
   ]
  },
  {
   "cell_type": "code",
   "execution_count": 34,
   "id": "4e04c958",
   "metadata": {},
   "outputs": [
    {
     "data": {
      "text/plain": [
       "101"
      ]
     },
     "execution_count": 34,
     "metadata": {},
     "output_type": "execute_result"
    }
   ],
   "source": [
    "def outer():\n",
    "    x = 1\n",
    "    \n",
    "    def inner():\n",
    "        nonlocal x    \n",
    "        x = x + 100     \n",
    "        return x\n",
    "    \n",
    "    return inner\n",
    "\n",
    "f = outer()\n",
    "f()"
   ]
  },
  {
   "cell_type": "markdown",
   "id": "dde12a3b",
   "metadata": {},
   "source": [
    "#### 6. 一个简单的装饰器\n",
    "\n",
    "**嵌套函数的实现**"
   ]
  },
  {
   "cell_type": "code",
   "execution_count": 2,
   "id": "a92e6e92",
   "metadata": {},
   "outputs": [
    {
     "name": "stdout",
     "output_type": "stream",
     "text": [
      "inner run\n",
      "f1 run\n",
      "f1 函数运行用时1.00秒\n"
     ]
    }
   ],
   "source": [
    "import time\n",
    "\n",
    "def timer(func):\n",
    "    \n",
    "    def inner():\n",
    "        print(\"inner run\")\n",
    "        start = time.time()\n",
    "        func()\n",
    "        end = time.time()\n",
    "        print(\"{} 函数运行用时{:.2f}秒\".format(func.__name__, (end - start)))\n",
    "        \n",
    "    return inner\n",
    "\n",
    "def f1():\n",
    "    print(\"f1 run\")\n",
    "    time.sleep(1)\n",
    "    \n",
    "f1 = timer(f1)       # 包含inner()和timer()的环境，如传递过来的参数\n",
    "f1()    "
   ]
  },
  {
   "cell_type": "markdown",
   "id": "c2f2d181",
   "metadata": {},
   "source": [
    "**语法糖**"
   ]
  },
  {
   "cell_type": "code",
   "execution_count": 3,
   "id": "ffe028f5",
   "metadata": {},
   "outputs": [
    {
     "name": "stdout",
     "output_type": "stream",
     "text": [
      "inner run\n",
      "f1 run\n",
      "f1 函数运行用时1.00秒\n"
     ]
    }
   ],
   "source": [
    "import time\n",
    "\n",
    "def timer(func):\n",
    "    \n",
    "    def inner():\n",
    "        print(\"inner run\")\n",
    "        start = time.time()\n",
    "        func()\n",
    "        end = time.time()\n",
    "        print(\"{} 函数运行用时{:.2f}秒\".format(func.__name__, (end - start)))\n",
    "        \n",
    "    return inner\n",
    "\n",
    "@timer          #相当于实现了f1 = timer(f1)\n",
    "def f1():\n",
    "    print(\"f1 run\")\n",
    "    time.sleep(1)\n",
    "    \n",
    "    \n",
    "f1()"
   ]
  },
  {
   "cell_type": "markdown",
   "id": "18bd45b2",
   "metadata": {},
   "source": [
    "#### 7. 装饰有参函数"
   ]
  },
  {
   "cell_type": "code",
   "execution_count": 5,
   "id": "f437af5d",
   "metadata": {},
   "outputs": [
    {
     "name": "stdout",
     "output_type": "stream",
     "text": [
      "inner run\n",
      "f1 run\n",
      "f1 函数运行用时1.00秒\n"
     ]
    }
   ],
   "source": [
    "import time\n",
    "\n",
    "def timer(func):\n",
    "    \n",
    "    def inner(*args, **kwargs):\n",
    "        print(\"inner run\")\n",
    "        start = time.time()\n",
    "        func(*args, **kwargs)\n",
    "        end = time.time()\n",
    "        print(\"{} 函数运行用时{:.2f}秒\".format(func.__name__, (end - start)))\n",
    "        \n",
    "    return inner\n",
    "\n",
    "@timer\n",
    "def f1(n):\n",
    "    print(\"f1 run\")\n",
    "    time.sleep(1)\n",
    "    \n",
    "f1(2)"
   ]
  },
  {
   "cell_type": "markdown",
   "id": "450f2ba2",
   "metadata": {},
   "source": [
    "被装饰函数有返回值"
   ]
  },
  {
   "cell_type": "code",
   "execution_count": 3,
   "id": "2646056d",
   "metadata": {},
   "outputs": [
    {
     "name": "stdout",
     "output_type": "stream",
     "text": [
      "inner run\n",
      "f1 run\n",
      "f1 函数运行用时1.00秒\n",
      "wake up\n"
     ]
    }
   ],
   "source": [
    "import time\n",
    "\n",
    "def timer(func):\n",
    "    \n",
    "    def inner(*args, **kwargs):\n",
    "        print(\"inner run\")\n",
    "        start = time.time()\n",
    "        res = func(*args, **kwargs)\n",
    "        end = time.time()\n",
    "        print(\"{} 函数运行用时{:.2f}秒\".format(func.__name__, (end - start)))\n",
    "        return res\n",
    "    \n",
    "    return inner\n",
    "\n",
    "@timer\n",
    "def f1(n):\n",
    "    print(\"f1 run\")\n",
    "    time.sleep(1)\n",
    "    return \"wake up\"\n",
    "    \n",
    "res = f1(2)\n",
    "print(res)"
   ]
  },
  {
   "cell_type": "markdown",
   "id": "e40a2796",
   "metadata": {},
   "source": [
    "#### 8. 带参数的装饰器\n",
    "\n",
    "装饰器本身要传递一些额外的参数\n",
    "\n",
    "- 需求：有时需要统计绝对时间，有时需要统计绝对时间的2倍"
   ]
  },
  {
   "cell_type": "code",
   "execution_count": 7,
   "id": "0726ae0e",
   "metadata": {},
   "outputs": [
    {
     "name": "stdout",
     "output_type": "stream",
     "text": [
      "inner run\n",
      "origin_inner run\n",
      "f1 run\n",
      "f1 函数运行时间 1.00秒\n",
      "inner run\n",
      "double_inner run\n",
      "f2 run\n",
      "f2 函数运行时间 1.00秒\n"
     ]
    }
   ],
   "source": [
    "def timer(method):\n",
    "    \n",
    "    def outer(func):\n",
    "        \n",
    "        def inner(*args, **kwargs):\n",
    "            print(\"inner run\")\n",
    "            if method == \"origin\":\n",
    "                print(\"origin_inner run\")\n",
    "                start = time.time()\n",
    "                res = func(*args, **kwargs)\n",
    "                end = time.time()\n",
    "                print(\"{} 函数运行时间 {:.2f}秒\".format(func.__name__, (end - start)))\n",
    "            elif method == \"double\":\n",
    "                print(\"double_inner run\")\n",
    "                start = time.time()\n",
    "                res = func(*args, **kwargs)\n",
    "                end = time.time()\n",
    "                print(\"{} 函数运行时间 {:.2f}秒\".format(func.__name__, (end - start)))\n",
    "            return res\n",
    "        \n",
    "        return inner\n",
    "    \n",
    "    return outer  #传给装饰函数参数后，返回一个内层函数，再用这个内层函数进行修饰\n",
    "\n",
    "@timer(method = \"origin\")   #相当于timer = timer(method = \"origin\")   f1 = timer(f1)\n",
    "def f1():\n",
    "    print(\"f1 run\")\n",
    "    time.sleep(1)\n",
    "\n",
    "@timer(method = \"double\")\n",
    "def f2():\n",
    "    print(\"f2 run\")\n",
    "    time.sleep(1)\n",
    "    \n",
    "    \n",
    "f1()\n",
    "f2()"
   ]
  },
  {
   "cell_type": "markdown",
   "id": "afb68402",
   "metadata": {},
   "source": [
    "**理解闭包！——作用域的延伸**\n",
    "\n",
    "#### 9. 何时执行装饰器\n",
    "\n",
    "- 一装饰就执行，不必等调用"
   ]
  },
  {
   "cell_type": "code",
   "execution_count": 9,
   "id": "9b279518",
   "metadata": {},
   "outputs": [
    {
     "name": "stdout",
     "output_type": "stream",
     "text": [
      "run\n",
      "run\n",
      "run\n",
      "f1 run\n",
      "f2 run\n",
      "f3 run\n"
     ]
    }
   ],
   "source": [
    "func_names = []\n",
    "def find_function(func):\n",
    "    print(\"run\")\n",
    "    func_names.append(func)\n",
    "    return func\n",
    "\n",
    "@find_function\n",
    "def f1():\n",
    "    print(\"f1 run\")\n",
    "    \n",
    "@find_function\n",
    "def f2():\n",
    "    print(\"f2 run\")\n",
    "    \n",
    "@find_function\n",
    "def f3():\n",
    "    print(\"f3 run\")\n",
    "    \n",
    "    \n",
    "#for func in func_names:\n",
    "    #func()"
   ]
  },
  {
   "cell_type": "markdown",
   "id": "27718351",
   "metadata": {},
   "source": [
    "#### 10.回归本源\n",
    "\n",
    "- 原函数的属性被掩盖了，用起装饰作用的函数覆盖原函数"
   ]
  },
  {
   "cell_type": "code",
   "execution_count": 15,
   "id": "badfda83",
   "metadata": {},
   "outputs": [
    {
     "name": "stdout",
     "output_type": "stream",
     "text": [
      "f1\n",
      "inner run\n",
      "f1 run\n",
      "f1 函数运行用时1.00秒\n"
     ]
    }
   ],
   "source": [
    "import time\n",
    "from functools import wraps\n",
    "\n",
    "def timer(func):\n",
    "    @wraps(func)  #可以保持原函数属性不变\n",
    "    def inner():\n",
    "        print(\"inner run\")\n",
    "        start = time.time()\n",
    "        func()\n",
    "        end = time.time()\n",
    "        print(\"{} 函数运行用时{:.2f}秒\".format(func.__name__, (end - start)))\n",
    "        \n",
    "    return inner\n",
    "\n",
    "@timer          #相当于实现了f1 = timer(f1)\n",
    "def f1():\n",
    "    time.sleep(1)\n",
    "    print(\"f1 run\")\n",
    "    \n",
    "print(f1.__name__)\n",
    "f1()"
   ]
  },
  {
   "cell_type": "markdown",
   "id": "f4f16a63",
   "metadata": {},
   "source": [
    "理解：装饰器中最关键的是真正其装饰作用的函数，即最内层的函数（所以这个函数的参数和返回值要和被装饰函数保持一致），外层的其他函数包括装饰器起传参等附加作用"
   ]
  },
  {
   "cell_type": "markdown",
   "id": "4c481e9e",
   "metadata": {},
   "source": [
    "一个练习——素数生成器"
   ]
  },
  {
   "cell_type": "code",
   "execution_count": 21,
   "id": "e49d1f59",
   "metadata": {},
   "outputs": [
    {
     "name": "stdout",
     "output_type": "stream",
     "text": [
      "2\n",
      "3\n",
      "5\n",
      "7\n",
      "11\n",
      "13\n",
      "17\n",
      "19\n",
      "23\n",
      "29\n",
      "31\n",
      "37\n",
      "41\n",
      "43\n",
      "47\n",
      "53\n",
      "59\n",
      "61\n",
      "67\n",
      "71\n",
      "73\n",
      "79\n",
      "83\n",
      "89\n",
      "97\n",
      "101\n"
     ]
    }
   ],
   "source": [
    "def odd_list():\n",
    "    n = 1\n",
    "    while True:\n",
    "        n += 2\n",
    "        yield n\n",
    "\n",
    "def filter_not_prime(n):\n",
    "    return lambda x : x % n  \n",
    "\n",
    "def primes():\n",
    "    yield 2\n",
    "    it = odd_list()\n",
    "    while True:\n",
    "        n = next(it)\n",
    "        yield n\n",
    "        it = filter(filter_not_prime(n), it)\n",
    "        \n",
    "for i, x in enumerate(primes()):\n",
    "    if i > 25:\n",
    "        break\n",
    "    else:\n",
    "        print(x)"
   ]
  },
  {
   "cell_type": "code",
   "execution_count": null,
   "id": "9b2af7a3",
   "metadata": {},
   "outputs": [],
   "source": []
  }
 ],
 "metadata": {
  "kernelspec": {
   "display_name": "Python 3 (ipykernel)",
   "language": "python",
   "name": "python3"
  },
  "language_info": {
   "codemirror_mode": {
    "name": "ipython",
    "version": 3
   },
   "file_extension": ".py",
   "mimetype": "text/x-python",
   "name": "python",
   "nbconvert_exporter": "python",
   "pygments_lexer": "ipython3",
   "version": "3.11.9"
  }
 },
 "nbformat": 4,
 "nbformat_minor": 5
}
