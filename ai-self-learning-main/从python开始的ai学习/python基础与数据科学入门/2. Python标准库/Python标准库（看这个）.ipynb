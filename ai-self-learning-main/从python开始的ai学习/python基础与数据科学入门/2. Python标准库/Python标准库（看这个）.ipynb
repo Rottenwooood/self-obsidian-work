{
 "cells": [
  {
   "cell_type": "markdown",
   "id": "f753e9ac",
   "metadata": {},
   "source": [
    "# Python标准库\n",
    "\n",
    "## 思维导图\n",
    "\n",
    "![思维导图](./图片等杂项/思维导图.png \"思维导图\")\n",
    "\n",
    "![time](./图片等杂项/time.png \"time\")\n",
    "\n",
    "![random](./图片等杂项/random.png \"random\")\n",
    "\n",
    "![collections](./图片等杂项/collections.png \"collections\")\n",
    "\n",
    "![itertools](./图片等杂项/itertools.png \"itertools\")\n",
    "\n",
    "\n",
    "\n",
    "## 1. time库\n",
    "\n",
    "**Python处理时间的标准库**\n",
    "\n",
    "### 1. 获取现在时间\n",
    "\n",
    "（1）time.localtime()本地时间\n",
    "\n",
    "（2）time.gmtime() UTC世界统一时间\n",
    "\n",
    "北京时间比世界统一时间UTC早8个小时"
   ]
  },
  {
   "cell_type": "code",
   "execution_count": 1,
   "id": "27a04432",
   "metadata": {},
   "outputs": [
    {
     "name": "stdout",
     "output_type": "stream",
     "text": [
      "t_local time.struct_time(tm_year=2024, tm_mon=10, tm_mday=31, tm_hour=19, tm_min=55, tm_sec=1, tm_wday=3, tm_yday=305, tm_isdst=0)\n",
      "t_UTC time.struct_time(tm_year=2024, tm_mon=10, tm_mday=31, tm_hour=11, tm_min=55, tm_sec=1, tm_wday=3, tm_yday=305, tm_isdst=0)\n"
     ]
    }
   ],
   "source": [
    "import time\n",
    "\n",
    "t_local = time.localtime()\n",
    "t_UTC = time.gmtime()\n",
    "print(\"t_local\", t_local)    #本地时间\n",
    "print(\"t_UTC\", t_UTC)        #UTC统一时间"
   ]
  },
  {
   "cell_type": "code",
   "execution_count": 2,
   "id": "63be2168",
   "metadata": {},
   "outputs": [
    {
     "data": {
      "text/plain": [
       "'Thu Oct 31 19:55:30 2024'"
      ]
     },
     "execution_count": 2,
     "metadata": {},
     "output_type": "execute_result"
    }
   ],
   "source": [
    "time.ctime()       #返回本地时间的字符串"
   ]
  },
  {
   "cell_type": "markdown",
   "id": "92becff9",
   "metadata": {},
   "source": [
    "### 2. 时间戳与计时器\n",
    "\n",
    "（1）time.time()  返回自纪元以来的秒数，记录sleep  \n",
    "\n",
    "（2）time.perf_counter()  随意选取一个时间点，记录现在时间到该时间点的间隔秒数，记录sleep \n",
    "\n",
    "（3）time.process_time()  随意选取一个时间点，记录现在时间到该时间点的间隔秒数，不记录sleep\n",
    "\n",
    "perf_counter()精度较time()更高一些\n",
    "\n",
    "注意：随意选取一个时间点是一个程序运行时只随意选一个"
   ]
  },
  {
   "cell_type": "code",
   "execution_count": 6,
   "id": "d3b3bd6d",
   "metadata": {},
   "outputs": [
    {
     "name": "stdout",
     "output_type": "stream",
     "text": [
      "1730376420.2722116\n",
      "167697.8252637\n",
      "0.125\n",
      "time方法：5.118秒\n",
      "perf_counter方法：5.118秒\n",
      "process方法：0.094秒\n"
     ]
    }
   ],
   "source": [
    "t_1_start = time.time()\n",
    "t_2_start = time.perf_counter()\n",
    "t_3_start = time.process_time()\n",
    "print(t_1_start)\n",
    "print(t_2_start)\n",
    "print(t_3_start)\n",
    "\n",
    "res = 0\n",
    "for i in range(1000000):\n",
    "    res += i\n",
    "    \n",
    "time.sleep(5)\n",
    "t_1_end = time.time()\n",
    "t_2_end = time.perf_counter()\n",
    "t_3_end = time.process_time()\n",
    "\n",
    "print(\"time方法：{:.3f}秒\".format(t_1_end - t_1_start))\n",
    "print(\"perf_counter方法：{:.3f}秒\".format(t_2_end - t_2_start))\n",
    "print(\"process方法：{:.3f}秒\".format(t_3_end - t_3_start))"
   ]
  },
  {
   "cell_type": "markdown",
   "id": "6d43c8e8",
   "metadata": {},
   "source": [
    "### 3. 格式化\n",
    "\n",
    "（1）time.strftime 自定义格式化输出"
   ]
  },
  {
   "cell_type": "code",
   "execution_count": 8,
   "id": "3540247a",
   "metadata": {},
   "outputs": [
    {
     "data": {
      "text/plain": [
       "'2024-10-31 Thursday 20:09:05'"
      ]
     },
     "execution_count": 8,
     "metadata": {},
     "output_type": "execute_result"
    }
   ],
   "source": [
    "lctime = time.localtime()\n",
    "time.strftime(\"%Y-%m-%d %A %H:%M:%S\", lctime)"
   ]
  },
  {
   "cell_type": "markdown",
   "id": "ffbd075b",
   "metadata": {},
   "source": [
    "### 4. 睡觉觉"
   ]
  },
  {
   "cell_type": "markdown",
   "id": "10dca59e",
   "metadata": {},
   "source": [
    "（1）time.sleep()\n",
    "\n",
    "## 2. random库\n",
    "\n",
    "**Python通过random库提供各种伪随机数**\n",
    "\n",
    "**基本可以用于除加密解密算法外的大多数工程应用**\n",
    "\n",
    "### 1. 随机种子——seed(a = None)\n",
    "\n",
    "（1）相同种子会产生相同的随机数\n",
    "\n",
    "（2）如果不设置随机种子，以系统当前时间为默认值"
   ]
  },
  {
   "cell_type": "code",
   "execution_count": 10,
   "id": "63f57a22",
   "metadata": {},
   "outputs": [
    {
     "name": "stdout",
     "output_type": "stream",
     "text": [
      "0.5714025946899135\n",
      "0.5714025946899135\n"
     ]
    }
   ],
   "source": [
    "from random import *\n",
    "\n",
    "seed(10)\n",
    "print(random())\n",
    "seed(10)\n",
    "print(random())"
   ]
  },
  {
   "cell_type": "code",
   "execution_count": 11,
   "id": "39fdd491",
   "metadata": {},
   "outputs": [
    {
     "name": "stdout",
     "output_type": "stream",
     "text": [
      "0.4288890546751146\n"
     ]
    }
   ],
   "source": [
    "print(random())"
   ]
  },
  {
   "cell_type": "markdown",
   "id": "74aeef64",
   "metadata": {},
   "source": [
    "### 2. 产生随机整数\n",
    "\n",
    "#### （1）randint(a, b)——产生[a, b]之间的随机整数"
   ]
  },
  {
   "cell_type": "code",
   "execution_count": 12,
   "id": "efe4a2bd",
   "metadata": {},
   "outputs": [
    {
     "data": {
      "text/plain": [
       "[10, 1, 4, 8, 8, 5, 3, 1, 9, 8]"
      ]
     },
     "execution_count": 12,
     "metadata": {},
     "output_type": "execute_result"
    }
   ],
   "source": [
    "numbers = [randint(1, 10) for i in range(10)]\n",
    "numbers"
   ]
  },
  {
   "cell_type": "markdown",
   "id": "3e9c3a62",
   "metadata": {},
   "source": [
    "#### （2）randrange(a)——产生[0, a)之间的随机整数"
   ]
  },
  {
   "cell_type": "code",
   "execution_count": 18,
   "id": "97555549",
   "metadata": {},
   "outputs": [
    {
     "data": {
      "text/plain": [
       "[9, 1, 8, 1, 2, 6, 9, 5, 9, 2]"
      ]
     },
     "execution_count": 18,
     "metadata": {},
     "output_type": "execute_result"
    }
   ],
   "source": [
    "numbers = [randrange(10) for i in range(10)]\n",
    "numbers"
   ]
  },
  {
   "cell_type": "markdown",
   "id": "d7a8241f",
   "metadata": {},
   "source": [
    "#### （3）randrange(a, b, step)——产生[a, b)之间以step为步长的随机整数"
   ]
  },
  {
   "cell_type": "code",
   "execution_count": 20,
   "id": "38067239",
   "metadata": {},
   "outputs": [
    {
     "data": {
      "text/plain": [
       "[4, 2, 8, 8, 2, 0, 4, 6, 4, 2]"
      ]
     },
     "execution_count": 20,
     "metadata": {},
     "output_type": "execute_result"
    }
   ],
   "source": [
    "numbers = [randrange(0, 10, 2) for i in range(10)]\n",
    "numbers"
   ]
  },
  {
   "cell_type": "markdown",
   "id": "9379b729",
   "metadata": {},
   "source": [
    "### 3.产生随机浮点数\n",
    "\n",
    "#### （1）random()——产生[0.0, 1.0)之间的随机浮点数"
   ]
  },
  {
   "cell_type": "code",
   "execution_count": 21,
   "id": "c0147ffd",
   "metadata": {},
   "outputs": [
    {
     "data": {
      "text/plain": [
       "[0.6604216892177226,\n",
       " 0.9430254833478903,\n",
       " 0.17430797798567554,\n",
       " 0.17608943939308364,\n",
       " 0.7728493463067059,\n",
       " 0.328063930829693,\n",
       " 0.22366566959774914,\n",
       " 0.5448505559010297,\n",
       " 0.043672944096157074,\n",
       " 0.8969263756232204]"
      ]
     },
     "execution_count": 21,
     "metadata": {},
     "output_type": "execute_result"
    }
   ],
   "source": [
    "numbers = [random() for i in range(10)]\n",
    "numbers"
   ]
  },
  {
   "cell_type": "markdown",
   "id": "708c7296",
   "metadata": {},
   "source": [
    "#### （3）uniform(a, b)——产生[a, b]之间的随机浮点数"
   ]
  },
  {
   "cell_type": "code",
   "execution_count": 22,
   "id": "0e756d77",
   "metadata": {},
   "outputs": [
    {
     "data": {
      "text/plain": [
       "[2.439671754180603,\n",
       " 2.4664741905575864,\n",
       " 2.6667095096110445,\n",
       " 2.3215248610587547,\n",
       " 3.3888680533868354,\n",
       " 2.7940643842719086,\n",
       " 3.3508677403477694,\n",
       " 3.130849189575727,\n",
       " 3.4891798144187582,\n",
       " 2.480369682074737]"
      ]
     },
     "execution_count": 22,
     "metadata": {},
     "output_type": "execute_result"
    }
   ],
   "source": [
    "numbers = [uniform(2.1, 3.5) for i in range(10)]\n",
    "numbers"
   ]
  },
  {
   "cell_type": "markdown",
   "id": "4fab9f9d",
   "metadata": {},
   "source": [
    "### 4.序列用函数\n",
    "\n",
    "#### （1）choice(seq)——从序列类型中随机返回一个元素"
   ]
  },
  {
   "cell_type": "code",
   "execution_count": 23,
   "id": "990edce1",
   "metadata": {},
   "outputs": [
    {
     "data": {
      "text/plain": [
       "'lose'"
      ]
     },
     "execution_count": 23,
     "metadata": {},
     "output_type": "execute_result"
    }
   ],
   "source": [
    "choice(['win', 'lose', 'draw'])"
   ]
  },
  {
   "cell_type": "code",
   "execution_count": 24,
   "id": "0bcbeb0d",
   "metadata": {},
   "outputs": [
    {
     "data": {
      "text/plain": [
       "'o'"
      ]
     },
     "execution_count": 24,
     "metadata": {},
     "output_type": "execute_result"
    }
   ],
   "source": [
    "choice('python')"
   ]
  },
  {
   "cell_type": "markdown",
   "id": "27262f9c",
   "metadata": {},
   "source": [
    "#### （2）choices(seq, weights = None, k)——对序列类型进行k次重复采样，可设置权重"
   ]
  },
  {
   "cell_type": "code",
   "execution_count": 25,
   "id": "93a02434",
   "metadata": {},
   "outputs": [
    {
     "data": {
      "text/plain": [
       "['lose', 'win', 'draw', 'draw', 'win']"
      ]
     },
     "execution_count": 25,
     "metadata": {},
     "output_type": "execute_result"
    }
   ],
   "source": [
    "choices(['win', 'lose', 'draw'], k = 5)"
   ]
  },
  {
   "cell_type": "code",
   "execution_count": 28,
   "id": "3444e6be",
   "metadata": {},
   "outputs": [
    {
     "data": {
      "text/plain": [
       "['lose', 'win', 'draw', 'lose', 'draw', 'win', 'win', 'lose', 'lose', 'win']"
      ]
     },
     "execution_count": 28,
     "metadata": {},
     "output_type": "execute_result"
    }
   ],
   "source": [
    "choices(['win', 'lose', 'draw'], [4, 4, 2], k = 10)"
   ]
  },
  {
   "cell_type": "markdown",
   "id": "f66e4dc4",
   "metadata": {},
   "source": [
    "#### （3）shuffle(seq)——将序列类型中元素随机排列，返回打乱后的序列"
   ]
  },
  {
   "cell_type": "code",
   "execution_count": 29,
   "id": "4e00547b",
   "metadata": {},
   "outputs": [
    {
     "data": {
      "text/plain": [
       "['four', 'one', 'three', 'two']"
      ]
     },
     "execution_count": 29,
     "metadata": {},
     "output_type": "execute_result"
    }
   ],
   "source": [
    "numbers = ['one', 'two', 'three', 'four']\n",
    "shuffle(numbers)\n",
    "numbers"
   ]
  },
  {
   "cell_type": "markdown",
   "id": "6f78d7d3",
   "metadata": {},
   "source": [
    "#### （4）sample(pop, k)——从pop类型中随机选取k个元素，以列表类型返回"
   ]
  },
  {
   "cell_type": "code",
   "execution_count": 30,
   "id": "cbdff714",
   "metadata": {},
   "outputs": [
    {
     "data": {
      "text/plain": [
       "[30, 10, 50]"
      ]
     },
     "execution_count": 30,
     "metadata": {},
     "output_type": "execute_result"
    }
   ],
   "source": [
    "sample([10, 20, 30, 40, 50], k = 3)"
   ]
  },
  {
   "cell_type": "markdown",
   "id": "2aab5ee3",
   "metadata": {},
   "source": [
    "### 5. 概率分布——以高斯分布为例\n",
    "\n",
    "**gauss(mean, std)——生产一个符合高斯分布的随机数**"
   ]
  },
  {
   "cell_type": "code",
   "execution_count": 31,
   "id": "e6a325db",
   "metadata": {},
   "outputs": [
    {
     "data": {
      "text/plain": [
       "0.7270117184909197"
      ]
     },
     "execution_count": 31,
     "metadata": {},
     "output_type": "execute_result"
    }
   ],
   "source": [
    "number = gauss(0, 1)\n",
    "number"
   ]
  },
  {
   "cell_type": "markdown",
   "id": "47d1b55f",
   "metadata": {},
   "source": [
    "**多生成几个**"
   ]
  },
  {
   "cell_type": "code",
   "execution_count": 34,
   "id": "084a5b04",
   "metadata": {},
   "outputs": [
    {
     "data": {
      "image/png": "[encoded data removed]",
      "text/plain": [
       "<Figure size 640x480 with 1 Axes>"
      ]
     },
     "metadata": {},
     "output_type": "display_data"
    }
   ],
   "source": [
    "import matplotlib.pyplot as plt\n",
    "\n",
    "res = [gauss(0, 1) for i in range(100000)]\n",
    "\n",
    "plt.hist(res, bins = 1000)\n",
    "plt.show()"
   ]
  },
  {
   "cell_type": "markdown",
   "id": "01bba592",
   "metadata": {},
   "source": [
    "[例1] 用random库实现简单的微信红包分配"
   ]
  },
  {
   "cell_type": "code",
   "execution_count": 2,
   "id": "a35c7b73",
   "metadata": {},
   "outputs": [
    {
     "name": "stdout",
     "output_type": "stream",
     "text": [
      "第1位红包金额：7.06元\n",
      "第2位红包金额：5.46元\n",
      "第3位红包金额：4.78元\n",
      "第4位红包金额：0.94元\n",
      "第5位红包金额：0.94元\n"
     ]
    }
   ],
   "source": [
    "import random\n",
    "\n",
    "def red_packet(total, num):\n",
    "    for i in range(1, num):\n",
    "        per = random.uniform(0.01, total/(num- i + 1) * 2)    #保证每个人获得红包的期望是total/num\n",
    "        total = total - per\n",
    "        print(\"第{}位红包金额：{:.2f}元\".format(i, total))\n",
    "    else:\n",
    "        print(\"第{}位红包金额：{:.2f}元\".format(num, total))\n",
    "        \n",
    "\n",
    "red_packet(10, 5)    "
   ]
  },
  {
   "cell_type": "code",
   "execution_count": 5,
   "id": "463cebb3",
   "metadata": {},
   "outputs": [
    {
     "data": {
      "text/plain": [
       "array([2.00812007, 2.01098116, 2.00276757, 1.99742528, 1.98070593])"
      ]
     },
     "execution_count": 5,
     "metadata": {},
     "output_type": "execute_result"
    }
   ],
   "source": [
    "import random\n",
    "import numpy as np\n",
    "\n",
    "def red_packet(total, num):\n",
    "    ls = []\n",
    "    for i in range(1, num):\n",
    "        per = random.uniform(0.01, total/(num- i + 1) * 2)    #保证每个人获得红包的期望是total/num\n",
    "        ls.append(per)\n",
    "        total = total - per\n",
    "    else:\n",
    "        ls.append(total)\n",
    "        \n",
    "    return ls\n",
    "\n",
    "#重复十万次，统计每个位置的平均值（约等于期望）\n",
    "res = []\n",
    "for i in range(100000):\n",
    "    ls = red_packet(10, 5)\n",
    "    res.append(ls)\n",
    "    \n",
    "res = np.array(res)\n",
    "np.mean(res, axis = 0)"
   ]
  },
  {
   "cell_type": "markdown",
   "id": "2b331f3c",
   "metadata": {},
   "source": [
    "[例2] 生产4位由数字和英文字母构成的验证码"
   ]
  },
  {
   "cell_type": "code",
   "execution_count": 7,
   "id": "9cc2652b",
   "metadata": {},
   "outputs": [
    {
     "name": "stdout",
     "output_type": "stream",
     "text": [
      "0123456789\n",
      "abcdefghijklmnopqrstuvwxyzABCDEFGHIJKLMNOPQRSTUVWXYZ\n",
      "['Q', 'R', 'j', 'D']\n",
      "QRjD\n"
     ]
    }
   ],
   "source": [
    "import random\n",
    "import string\n",
    "\n",
    "print(string.digits)\n",
    "print(string.ascii_letters)\n",
    "\n",
    "s = string.digits + string.ascii_letters\n",
    "v = random.sample(s, 4)\n",
    "print(v)\n",
    "print(''.join(v))"
   ]
  },
  {
   "cell_type": "markdown",
   "id": "b2bc6e67",
   "metadata": {},
   "source": [
    "## 3. collections库——容器的数据类型"
   ]
  },
  {
   "cell_type": "code",
   "execution_count": 2,
   "id": "0a5b0f21",
   "metadata": {},
   "outputs": [],
   "source": [
    "import collections"
   ]
  },
  {
   "cell_type": "markdown",
   "id": "93ff92b1",
   "metadata": {},
   "source": [
    "### 1. namedtuple——具名元组\n",
    "\n",
    "- 点的坐标，仅看数据，很难知道表达的是一个点的坐标"
   ]
  },
  {
   "cell_type": "code",
   "execution_count": 9,
   "id": "1f7e49a0",
   "metadata": {},
   "outputs": [],
   "source": [
    "p = (1, 2)"
   ]
  },
  {
   "cell_type": "markdown",
   "id": "6d99d8d9",
   "metadata": {},
   "source": [
    "- 构建一个新的元组子类\n",
    "\n",
    "    定义方法如下：typename 是元组名字，filed_names 是域名"
   ]
  },
  {
   "cell_type": "code",
   "execution_count": null,
   "id": "951a4b77",
   "metadata": {},
   "outputs": [],
   "source": [
    "collections.namedtuple(typename, filed_names, *, rename = False, defaults = None, module = None)"
   ]
  },
  {
   "cell_type": "code",
   "execution_count": 7,
   "id": "85b11b78",
   "metadata": {},
   "outputs": [
    {
     "data": {
      "text/plain": [
       "Point(x=1, y=2)"
      ]
     },
     "execution_count": 7,
     "metadata": {},
     "output_type": "execute_result"
    }
   ],
   "source": [
    "Point = collections.namedtuple(\"Point\", [\"x\", \"y\"])\n",
    "p = Point(1, y = 2)\n",
    "p"
   ]
  },
  {
   "cell_type": "markdown",
   "id": "63c3854e",
   "metadata": {},
   "source": [
    "- 可以调用属性"
   ]
  },
  {
   "cell_type": "code",
   "execution_count": 8,
   "id": "66b38ec1",
   "metadata": {},
   "outputs": [
    {
     "name": "stdout",
     "output_type": "stream",
     "text": [
      "1\n",
      "2\n"
     ]
    }
   ],
   "source": [
    "print(p.x)\n",
    "print(p.y)"
   ]
  },
  {
   "cell_type": "markdown",
   "id": "032517de",
   "metadata": {},
   "source": [
    "- 有元组的性质"
   ]
  },
  {
   "cell_type": "code",
   "execution_count": 9,
   "id": "2a99eebb",
   "metadata": {},
   "outputs": [
    {
     "name": "stdout",
     "output_type": "stream",
     "text": [
      "1\n",
      "2\n",
      "1\n",
      "2\n"
     ]
    }
   ],
   "source": [
    "print(p[0])\n",
    "print(p[1])\n",
    "x, y = p\n",
    "print(x)\n",
    "print(y)"
   ]
  },
  {
   "cell_type": "markdown",
   "id": "51fbb17c",
   "metadata": {},
   "source": [
    "- 确实是元组的子类"
   ]
  },
  {
   "cell_type": "code",
   "execution_count": 10,
   "id": "cac2ad67",
   "metadata": {},
   "outputs": [
    {
     "name": "stdout",
     "output_type": "stream",
     "text": [
      "True\n"
     ]
    }
   ],
   "source": [
    "print(isinstance(p, tuple))"
   ]
  },
  {
   "cell_type": "markdown",
   "id": "d59fab5f",
   "metadata": {},
   "source": [
    "[例] 模拟扑克牌"
   ]
  },
  {
   "cell_type": "code",
   "execution_count": 22,
   "id": "7cf1ef15",
   "metadata": {},
   "outputs": [
    {
     "name": "stdout",
     "output_type": "stream",
     "text": [
      "ranks ['2', '3', '4', '5', '6', '7', '8', '9', '10', 'J', 'Q', 'K', 'A']\n",
      "suits ['spades', 'diamonds', 'clubs', 'hearts']\n"
     ]
    },
    {
     "data": {
      "text/plain": [
       "[Card(rank='2', suit='spades'),\n",
       " Card(rank='2', suit='diamonds'),\n",
       " Card(rank='2', suit='clubs'),\n",
       " Card(rank='2', suit='hearts'),\n",
       " Card(rank='3', suit='spades'),\n",
       " Card(rank='3', suit='diamonds'),\n",
       " Card(rank='3', suit='clubs'),\n",
       " Card(rank='3', suit='hearts'),\n",
       " Card(rank='4', suit='spades'),\n",
       " Card(rank='4', suit='diamonds'),\n",
       " Card(rank='4', suit='clubs'),\n",
       " Card(rank='4', suit='hearts'),\n",
       " Card(rank='5', suit='spades'),\n",
       " Card(rank='5', suit='diamonds'),\n",
       " Card(rank='5', suit='clubs'),\n",
       " Card(rank='5', suit='hearts'),\n",
       " Card(rank='6', suit='spades'),\n",
       " Card(rank='6', suit='diamonds'),\n",
       " Card(rank='6', suit='clubs'),\n",
       " Card(rank='6', suit='hearts'),\n",
       " Card(rank='7', suit='spades'),\n",
       " Card(rank='7', suit='diamonds'),\n",
       " Card(rank='7', suit='clubs'),\n",
       " Card(rank='7', suit='hearts'),\n",
       " Card(rank='8', suit='spades'),\n",
       " Card(rank='8', suit='diamonds'),\n",
       " Card(rank='8', suit='clubs'),\n",
       " Card(rank='8', suit='hearts'),\n",
       " Card(rank='9', suit='spades'),\n",
       " Card(rank='9', suit='diamonds'),\n",
       " Card(rank='9', suit='clubs'),\n",
       " Card(rank='9', suit='hearts'),\n",
       " Card(rank='10', suit='spades'),\n",
       " Card(rank='10', suit='diamonds'),\n",
       " Card(rank='10', suit='clubs'),\n",
       " Card(rank='10', suit='hearts'),\n",
       " Card(rank='J', suit='spades'),\n",
       " Card(rank='J', suit='diamonds'),\n",
       " Card(rank='J', suit='clubs'),\n",
       " Card(rank='J', suit='hearts'),\n",
       " Card(rank='Q', suit='spades'),\n",
       " Card(rank='Q', suit='diamonds'),\n",
       " Card(rank='Q', suit='clubs'),\n",
       " Card(rank='Q', suit='hearts'),\n",
       " Card(rank='K', suit='spades'),\n",
       " Card(rank='K', suit='diamonds'),\n",
       " Card(rank='K', suit='clubs'),\n",
       " Card(rank='K', suit='hearts'),\n",
       " Card(rank='A', suit='spades'),\n",
       " Card(rank='A', suit='diamonds'),\n",
       " Card(rank='A', suit='clubs'),\n",
       " Card(rank='A', suit='hearts')]"
      ]
     },
     "execution_count": 22,
     "metadata": {},
     "output_type": "execute_result"
    }
   ],
   "source": [
    "Card = collections.namedtuple(\"Card\", [\"rank\", \"suit\"])\n",
    "ranks = [str(n) for n in range(2, 11)] + list(\"JQKA\")\n",
    "suits = \"spades diamonds clubs hearts\".split()\n",
    "print(\"ranks\", ranks)\n",
    "print(\"suits\", suits)\n",
    "cards = [Card(rank, suit) for rank in ranks\n",
    "                          for suit in suits]\n",
    "cards"
   ]
  },
  {
   "cell_type": "code",
   "execution_count": 23,
   "id": "e7405e38",
   "metadata": {},
   "outputs": [],
   "source": [
    "from random import *"
   ]
  },
  {
   "cell_type": "code",
   "execution_count": 25,
   "id": "844783fd",
   "metadata": {},
   "outputs": [
    {
     "data": {
      "text/plain": [
       "[Card(rank='5', suit='clubs'),\n",
       " Card(rank='A', suit='diamonds'),\n",
       " Card(rank='4', suit='diamonds'),\n",
       " Card(rank='3', suit='clubs'),\n",
       " Card(rank='4', suit='hearts'),\n",
       " Card(rank='Q', suit='diamonds'),\n",
       " Card(rank='7', suit='diamonds'),\n",
       " Card(rank='A', suit='hearts'),\n",
       " Card(rank='9', suit='spades'),\n",
       " Card(rank='Q', suit='spades'),\n",
       " Card(rank='J', suit='hearts'),\n",
       " Card(rank='A', suit='spades'),\n",
       " Card(rank='J', suit='clubs'),\n",
       " Card(rank='4', suit='clubs'),\n",
       " Card(rank='6', suit='diamonds'),\n",
       " Card(rank='9', suit='diamonds'),\n",
       " Card(rank='K', suit='spades'),\n",
       " Card(rank='8', suit='spades'),\n",
       " Card(rank='5', suit='hearts'),\n",
       " Card(rank='8', suit='hearts'),\n",
       " Card(rank='10', suit='diamonds'),\n",
       " Card(rank='2', suit='spades'),\n",
       " Card(rank='7', suit='spades'),\n",
       " Card(rank='5', suit='diamonds'),\n",
       " Card(rank='6', suit='spades'),\n",
       " Card(rank='10', suit='clubs'),\n",
       " Card(rank='A', suit='clubs'),\n",
       " Card(rank='4', suit='spades'),\n",
       " Card(rank='2', suit='diamonds'),\n",
       " Card(rank='9', suit='hearts'),\n",
       " Card(rank='8', suit='diamonds'),\n",
       " Card(rank='J', suit='spades'),\n",
       " Card(rank='Q', suit='clubs'),\n",
       " Card(rank='6', suit='hearts'),\n",
       " Card(rank='K', suit='diamonds'),\n",
       " Card(rank='7', suit='hearts'),\n",
       " Card(rank='6', suit='clubs'),\n",
       " Card(rank='9', suit='clubs'),\n",
       " Card(rank='K', suit='clubs'),\n",
       " Card(rank='3', suit='hearts'),\n",
       " Card(rank='8', suit='clubs'),\n",
       " Card(rank='7', suit='clubs'),\n",
       " Card(rank='10', suit='hearts'),\n",
       " Card(rank='2', suit='hearts'),\n",
       " Card(rank='3', suit='diamonds'),\n",
       " Card(rank='5', suit='spades'),\n",
       " Card(rank='10', suit='spades'),\n",
       " Card(rank='2', suit='clubs'),\n",
       " Card(rank='Q', suit='hearts'),\n",
       " Card(rank='3', suit='spades'),\n",
       " Card(rank='J', suit='diamonds'),\n",
       " Card(rank='K', suit='hearts')]"
      ]
     },
     "execution_count": 25,
     "metadata": {},
     "output_type": "execute_result"
    }
   ],
   "source": [
    "# 洗牌\n",
    "shuffle(cards)\n",
    "cards"
   ]
  },
  {
   "cell_type": "code",
   "execution_count": 26,
   "id": "6c1cebd3",
   "metadata": {},
   "outputs": [
    {
     "data": {
      "text/plain": [
       "Card(rank='6', suit='hearts')"
      ]
     },
     "execution_count": 26,
     "metadata": {},
     "output_type": "execute_result"
    }
   ],
   "source": [
    "# 随机抽一张牌\n",
    "choice(cards)"
   ]
  },
  {
   "cell_type": "code",
   "execution_count": 28,
   "id": "862c00a2",
   "metadata": {},
   "outputs": [
    {
     "data": {
      "text/plain": [
       "[Card(rank='3', suit='clubs'),\n",
       " Card(rank='A', suit='spades'),\n",
       " Card(rank='K', suit='hearts'),\n",
       " Card(rank='7', suit='clubs'),\n",
       " Card(rank='6', suit='clubs')]"
      ]
     },
     "execution_count": 28,
     "metadata": {},
     "output_type": "execute_result"
    }
   ],
   "source": [
    "# 随机抽多张牌\n",
    "sample(cards, k = 5)"
   ]
  },
  {
   "cell_type": "markdown",
   "id": "c5b65b5b",
   "metadata": {},
   "source": [
    "### Counter——计数器工具"
   ]
  },
  {
   "cell_type": "code",
   "execution_count": 29,
   "id": "72ae0988",
   "metadata": {},
   "outputs": [],
   "source": [
    "from collections import Counter"
   ]
  },
  {
   "cell_type": "code",
   "execution_count": 30,
   "id": "1a2a3a3c",
   "metadata": {},
   "outputs": [
    {
     "name": "stdout",
     "output_type": "stream",
     "text": [
      "Counter({'s': 4, 'd': 3, 'f': 3, 'h': 3, 'u': 3, 'i': 3, 'a': 2, 'w': 1})\n",
      "Counter({'blue': 3, 'red': 2, 'green': 1})\n"
     ]
    }
   ],
   "source": [
    "s = \"dsfwfhsuidfhasiudhasiu\"\n",
    "colors = ['red', 'blue', 'red', 'green', 'blue', 'blue']\n",
    "cnt_str = Counter(s)\n",
    "cnt_color = Counter(colors)\n",
    "print(cnt_str)\n",
    "print(cnt_color)"
   ]
  },
  {
   "cell_type": "markdown",
   "id": "5c6403c1",
   "metadata": {},
   "source": [
    "- 是字典的一个子类"
   ]
  },
  {
   "cell_type": "code",
   "execution_count": 31,
   "id": "75e00836",
   "metadata": {},
   "outputs": [
    {
     "name": "stdout",
     "output_type": "stream",
     "text": [
      "True\n"
     ]
    }
   ],
   "source": [
    "print(isinstance(Counter(), dict))"
   ]
  },
  {
   "cell_type": "markdown",
   "id": "4eb67c19",
   "metadata": {},
   "source": [
    "- 最常见的统计——most_common(n)\n",
    "\n",
    "    提供 n 个频率最高的元素和计数"
   ]
  },
  {
   "cell_type": "code",
   "execution_count": 32,
   "id": "5872add9",
   "metadata": {},
   "outputs": [
    {
     "data": {
      "text/plain": [
       "[('blue', 3), ('red', 2)]"
      ]
     },
     "execution_count": 32,
     "metadata": {},
     "output_type": "execute_result"
    }
   ],
   "source": [
    "cnt_color.most_common(2)"
   ]
  },
  {
   "cell_type": "markdown",
   "id": "cd925468",
   "metadata": {},
   "source": [
    "- 元素展开——elements()"
   ]
  },
  {
   "cell_type": "code",
   "execution_count": 39,
   "id": "9f17034e",
   "metadata": {
    "scrolled": true
   },
   "outputs": [
    {
     "data": {
      "text/plain": [
       "['d',\n",
       " 'd',\n",
       " 'd',\n",
       " 's',\n",
       " 's',\n",
       " 's',\n",
       " 's',\n",
       " 'f',\n",
       " 'f',\n",
       " 'f',\n",
       " 'w',\n",
       " 'h',\n",
       " 'h',\n",
       " 'h',\n",
       " 'u',\n",
       " 'u',\n",
       " 'u',\n",
       " 'i',\n",
       " 'i',\n",
       " 'i',\n",
       " 'a',\n",
       " 'a']"
      ]
     },
     "execution_count": 39,
     "metadata": {},
     "output_type": "execute_result"
    }
   ],
   "source": [
    "list(cnt_str.elements())"
   ]
  },
  {
   "cell_type": "markdown",
   "id": "f7db2eb8",
   "metadata": {},
   "source": [
    "- 其他一些加减操作"
   ]
  },
  {
   "cell_type": "code",
   "execution_count": 34,
   "id": "cacdb457",
   "metadata": {},
   "outputs": [
    {
     "data": {
      "text/plain": [
       "Counter({'a': 4, 'b': 3})"
      ]
     },
     "execution_count": 34,
     "metadata": {},
     "output_type": "execute_result"
    }
   ],
   "source": [
    "c = Counter(a = 3, b = 1)   # 生成一个有3个a，1个b的迭代器\n",
    "d = Counter(a = 1, b = 2)\n",
    "c + d"
   ]
  },
  {
   "cell_type": "markdown",
   "id": "99ecaeb9",
   "metadata": {},
   "source": [
    "[例] 从一副牌中抽取十张，大于十的比例有多少"
   ]
  },
  {
   "cell_type": "code",
   "execution_count": 43,
   "id": "180fa0ee",
   "metadata": {
    "scrolled": true
   },
   "outputs": [
    {
     "name": "stdout",
     "output_type": "stream",
     "text": [
      "['low_cards', 'tens', 'low_cards', 'low_cards', 'low_cards', 'tens', 'tens', 'low_cards', 'low_cards', 'tens', 'low_cards', 'low_cards', 'low_cards', 'tens', 'tens', 'low_cards', 'low_cards', 'low_cards', 'tens', 'low_cards']\n"
     ]
    },
    {
     "data": {
      "text/plain": [
       "0.35"
      ]
     },
     "execution_count": 43,
     "metadata": {},
     "output_type": "execute_result"
    }
   ],
   "source": [
    "cards = collections.Counter(tens = 16, low_cards = 36)\n",
    "seen = sample(list(cards.elements()), k = 20)\n",
    "print(seen)\n",
    "seen.count('tens') / 20"
   ]
  },
  {
   "cell_type": "markdown",
   "id": "a0bb36d6",
   "metadata": {},
   "source": [
    "### 3. deque——双向序列\n",
    "\n",
    "列表访问数据非常快速\n",
    "\n",
    "插入和删除操作非常慢——通过移动元素位置来实现\n",
    "\n",
    "特别是insert(0, v)和pop(0), 在列表开始进行的插入和删除操作\n",
    "\n",
    "**双向队列可以方便的在队列两边高效，快速的增加和删除元素**"
   ]
  },
  {
   "cell_type": "code",
   "execution_count": 44,
   "id": "875ed87d",
   "metadata": {},
   "outputs": [
    {
     "data": {
      "text/plain": [
       "deque(['c', 'd', 'e'])"
      ]
     },
     "execution_count": 44,
     "metadata": {},
     "output_type": "execute_result"
    }
   ],
   "source": [
    "from collections import deque\n",
    "\n",
    "d = deque('cde')\n",
    "d"
   ]
  },
  {
   "cell_type": "code",
   "execution_count": 45,
   "id": "6d5f167f",
   "metadata": {},
   "outputs": [
    {
     "data": {
      "text/plain": [
       "deque(['a', 'b', 'c', 'd', 'e', 'f', 'g'])"
      ]
     },
     "execution_count": 45,
     "metadata": {},
     "output_type": "execute_result"
    }
   ],
   "source": [
    "d.append(\"f\")    # 右端增加\n",
    "d.append(\"g\")\n",
    "d.appendleft(\"b\")    # 左端增加\n",
    "d.appendleft(\"a\")\n",
    "d"
   ]
  },
  {
   "cell_type": "code",
   "execution_count": 46,
   "id": "58535254",
   "metadata": {},
   "outputs": [
    {
     "data": {
      "text/plain": [
       "deque(['b', 'c', 'd', 'e', 'f'])"
      ]
     },
     "execution_count": 46,
     "metadata": {},
     "output_type": "execute_result"
    }
   ],
   "source": [
    "d.pop()   # 右端删除\n",
    "d.popleft()    #左端删除\n",
    "d"
   ]
  },
  {
   "cell_type": "markdown",
   "id": "793b773b",
   "metadata": {},
   "source": [
    "其他用法看官方文档"
   ]
  },
  {
   "cell_type": "markdown",
   "id": "201e3441",
   "metadata": {},
   "source": [
    "## itertools库——迭代器\n",
    "\n",
    "### 1. 排列组合迭代器\n",
    "\n",
    "（1）product——笛卡尔积"
   ]
  },
  {
   "cell_type": "code",
   "execution_count": 48,
   "id": "3c037595",
   "metadata": {},
   "outputs": [
    {
     "name": "stdout",
     "output_type": "stream",
     "text": [
      "('A', '0')\n",
      "('A', '1')\n",
      "('B', '0')\n",
      "('B', '1')\n",
      "('C', '0')\n",
      "('C', '1')\n"
     ]
    }
   ],
   "source": [
    "import itertools\n",
    "\n",
    "for i in itertools.product('ABC', '01'):\n",
    "    print(i)"
   ]
  },
  {
   "cell_type": "code",
   "execution_count": 49,
   "id": "9f570dae",
   "metadata": {},
   "outputs": [
    {
     "name": "stdout",
     "output_type": "stream",
     "text": [
      "('A', 'A', 'A')\n",
      "('A', 'A', 'B')\n",
      "('A', 'A', 'C')\n",
      "('A', 'B', 'A')\n",
      "('A', 'B', 'B')\n",
      "('A', 'B', 'C')\n",
      "('A', 'C', 'A')\n",
      "('A', 'C', 'B')\n",
      "('A', 'C', 'C')\n",
      "('B', 'A', 'A')\n",
      "('B', 'A', 'B')\n",
      "('B', 'A', 'C')\n",
      "('B', 'B', 'A')\n",
      "('B', 'B', 'B')\n",
      "('B', 'B', 'C')\n",
      "('B', 'C', 'A')\n",
      "('B', 'C', 'B')\n",
      "('B', 'C', 'C')\n",
      "('C', 'A', 'A')\n",
      "('C', 'A', 'B')\n",
      "('C', 'A', 'C')\n",
      "('C', 'B', 'A')\n",
      "('C', 'B', 'B')\n",
      "('C', 'B', 'C')\n",
      "('C', 'C', 'A')\n",
      "('C', 'C', 'B')\n",
      "('C', 'C', 'C')\n"
     ]
    }
   ],
   "source": [
    "for i in itertools.product('ABC', repeat = 3):\n",
    "    print(i)"
   ]
  },
  {
   "cell_type": "markdown",
   "id": "301b7359",
   "metadata": {},
   "source": [
    "（2）permutations——排列"
   ]
  },
  {
   "cell_type": "code",
   "execution_count": 51,
   "id": "0122b4a7",
   "metadata": {},
   "outputs": [
    {
     "name": "stdout",
     "output_type": "stream",
     "text": [
      "('A', 'B', 'C')\n",
      "('A', 'B', 'D')\n",
      "('A', 'C', 'B')\n",
      "('A', 'C', 'D')\n",
      "('A', 'D', 'B')\n",
      "('A', 'D', 'C')\n",
      "('B', 'A', 'C')\n",
      "('B', 'A', 'D')\n",
      "('B', 'C', 'A')\n",
      "('B', 'C', 'D')\n",
      "('B', 'D', 'A')\n",
      "('B', 'D', 'C')\n",
      "('C', 'A', 'B')\n",
      "('C', 'A', 'D')\n",
      "('C', 'B', 'A')\n",
      "('C', 'B', 'D')\n",
      "('C', 'D', 'A')\n",
      "('C', 'D', 'B')\n",
      "('D', 'A', 'B')\n",
      "('D', 'A', 'C')\n",
      "('D', 'B', 'A')\n",
      "('D', 'B', 'C')\n",
      "('D', 'C', 'A')\n",
      "('D', 'C', 'B')\n"
     ]
    }
   ],
   "source": [
    "for i in itertools.permutations('ABCD', 3):   # 3 是排列的长度\n",
    "    print(i)"
   ]
  },
  {
   "cell_type": "code",
   "execution_count": 52,
   "id": "de012e47",
   "metadata": {},
   "outputs": [
    {
     "name": "stdout",
     "output_type": "stream",
     "text": [
      "(0, 1, 2)\n",
      "(0, 2, 1)\n",
      "(1, 0, 2)\n",
      "(1, 2, 0)\n",
      "(2, 0, 1)\n",
      "(2, 1, 0)\n"
     ]
    }
   ],
   "source": [
    "for i in itertools.permutations(range(3)):\n",
    "    print(i)"
   ]
  },
  {
   "cell_type": "markdown",
   "id": "83e56bc0",
   "metadata": {},
   "source": [
    "（3）combinations——组合"
   ]
  },
  {
   "cell_type": "code",
   "execution_count": 55,
   "id": "5f705462",
   "metadata": {},
   "outputs": [
    {
     "name": "stdout",
     "output_type": "stream",
     "text": [
      "('A', 'B')\n",
      "('A', 'C')\n",
      "('A', 'D')\n",
      "('B', 'C')\n",
      "('B', 'D')\n",
      "('C', 'D')\n"
     ]
    }
   ],
   "source": [
    "for i in itertools.combinations('ABCD', 2):  # 2 是组合的长度\n",
    "    print(i)"
   ]
  },
  {
   "cell_type": "code",
   "execution_count": 56,
   "id": "f35ff33f",
   "metadata": {},
   "outputs": [
    {
     "name": "stdout",
     "output_type": "stream",
     "text": [
      "(0, 1, 2)\n",
      "(0, 1, 3)\n",
      "(0, 2, 3)\n",
      "(1, 2, 3)\n"
     ]
    }
   ],
   "source": [
    "for i in itertools.combinations(range(4), 3):\n",
    "    print(i)"
   ]
  },
  {
   "cell_type": "markdown",
   "id": "b12890d9",
   "metadata": {},
   "source": [
    "（4）combinations_with_replacement——元素可重复组合"
   ]
  },
  {
   "cell_type": "code",
   "execution_count": 59,
   "id": "12c9aae0",
   "metadata": {},
   "outputs": [
    {
     "name": "stdout",
     "output_type": "stream",
     "text": [
      "('A', 'A')\n",
      "('A', 'B')\n",
      "('A', 'C')\n",
      "('B', 'B')\n",
      "('B', 'C')\n",
      "('C', 'C')\n"
     ]
    }
   ],
   "source": [
    "for i in itertools.combinations_with_replacement('ABC', 2):   # 2 是组合的长度\n",
    "    print(i)"
   ]
  },
  {
   "cell_type": "code",
   "execution_count": 60,
   "id": "eb2ff9c6",
   "metadata": {},
   "outputs": [
    {
     "name": "stdout",
     "output_type": "stream",
     "text": [
      "('A', 'A')\n",
      "('A', 'B')\n",
      "('A', 'C')\n",
      "('B', 'A')\n",
      "('B', 'B')\n",
      "('B', 'C')\n",
      "('C', 'A')\n",
      "('C', 'B')\n",
      "('C', 'C')\n"
     ]
    }
   ],
   "source": [
    "for i in itertools.product('ABC', repeat = 2):\n",
    "    print(i)"
   ]
  },
  {
   "cell_type": "markdown",
   "id": "682b9c23",
   "metadata": {},
   "source": [
    "### 2. 拉链\n",
    "\n",
    "（1）zip——短拉链"
   ]
  },
  {
   "cell_type": "code",
   "execution_count": 61,
   "id": "c72939d9",
   "metadata": {},
   "outputs": [
    {
     "name": "stdout",
     "output_type": "stream",
     "text": [
      "('A', '0', 'x')\n",
      "('B', '1', 'y')\n",
      "('C', '2', 'z')\n"
     ]
    }
   ],
   "source": [
    "for i in zip('ABC', '012', 'xyz'):\n",
    "    print(i)"
   ]
  },
  {
   "cell_type": "markdown",
   "id": "1b3d940c",
   "metadata": {},
   "source": [
    "长度不一时，执行到最短的对象处，就停止"
   ]
  },
  {
   "cell_type": "code",
   "execution_count": 62,
   "id": "2411d75d",
   "metadata": {},
   "outputs": [
    {
     "name": "stdout",
     "output_type": "stream",
     "text": [
      "('A', '0')\n",
      "('B', '1')\n",
      "('C', '2')\n"
     ]
    }
   ],
   "source": [
    "for i in zip(\"ABC\", \"012345\"):   #zip是内置的\n",
    "    print(i)"
   ]
  },
  {
   "cell_type": "markdown",
   "id": "71828585",
   "metadata": {},
   "source": [
    "（2）zip_longest——长拉链\n",
    "\n",
    "长度不一时，执行到最长的对象处，就停止，缺省元素用None或指定字符替代"
   ]
  },
  {
   "cell_type": "code",
   "execution_count": 64,
   "id": "8e821536",
   "metadata": {},
   "outputs": [
    {
     "name": "stdout",
     "output_type": "stream",
     "text": [
      "('A', '0')\n",
      "('B', '1')\n",
      "('C', '2')\n",
      "(None, '3')\n",
      "(None, '4')\n",
      "(None, '5')\n"
     ]
    }
   ],
   "source": [
    "for i in itertools.zip_longest(\"ABC\", \"012345\"):\n",
    "    print(i)"
   ]
  },
  {
   "cell_type": "code",
   "execution_count": 65,
   "id": "ef7c428c",
   "metadata": {},
   "outputs": [
    {
     "name": "stdout",
     "output_type": "stream",
     "text": [
      "('A', '0')\n",
      "('B', '1')\n",
      "('C', '2')\n",
      "('?', '3')\n",
      "('?', '4')\n",
      "('?', '5')\n"
     ]
    }
   ],
   "source": [
    "for i in itertools.zip_longest(\"ABC\", \"012345\", fillvalue = \"?\"):\n",
    "    print(i)"
   ]
  },
  {
   "cell_type": "markdown",
   "id": "7f3adb44",
   "metadata": {},
   "source": [
    "### 无穷迭代器\n",
    "\n",
    "（1）count(start = 0, step = 1)——计数\n",
    "\n",
    "    创建一个迭代器，它从 start 值开始，返回均匀间隔的值"
   ]
  },
  {
   "cell_type": "code",
   "execution_count": null,
   "id": "c96e0a56",
   "metadata": {},
   "outputs": [],
   "source": [
    "itertools.count(10)  # 默认 step 为 1\n",
    "10\n",
    "11\n",
    "12\n",
    ".\n",
    ".\n",
    "."
   ]
  },
  {
   "cell_type": "markdown",
   "id": "9aa7a6a2",
   "metadata": {},
   "source": [
    "（2）cycle(iterable)——循环\n",
    "\n",
    "    创建一个迭代器，返回 iterable 中所有的元素，无限重复"
   ]
  },
  {
   "cell_type": "code",
   "execution_count": null,
   "id": "a040249c",
   "metadata": {},
   "outputs": [],
   "source": [
    "itertools.cycle(\"ABC\")\n",
    "A\n",
    "B\n",
    "C\n",
    "A\n",
    "B\n",
    "C\n",
    ".\n",
    ".\n",
    "."
   ]
  },
  {
   "cell_type": "markdown",
   "id": "cd53d38b",
   "metadata": {},
   "source": [
    "（3）repeat(object[, times])——重复\n",
    "\n",
    "    创建一个迭代器，不断重复 object 。除非设定参数 times ，否则将无限重复"
   ]
  },
  {
   "cell_type": "code",
   "execution_count": 82,
   "id": "a63ae9ed",
   "metadata": {},
   "outputs": [
    {
     "name": "stdout",
     "output_type": "stream",
     "text": [
      "10\n",
      "10\n",
      "10\n"
     ]
    }
   ],
   "source": [
    "for i in itertools.repeat(10, 3):\n",
    "    print(i)"
   ]
  },
  {
   "cell_type": "markdown",
   "id": "e8f51ca4",
   "metadata": {},
   "source": [
    "### 其他\n",
    "\n",
    "（1）chain(iterables)——锁链\n",
    "\n",
    "    把一组迭代对象串联起来，形成一个更大的迭代器"
   ]
  },
  {
   "cell_type": "code",
   "execution_count": 83,
   "id": "52c2c264",
   "metadata": {},
   "outputs": [
    {
     "name": "stdout",
     "output_type": "stream",
     "text": [
      "A\n",
      "B\n",
      "C\n",
      "1\n",
      "2\n",
      "3\n"
     ]
    }
   ],
   "source": [
    "for i in itertools.chain('ABC', [1, 2, 3]):\n",
    "    print(i)"
   ]
  },
  {
   "cell_type": "markdown",
   "id": "69c662ef",
   "metadata": {},
   "source": [
    "（2）enumerate(iterable, start = 0)——枚举（Python内置）\n",
    "\n",
    "    产出由两个元素组成的元组，结构是 (index, item) ，其中index从start开始，item从iterable中取"
   ]
  },
  {
   "cell_type": "code",
   "execution_count": 84,
   "id": "0b3b1191",
   "metadata": {},
   "outputs": [
    {
     "name": "stdout",
     "output_type": "stream",
     "text": [
      "(1, 'P')\n",
      "(2, 'y')\n",
      "(3, 't')\n",
      "(4, 'h')\n",
      "(5, 'o')\n",
      "(6, 'n')\n"
     ]
    }
   ],
   "source": [
    "for i in enumerate(\"Python\", start = 1):\n",
    "    print(i)"
   ]
  },
  {
   "cell_type": "markdown",
   "id": "eaaebe60",
   "metadata": {},
   "source": [
    "（3）groupby(iterable, key = None)——分组\n",
    "\n",
    "    创建一个迭代器，按照key指定的方式，返回 iterable 中连续的键和组(迭代器形式)  \n",
    "    一般来说，要预先对数据进行排序  \n",
    "    key为None默认把连续重复元素分组"
   ]
  },
  {
   "cell_type": "code",
   "execution_count": 88,
   "id": "2836442a",
   "metadata": {},
   "outputs": [
    {
     "name": "stdout",
     "output_type": "stream",
     "text": [
      "A ['A', 'A', 'A', 'A']\n",
      "B ['B', 'B', 'B']\n",
      "C ['C', 'C']\n",
      "D ['D']\n",
      "A ['A', 'A']\n",
      "B ['B', 'B', 'B']\n"
     ]
    }
   ],
   "source": [
    "for key, group in itertools.groupby('AAAABBBCCDAABBB'):\n",
    "    print(key, list(group))"
   ]
  },
  {
   "cell_type": "code",
   "execution_count": 90,
   "id": "e4771374",
   "metadata": {},
   "outputs": [
    {
     "name": "stdout",
     "output_type": "stream",
     "text": [
      "['rat', 'bat', 'duck', 'bear', 'lion', 'eagle', 'shark', 'giraffe', 'dolphin']\n",
      "3 ['rat', 'bat']\n",
      "4 ['duck', 'bear', 'lion']\n",
      "5 ['eagle', 'shark']\n",
      "7 ['giraffe', 'dolphin']\n"
     ]
    }
   ],
   "source": [
    "animals = ['duck', 'eagle', 'rat', 'giraffe', 'bear', 'bat', 'dolphin', 'shark', 'lion']\n",
    "animals.sort(key = len)\n",
    "print(animals)\n",
    "for key, group in itertools.groupby(animals, key = len):\n",
    "    print(key, list(group))"
   ]
  },
  {
   "cell_type": "code",
   "execution_count": 91,
   "id": "86c3adfe",
   "metadata": {},
   "outputs": [
    {
     "name": "stdout",
     "output_type": "stream",
     "text": [
      "['bear', 'bat', 'duck', 'dolphin', 'eagle', 'giraffe', 'lion', 'rat', 'shark']\n",
      "b ['bear', 'bat']\n",
      "d ['duck', 'dolphin']\n",
      "e ['eagle']\n",
      "g ['giraffe']\n",
      "l ['lion']\n",
      "r ['rat']\n",
      "s ['shark']\n"
     ]
    }
   ],
   "source": [
    "animals = ['duck', 'eagle', 'rat', 'giraffe', 'bear', 'bat', 'dolphin', 'shark', 'lion']\n",
    "animals.sort(key = lambda x: x[0])\n",
    "print(animals)\n",
    "for key, group in itertools.groupby(animals, key = lambda x: x[0]):\n",
    "    print(key, list(group))"
   ]
  },
  {
   "cell_type": "markdown",
   "id": "ac101cf6",
   "metadata": {},
   "source": [
    "itertools 其他函数可参考官方文档"
   ]
  },
  {
   "cell_type": "code",
   "execution_count": null,
   "id": "7f0231b3",
   "metadata": {},
   "outputs": [],
   "source": []
  }
 ],
 "metadata": {
  "kernelspec": {
   "display_name": "Python 3 (ipykernel)",
   "language": "python",
   "name": "python3"
  },
  "language_info": {
   "codemirror_mode": {
    "name": "ipython",
    "version": 3
   },
   "file_extension": ".py",
   "mimetype": "text/x-python",
   "name": "python",
   "nbconvert_exporter": "python",
   "pygments_lexer": "ipython3",
   "version": "3.11.9"
  }
 },
 "nbformat": 4,
 "nbformat_minor": 5
}
