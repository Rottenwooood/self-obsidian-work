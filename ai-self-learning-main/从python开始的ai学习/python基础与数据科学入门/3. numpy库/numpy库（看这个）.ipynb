{
 "cells": [
  {
   "cell_type": "markdown",
   "id": "85fc3ca9",
   "metadata": {},
   "source": [
    "# Numpy库\n",
    "\n",
    "## 思维导图\n",
    "\n",
    "![思维导图](./图片等杂项/思维导图.png \"思维导图\")\n",
    "![why](./图片等杂项/why.png \"why\")\n",
    "![创建](./图片等杂项/创建.png \"创建\")\n",
    "![性质](./图片等杂项/性质.png \"性质\")\n",
    "![运算](./图片等杂项/运算.png \"运算\")\n",
    "![函数](./图片等杂项/函数.png \"函数\")\n",
    "## 1. 为什么用Numpy\n",
    "\n",
    "### 1.1 低效的 Python for 循环\n",
    "\n",
    "[例] 求100万个数的倒数"
   ]
  },
  {
   "cell_type": "code",
   "execution_count": 1,
   "id": "ca953aad",
   "metadata": {},
   "outputs": [
    {
     "name": "stdout",
     "output_type": "stream",
     "text": [
      "47.4 ms ± 572 μs per loop (mean ± std. dev. of 7 runs, 10 loops each)\n"
     ]
    }
   ],
   "source": [
    "def compute_reciprocals(values):\n",
    "    res = []\n",
    "    for value in values:   #每遍历到一个元素，就要判断其类型，并查找适用于该数据类型的正确函数\n",
    "        res.append(1 / value)\n",
    "    return res\n",
    "\n",
    "values = list(range(1, 1000000))\n",
    "%timeit compute_reciprocals(values)"
   ]
  },
  {
   "cell_type": "markdown",
   "id": "e1bb4aaf",
   "metadata": {},
   "source": [
    "%timeit：ipython中统计运行时间的魔法方法（多次运行取平均值）"
   ]
  },
  {
   "cell_type": "code",
   "execution_count": 2,
   "id": "eae50810",
   "metadata": {},
   "outputs": [
    {
     "name": "stdout",
     "output_type": "stream",
     "text": [
      "3.76 ms ± 97.9 μs per loop (mean ± std. dev. of 7 runs, 1,000 loops each)\n"
     ]
    }
   ],
   "source": [
    "import numpy as np\n",
    "\n",
    "values = np.arange(1, 1000000)\n",
    "%timeit 1 / values"
   ]
  },
  {
   "cell_type": "markdown",
   "id": "19bca380",
   "metadata": {},
   "source": [
    "**实现相同的计算，Numpy的运行速度是Python循环的25倍，产生了质的飞跃**"
   ]
  },
  {
   "cell_type": "markdown",
   "id": "377e2d19",
   "metadata": {},
   "source": [
    "### 1.2. Numpy为什么如此高效\n",
    "\n",
    "**Numpy是由C语言编写的**\n",
    "\n",
    "**1. 编译型语言VS解释型语言**\n",
    "\n",
    "C语言执行时，对代码进行整体编译，速度更快\n",
    "\n",
    "**2. 连续单一类型存储VS分散多变类型存储**\n",
    "\n",
    "（1）Numpy数组内的数据类型必须是统一的，如全部是浮点型，而Python列表支持任意类型数据的填充\n",
    "\n",
    "（2）Numpy数组内的数据**连续存储在内存中**，而Python列表的数据**分散在内存中**\n",
    "\n",
    "**这种存储结构，与一些更高效的底层处理方式更加契合**\n",
    "\n",
    "**3. 多线程VS线程锁**\n",
    "\n",
    "Python语言执行有线程锁，无法实现真正的多线程并行，而C语言可以\n",
    "\n",
    "### 1.3. 什么时候用Numpy\n",
    "\n",
    "**在数据处理的过程中，遇到使用“Python for循环”实现一些向量化，矩阵化操作的时候，要优先考虑用Numpy**\n",
    "\n",
    "如：\n",
    "1. 两个向量的点乘\n",
    "\n",
    "2. 矩阵乘法\n",
    "    \n",
    "## 2. Numpy数组的创建\n",
    "\n",
    "### 2.1. 从列表开始创建\n",
    "\n"
   ]
  },
  {
   "cell_type": "code",
   "execution_count": 3,
   "id": "bf35b206",
   "metadata": {},
   "outputs": [
    {
     "name": "stdout",
     "output_type": "stream",
     "text": [
      "[1 2 3 4 5]\n"
     ]
    }
   ],
   "source": [
    "import numpy as np\n",
    "\n",
    "x = np.array([1, 2, 3, 4, 5])\n",
    "print(x)"
   ]
  },
  {
   "cell_type": "code",
   "execution_count": 4,
   "id": "909cbf9c",
   "metadata": {},
   "outputs": [
    {
     "name": "stdout",
     "output_type": "stream",
     "text": [
      "<class 'numpy.ndarray'>\n",
      "(5,)\n"
     ]
    }
   ],
   "source": [
    "print(type(x))\n",
    "print(x.shape)"
   ]
  },
  {
   "cell_type": "markdown",
   "id": "3fe43c6d",
   "metadata": {},
   "source": [
    "- 设置数组的数据类型"
   ]
  },
  {
   "cell_type": "code",
   "execution_count": 5,
   "id": "4ee35fdf",
   "metadata": {},
   "outputs": [
    {
     "name": "stdout",
     "output_type": "stream",
     "text": [
      "[1. 2. 3. 4.]\n",
      "<class 'numpy.float32'>\n"
     ]
    }
   ],
   "source": [
    "x = np.array([1, 2, 3, 4], dtype = \"float32\")\n",
    "print(x)\n",
    "print(type(x[0]))"
   ]
  },
  {
   "cell_type": "markdown",
   "id": "68bacc23",
   "metadata": {},
   "source": [
    "- 二维数组"
   ]
  },
  {
   "cell_type": "code",
   "execution_count": 6,
   "id": "31d7585e",
   "metadata": {},
   "outputs": [
    {
     "name": "stdout",
     "output_type": "stream",
     "text": [
      "[[1 2 3]\n",
      " [4 5 6]\n",
      " [7 8 9]]\n",
      "(3, 3)\n"
     ]
    }
   ],
   "source": [
    "x = np.array([[1, 2, 3],\n",
    "            [4, 5, 6],\n",
    "            [7, 8, 9]])\n",
    "print(x)\n",
    "print(x.shape)"
   ]
  },
  {
   "cell_type": "markdown",
   "id": "16df53a2",
   "metadata": {},
   "source": [
    "## 2.2 从头创建数组\n",
    "\n",
    "**（1）创建长度为5的数组，值都为0**"
   ]
  },
  {
   "cell_type": "code",
   "execution_count": 7,
   "id": "daf0c93d",
   "metadata": {},
   "outputs": [
    {
     "data": {
      "text/plain": [
       "array([0, 0, 0, 0, 0])"
      ]
     },
     "execution_count": 7,
     "metadata": {},
     "output_type": "execute_result"
    }
   ],
   "source": [
    "np.zeros(5, dtype = int)"
   ]
  },
  {
   "cell_type": "markdown",
   "id": "9f95bac7",
   "metadata": {},
   "source": [
    "**（2）创建一个2 * 4的浮点型数组，值都为1**"
   ]
  },
  {
   "cell_type": "code",
   "execution_count": 8,
   "id": "2d9e5ef2",
   "metadata": {},
   "outputs": [
    {
     "data": {
      "text/plain": [
       "array([[1., 1., 1., 1.],\n",
       "       [1., 1., 1., 1.]])"
      ]
     },
     "execution_count": 8,
     "metadata": {},
     "output_type": "execute_result"
    }
   ],
   "source": [
    "np.ones((2, 4), dtype = float)"
   ]
  },
  {
   "cell_type": "markdown",
   "id": "352c70b4",
   "metadata": {},
   "source": [
    "**（3）创建一个3 * 5的数组，值都为8.8**"
   ]
  },
  {
   "cell_type": "code",
   "execution_count": 9,
   "id": "eeaa47f7",
   "metadata": {},
   "outputs": [
    {
     "data": {
      "text/plain": [
       "array([[8.8, 8.8, 8.8, 8.8, 8.8],\n",
       "       [8.8, 8.8, 8.8, 8.8, 8.8],\n",
       "       [8.8, 8.8, 8.8, 8.8, 8.8]])"
      ]
     },
     "execution_count": 9,
     "metadata": {},
     "output_type": "execute_result"
    }
   ],
   "source": [
    "np.full((3, 5), 8.8)"
   ]
  },
  {
   "cell_type": "markdown",
   "id": "236131c2",
   "metadata": {},
   "source": [
    "**（4）.创建一个3 * 3的单位矩阵**"
   ]
  },
  {
   "cell_type": "code",
   "execution_count": 10,
   "id": "fa8415df",
   "metadata": {},
   "outputs": [
    {
     "data": {
      "text/plain": [
       "array([[1., 0., 0.],\n",
       "       [0., 1., 0.],\n",
       "       [0., 0., 1.]])"
      ]
     },
     "execution_count": 10,
     "metadata": {},
     "output_type": "execute_result"
    }
   ],
   "source": [
    "np.eye(3)"
   ]
  },
  {
   "cell_type": "markdown",
   "id": "e4697f28",
   "metadata": {},
   "source": [
    "**（5）创建一个线性序列数组，从1开始，到15结束，步长为2**"
   ]
  },
  {
   "cell_type": "code",
   "execution_count": 11,
   "id": "822b0f00",
   "metadata": {},
   "outputs": [
    {
     "data": {
      "text/plain": [
       "array([ 1,  3,  5,  7,  9, 11, 13])"
      ]
     },
     "execution_count": 11,
     "metadata": {},
     "output_type": "execute_result"
    }
   ],
   "source": [
    "np.arange(1, 15, 2)"
   ]
  },
  {
   "cell_type": "markdown",
   "id": "66037792",
   "metadata": {},
   "source": [
    "**（6）创建一个4个元素的数组，这四个数均匀的分配到0-1**"
   ]
  },
  {
   "cell_type": "code",
   "execution_count": 12,
   "id": "6b2b16b7",
   "metadata": {},
   "outputs": [
    {
     "data": {
      "text/plain": [
       "array([0.        , 0.33333333, 0.66666667, 1.        ])"
      ]
     },
     "execution_count": 12,
     "metadata": {},
     "output_type": "execute_result"
    }
   ],
   "source": [
    "np.linspace(0, 1, 4)"
   ]
  },
  {
   "cell_type": "markdown",
   "id": "cfee94ca",
   "metadata": {},
   "source": [
    "**（7）创建一个10个元素的数组，形成1-10^9的等比数列**"
   ]
  },
  {
   "cell_type": "code",
   "execution_count": 13,
   "id": "4810f966",
   "metadata": {},
   "outputs": [
    {
     "data": {
      "text/plain": [
       "array([1.e+00, 1.e+01, 1.e+02, 1.e+03, 1.e+04, 1.e+05, 1.e+06, 1.e+07,\n",
       "       1.e+08, 1.e+09])"
      ]
     },
     "execution_count": 13,
     "metadata": {},
     "output_type": "execute_result"
    }
   ],
   "source": [
    "np.logspace(0, 9, 10)"
   ]
  },
  {
   "cell_type": "markdown",
   "id": "20d00803",
   "metadata": {},
   "source": [
    "注：参数详细\n",
    "```json\n",
    "numpy.logspace(start, stop, num=50, endpoint=True, base=10.0, dtype=None)\n",
    "```\n",
    "参数说明：\n",
    "\n",
    "- start：起始值。base \\*\\* start为logspace的第一个元素！\n",
    "\n",
    "- stop：终止值。base \\*\\* stop为logspace的最后一个元素！\n",
    "\n",
    "- num：生成的等比数列中的元素个数。如果没有设置这个参数，缺省值为50。\n",
    "\n",
    "- endpoint：如果为True，终止值包含在数列中，反之则不包含。默认为True。\n",
    "\n",
    "- base：对数的底数。默认为10。\n",
    "\n",
    "- dtype：输出数组的数据类型。如果没有设置，缺省值为 numpy.float64。"
   ]
  },
  {
   "cell_type": "markdown",
   "id": "38d3a8e4",
   "metadata": {},
   "source": [
    "**（8）创建一个3 * 3的，在0-1之间均匀分布的随机数构成的数组**"
   ]
  },
  {
   "cell_type": "code",
   "execution_count": 14,
   "id": "da9d50bb",
   "metadata": {},
   "outputs": [
    {
     "data": {
      "text/plain": [
       "array([[0.37695348, 0.36603697, 0.04449945],\n",
       "       [0.28398593, 0.69813109, 0.57773818],\n",
       "       [0.44443341, 0.67095371, 0.10489747]])"
      ]
     },
     "execution_count": 14,
     "metadata": {},
     "output_type": "execute_result"
    }
   ],
   "source": [
    "np.random.random((3, 3))"
   ]
  },
  {
   "cell_type": "markdown",
   "id": "5914bfdf",
   "metadata": {},
   "source": [
    "**（9）创建一个3 * 3的，均值为0，标准差为1的随机数构成的数组**"
   ]
  },
  {
   "cell_type": "code",
   "execution_count": 15,
   "id": "c2389b30",
   "metadata": {},
   "outputs": [
    {
     "data": {
      "text/plain": [
       "array([[ 0.19518543, -0.0739992 ,  0.80287096],\n",
       "       [-0.63865712,  0.04430498,  1.26189432],\n",
       "       [ 0.03405987,  1.8776522 , -1.0226886 ]])"
      ]
     },
     "execution_count": 15,
     "metadata": {},
     "output_type": "execute_result"
    }
   ],
   "source": [
    "np.random.normal(0, 1, (3, 3))"
   ]
  },
  {
   "cell_type": "markdown",
   "id": "059fea88",
   "metadata": {},
   "source": [
    "**（10）创建一个3 * 3的，在[0, 10)之间随机整数构成的数组**"
   ]
  },
  {
   "cell_type": "code",
   "execution_count": 16,
   "id": "e4d01f6d",
   "metadata": {},
   "outputs": [
    {
     "data": {
      "text/plain": [
       "array([[9, 7, 5],\n",
       "       [6, 4, 2],\n",
       "       [1, 9, 8]])"
      ]
     },
     "execution_count": 16,
     "metadata": {},
     "output_type": "execute_result"
    }
   ],
   "source": [
    "np.random.randint(0, 10, (3, 3))"
   ]
  },
  {
   "cell_type": "markdown",
   "id": "df235e92",
   "metadata": {},
   "source": [
    "**（11）随机重排列**"
   ]
  },
  {
   "cell_type": "code",
   "execution_count": 17,
   "id": "69f6bc2d",
   "metadata": {},
   "outputs": [
    {
     "data": {
      "text/plain": [
       "array([10, 40, 20, 30])"
      ]
     },
     "execution_count": 17,
     "metadata": {},
     "output_type": "execute_result"
    }
   ],
   "source": [
    "x = np.array([10, 20, 30, 40])\n",
    "np.random.permutation(x)    # 生产新列表"
   ]
  },
  {
   "cell_type": "code",
   "execution_count": 18,
   "id": "5e18d286",
   "metadata": {},
   "outputs": [
    {
     "name": "stdout",
     "output_type": "stream",
     "text": [
      "[10 20 30 40]\n",
      "[20 10 40 30]\n"
     ]
    }
   ],
   "source": [
    "print(x)\n",
    "np.random.shuffle(x)   #修改原列表\n",
    "print(x)"
   ]
  },
  {
   "cell_type": "markdown",
   "id": "5bfd572e",
   "metadata": {},
   "source": [
    "**（12）随机采样**\n",
    "\n",
    "- 按指定形状采样"
   ]
  },
  {
   "cell_type": "code",
   "execution_count": 19,
   "id": "371d26e5",
   "metadata": {},
   "outputs": [
    {
     "data": {
      "text/plain": [
       "array([10., 11., 12., 13., 14., 15., 16., 17., 18., 19., 20., 21., 22.,\n",
       "       23., 24.])"
      ]
     },
     "execution_count": 19,
     "metadata": {},
     "output_type": "execute_result"
    }
   ],
   "source": [
    "x = np.arange(10, 25, dtype = float)\n",
    "x"
   ]
  },
  {
   "cell_type": "code",
   "execution_count": 20,
   "id": "09ede708",
   "metadata": {},
   "outputs": [
    {
     "data": {
      "text/plain": [
       "array([[14., 21., 22.],\n",
       "       [20., 13., 11.],\n",
       "       [12., 15., 23.],\n",
       "       [19., 24., 21.]])"
      ]
     },
     "execution_count": 20,
     "metadata": {},
     "output_type": "execute_result"
    }
   ],
   "source": [
    "np.random.choice(x, size = (4, 3))"
   ]
  },
  {
   "cell_type": "markdown",
   "id": "8c4d0ebc",
   "metadata": {},
   "source": [
    "- 按概率采样"
   ]
  },
  {
   "cell_type": "code",
   "execution_count": 21,
   "id": "945ddee0",
   "metadata": {},
   "outputs": [
    {
     "data": {
      "text/plain": [
       "array([[18., 13., 21.],\n",
       "       [22., 19., 15.],\n",
       "       [12., 24., 13.],\n",
       "       [22., 24., 22.]])"
      ]
     },
     "execution_count": 21,
     "metadata": {},
     "output_type": "execute_result"
    }
   ],
   "source": [
    "np.random.choice(x, size = (4, 3), p = x / np.sum(x))"
   ]
  },
  {
   "cell_type": "markdown",
   "id": "c2d8c14f",
   "metadata": {},
   "source": [
    "注：\n",
    "```json\n",
    "numpy.random.choice(a, size=None, replace=True, p=None)\n",
    "```\n",
    "\n",
    "- 从a(只要是ndarray都可以，但必须是一维的)中随机抽取数字，并组成指定大小(size)的数组\n",
    "\n",
    "* replace:True表示可以取相同数字，False表示不可以取相同数字\n",
    "    \n",
    "- 数组p：与数组a相对应，表示取数组a中每个元素的概率，默认为选取每个元素的概率相同。"
   ]
  },
  {
   "cell_type": "markdown",
   "id": "1303aea3",
   "metadata": {},
   "source": [
    "## 3.Numpy数组的性质\n",
    "\n",
    "### 3.1. 数组的属性"
   ]
  },
  {
   "cell_type": "code",
   "execution_count": 22,
   "id": "d388f529",
   "metadata": {},
   "outputs": [
    {
     "data": {
      "text/plain": [
       "array([[5, 1, 4, 6],\n",
       "       [0, 4, 7, 4],\n",
       "       [3, 8, 2, 1]])"
      ]
     },
     "execution_count": 22,
     "metadata": {},
     "output_type": "execute_result"
    }
   ],
   "source": [
    "x = np.random.randint(10, size = (3, 4))\n",
    "x"
   ]
  },
  {
   "cell_type": "markdown",
   "id": "e0abb876",
   "metadata": {},
   "source": [
    "#### 1.数组的形状shape"
   ]
  },
  {
   "cell_type": "code",
   "execution_count": 23,
   "id": "2626220d",
   "metadata": {},
   "outputs": [
    {
     "data": {
      "text/plain": [
       "(3, 4)"
      ]
     },
     "execution_count": 23,
     "metadata": {},
     "output_type": "execute_result"
    }
   ],
   "source": [
    "x.shape"
   ]
  },
  {
   "cell_type": "markdown",
   "id": "1a2a3143",
   "metadata": {},
   "source": [
    "#### 2. 数组的维度ndim"
   ]
  },
  {
   "cell_type": "code",
   "execution_count": 24,
   "id": "659b557d",
   "metadata": {},
   "outputs": [
    {
     "data": {
      "text/plain": [
       "2"
      ]
     },
     "execution_count": 24,
     "metadata": {},
     "output_type": "execute_result"
    }
   ],
   "source": [
    "x.ndim"
   ]
  },
  {
   "cell_type": "code",
   "execution_count": 25,
   "id": "ade0e5b9",
   "metadata": {},
   "outputs": [
    {
     "data": {
      "text/plain": [
       "1"
      ]
     },
     "execution_count": 25,
     "metadata": {},
     "output_type": "execute_result"
    }
   ],
   "source": [
    "y = np.arange(10)\n",
    "y.ndim"
   ]
  },
  {
   "cell_type": "markdown",
   "id": "224b4082",
   "metadata": {},
   "source": [
    "#### 3. 数组的大小size"
   ]
  },
  {
   "cell_type": "code",
   "execution_count": 26,
   "id": "d5076f7e",
   "metadata": {},
   "outputs": [
    {
     "data": {
      "text/plain": [
       "12"
      ]
     },
     "execution_count": 26,
     "metadata": {},
     "output_type": "execute_result"
    }
   ],
   "source": [
    "x.size"
   ]
  },
  {
   "cell_type": "markdown",
   "id": "bcf74830",
   "metadata": {},
   "source": [
    "#### 4. 数组的数据类型dype"
   ]
  },
  {
   "cell_type": "code",
   "execution_count": 27,
   "id": "605a15aa",
   "metadata": {},
   "outputs": [
    {
     "data": {
      "text/plain": [
       "dtype('int32')"
      ]
     },
     "execution_count": 27,
     "metadata": {},
     "output_type": "execute_result"
    }
   ],
   "source": [
    "x.dtype"
   ]
  },
  {
   "cell_type": "markdown",
   "id": "403e08b5",
   "metadata": {},
   "source": [
    "### 3.2. 数组索引\n",
    "\n",
    "#### 1. 一维数组的索引"
   ]
  },
  {
   "cell_type": "code",
   "execution_count": 28,
   "id": "d9587511",
   "metadata": {},
   "outputs": [
    {
     "data": {
      "text/plain": [
       "array([0, 1, 2, 3, 4, 5, 6, 7, 8, 9])"
      ]
     },
     "execution_count": 28,
     "metadata": {},
     "output_type": "execute_result"
    }
   ],
   "source": [
    "x1 = np.arange(10)\n",
    "x1"
   ]
  },
  {
   "cell_type": "code",
   "execution_count": 29,
   "id": "0640e02d",
   "metadata": {},
   "outputs": [
    {
     "data": {
      "text/plain": [
       "0"
      ]
     },
     "execution_count": 29,
     "metadata": {},
     "output_type": "execute_result"
    }
   ],
   "source": [
    "x1[0]"
   ]
  },
  {
   "cell_type": "code",
   "execution_count": 30,
   "id": "4cd64167",
   "metadata": {},
   "outputs": [
    {
     "data": {
      "text/plain": [
       "5"
      ]
     },
     "execution_count": 30,
     "metadata": {},
     "output_type": "execute_result"
    }
   ],
   "source": [
    "x1[5]"
   ]
  },
  {
   "cell_type": "code",
   "execution_count": 31,
   "id": "7f3bd7a9",
   "metadata": {},
   "outputs": [
    {
     "data": {
      "text/plain": [
       "9"
      ]
     },
     "execution_count": 31,
     "metadata": {},
     "output_type": "execute_result"
    }
   ],
   "source": [
    "x1[-1]"
   ]
  },
  {
   "cell_type": "markdown",
   "id": "fcc1b460",
   "metadata": {},
   "source": [
    "#### 2. 多维数组的索引——以二维数组为例"
   ]
  },
  {
   "cell_type": "code",
   "execution_count": 32,
   "id": "beda50cd",
   "metadata": {},
   "outputs": [
    {
     "data": {
      "text/plain": [
       "array([[ 9, 17, 14],\n",
       "       [ 8,  4,  4]])"
      ]
     },
     "execution_count": 32,
     "metadata": {},
     "output_type": "execute_result"
    }
   ],
   "source": [
    "x2 = np.random.randint(0, 20, (2, 3))\n",
    "x2"
   ]
  },
  {
   "cell_type": "code",
   "execution_count": 33,
   "id": "58749dc3",
   "metadata": {},
   "outputs": [
    {
     "data": {
      "text/plain": [
       "9"
      ]
     },
     "execution_count": 33,
     "metadata": {},
     "output_type": "execute_result"
    }
   ],
   "source": [
    "x2[0, 0]"
   ]
  },
  {
   "cell_type": "code",
   "execution_count": 34,
   "id": "caff3eb1",
   "metadata": {},
   "outputs": [
    {
     "data": {
      "text/plain": [
       "9"
      ]
     },
     "execution_count": 34,
     "metadata": {},
     "output_type": "execute_result"
    }
   ],
   "source": [
    "x2[0][0]"
   ]
  },
  {
   "cell_type": "markdown",
   "id": "849d809d",
   "metadata": {},
   "source": [
    "**注意：numpy数组的数据类型是固定的，向一个整型数组插入一个浮点值，浮点值会向下进行取整**"
   ]
  },
  {
   "cell_type": "code",
   "execution_count": 35,
   "id": "49304c14",
   "metadata": {},
   "outputs": [],
   "source": [
    "x2[1, 2] = 1.111"
   ]
  },
  {
   "cell_type": "code",
   "execution_count": 36,
   "id": "89a35598",
   "metadata": {},
   "outputs": [
    {
     "data": {
      "text/plain": [
       "array([[ 9, 17, 14],\n",
       "       [ 8,  4,  1]])"
      ]
     },
     "execution_count": 36,
     "metadata": {},
     "output_type": "execute_result"
    }
   ],
   "source": [
    "x2"
   ]
  },
  {
   "cell_type": "markdown",
   "id": "372191ae",
   "metadata": {},
   "source": [
    "### 3.3. 数组的切片\n",
    "\n",
    "#### 1. 一维数组——跟列表一样"
   ]
  },
  {
   "cell_type": "code",
   "execution_count": 37,
   "id": "0ab56547",
   "metadata": {},
   "outputs": [
    {
     "data": {
      "text/plain": [
       "array([0, 1, 2, 3, 4, 5, 6, 7, 8, 9])"
      ]
     },
     "execution_count": 37,
     "metadata": {},
     "output_type": "execute_result"
    }
   ],
   "source": [
    "x1 = np.arange(10)\n",
    "x1"
   ]
  },
  {
   "cell_type": "code",
   "execution_count": 38,
   "id": "e9c232f0",
   "metadata": {},
   "outputs": [
    {
     "data": {
      "text/plain": [
       "array([0, 1, 2])"
      ]
     },
     "execution_count": 38,
     "metadata": {},
     "output_type": "execute_result"
    }
   ],
   "source": [
    "x1[:3]"
   ]
  },
  {
   "cell_type": "code",
   "execution_count": 39,
   "id": "40b7c551",
   "metadata": {},
   "outputs": [
    {
     "data": {
      "text/plain": [
       "array([3, 4, 5, 6, 7, 8, 9])"
      ]
     },
     "execution_count": 39,
     "metadata": {},
     "output_type": "execute_result"
    }
   ],
   "source": [
    "x1[3:]"
   ]
  },
  {
   "cell_type": "code",
   "execution_count": 40,
   "id": "37751a11",
   "metadata": {},
   "outputs": [
    {
     "data": {
      "text/plain": [
       "array([9, 8, 7, 6, 5, 4, 3, 2, 1, 0])"
      ]
     },
     "execution_count": 40,
     "metadata": {},
     "output_type": "execute_result"
    }
   ],
   "source": [
    "x1[::-1]"
   ]
  },
  {
   "cell_type": "markdown",
   "id": "33d2851a",
   "metadata": {},
   "source": [
    "注：\n",
    "    \n",
    "    list[start : end : step]\n",
    "\n",
    "左闭右开：[ start, end )"
   ]
  },
  {
   "cell_type": "markdown",
   "id": "944ada07",
   "metadata": {},
   "source": [
    "#### 2. 多维数组——以二维数组为例"
   ]
  },
  {
   "cell_type": "code",
   "execution_count": 41,
   "id": "1a79ae57",
   "metadata": {},
   "outputs": [
    {
     "data": {
      "text/plain": [
       "array([[13,  2,  3,  0],\n",
       "       [11, 12, 12,  9],\n",
       "       [14, 18,  2,  7]])"
      ]
     },
     "execution_count": 41,
     "metadata": {},
     "output_type": "execute_result"
    }
   ],
   "source": [
    "x2 = np.random.randint(20, size = (3, 4))\n",
    "x2"
   ]
  },
  {
   "cell_type": "code",
   "execution_count": 42,
   "id": "1b20c12e",
   "metadata": {},
   "outputs": [
    {
     "data": {
      "text/plain": [
       "array([[13,  2,  3],\n",
       "       [11, 12, 12]])"
      ]
     },
     "execution_count": 42,
     "metadata": {},
     "output_type": "execute_result"
    }
   ],
   "source": [
    "x2[:2, :3]   # 前两行，前三列"
   ]
  },
  {
   "cell_type": "code",
   "execution_count": 43,
   "id": "759b65c8",
   "metadata": {},
   "outputs": [
    {
     "data": {
      "text/plain": [
       "array([[13,  3],\n",
       "       [11, 12]])"
      ]
     },
     "execution_count": 43,
     "metadata": {},
     "output_type": "execute_result"
    }
   ],
   "source": [
    "x2[:2, 0:3:2]   # 前两行 前三列（每隔一列）"
   ]
  },
  {
   "cell_type": "code",
   "execution_count": 44,
   "id": "d4a2d1c4",
   "metadata": {},
   "outputs": [
    {
     "data": {
      "text/plain": [
       "array([[ 7,  2, 18, 14],\n",
       "       [ 9, 12, 12, 11],\n",
       "       [ 0,  3,  2, 13]])"
      ]
     },
     "execution_count": 44,
     "metadata": {},
     "output_type": "execute_result"
    }
   ],
   "source": [
    "x2[::-1, ::-1]  # 旋转180度"
   ]
  },
  {
   "cell_type": "markdown",
   "id": "9794dbea",
   "metadata": {},
   "source": [
    "#### 3. 获取数组的行和列"
   ]
  },
  {
   "cell_type": "code",
   "execution_count": 45,
   "id": "58924e4d",
   "metadata": {},
   "outputs": [
    {
     "data": {
      "text/plain": [
       "array([[ 8, 15,  8, 18],\n",
       "       [12,  3, 12, 11],\n",
       "       [13,  5, 15,  7]])"
      ]
     },
     "execution_count": 45,
     "metadata": {},
     "output_type": "execute_result"
    }
   ],
   "source": [
    "x3 = np.random.randint(20, size = (3, 4))\n",
    "x3"
   ]
  },
  {
   "cell_type": "code",
   "execution_count": 46,
   "id": "79bf7a01",
   "metadata": {},
   "outputs": [
    {
     "data": {
      "text/plain": [
       "array([12,  3, 12, 11])"
      ]
     },
     "execution_count": 46,
     "metadata": {},
     "output_type": "execute_result"
    }
   ],
   "source": [
    "x3[1, :]   # 第一行 从0开始计数"
   ]
  },
  {
   "cell_type": "code",
   "execution_count": 47,
   "id": "5337d6d7",
   "metadata": {},
   "outputs": [
    {
     "data": {
      "text/plain": [
       "array([12,  3, 12, 11])"
      ]
     },
     "execution_count": 47,
     "metadata": {},
     "output_type": "execute_result"
    }
   ],
   "source": [
    "x3[1]    # 第一行简写"
   ]
  },
  {
   "cell_type": "code",
   "execution_count": 48,
   "id": "54ee42c7",
   "metadata": {},
   "outputs": [
    {
     "data": {
      "text/plain": [
       "array([ 8, 12, 15])"
      ]
     },
     "execution_count": 48,
     "metadata": {},
     "output_type": "execute_result"
    }
   ],
   "source": [
    "x3[:, 2]   # 第二列   从0开始计数"
   ]
  },
  {
   "cell_type": "markdown",
   "id": "b70c266e",
   "metadata": {},
   "source": [
    "#### 4. 切片获取的是视图，而非副本\n",
    "\n",
    "通俗来说：就是从切片范围那一小块去看原数组"
   ]
  },
  {
   "cell_type": "code",
   "execution_count": 49,
   "id": "a0c5e654",
   "metadata": {},
   "outputs": [
    {
     "data": {
      "text/plain": [
       "array([[ 9, 12,  5,  6],\n",
       "       [ 7, 11,  3,  4],\n",
       "       [11, 11,  3,  8]])"
      ]
     },
     "execution_count": 49,
     "metadata": {},
     "output_type": "execute_result"
    }
   ],
   "source": [
    "x4 = np.random.randint(20, size = (3, 4))\n",
    "x4"
   ]
  },
  {
   "cell_type": "code",
   "execution_count": 50,
   "id": "7646dc1b",
   "metadata": {},
   "outputs": [
    {
     "data": {
      "text/plain": [
       "array([[ 9, 12],\n",
       "       [ 7, 11]])"
      ]
     },
     "execution_count": 50,
     "metadata": {},
     "output_type": "execute_result"
    }
   ],
   "source": [
    "x5 = x4[:2, :2]\n",
    "x5"
   ]
  },
  {
   "cell_type": "markdown",
   "id": "e6c200ce",
   "metadata": {},
   "source": [
    "**注意：视图元素发生修改，则原数组亦发生相应修改**"
   ]
  },
  {
   "cell_type": "code",
   "execution_count": 51,
   "id": "830a30fd",
   "metadata": {},
   "outputs": [
    {
     "data": {
      "text/plain": [
       "array([[ 0, 12],\n",
       "       [ 7, 11]])"
      ]
     },
     "execution_count": 51,
     "metadata": {},
     "output_type": "execute_result"
    }
   ],
   "source": [
    "x5[0 ,0] = 0\n",
    "x5"
   ]
  },
  {
   "cell_type": "code",
   "execution_count": 52,
   "id": "6b85d92d",
   "metadata": {},
   "outputs": [
    {
     "data": {
      "text/plain": [
       "array([[ 0, 12,  5,  6],\n",
       "       [ 7, 11,  3,  4],\n",
       "       [11, 11,  3,  8]])"
      ]
     },
     "execution_count": 52,
     "metadata": {},
     "output_type": "execute_result"
    }
   ],
   "source": [
    "x4"
   ]
  },
  {
   "cell_type": "markdown",
   "id": "5c0b43ac",
   "metadata": {},
   "source": [
    "**修改切片的安全方式：copy**"
   ]
  },
  {
   "cell_type": "code",
   "execution_count": 53,
   "id": "a912258a",
   "metadata": {},
   "outputs": [
    {
     "data": {
      "text/plain": [
       "array([[ 5, 16,  6, 14],\n",
       "       [15, 19, 16, 12],\n",
       "       [16, 10,  4, 11]])"
      ]
     },
     "execution_count": 53,
     "metadata": {},
     "output_type": "execute_result"
    }
   ],
   "source": [
    "x4 = np.random.randint(20, size = (3, 4))\n",
    "x4"
   ]
  },
  {
   "cell_type": "code",
   "execution_count": 54,
   "id": "d42e3968",
   "metadata": {},
   "outputs": [
    {
     "data": {
      "text/plain": [
       "array([[ 5, 16],\n",
       "       [15, 19]])"
      ]
     },
     "execution_count": 54,
     "metadata": {},
     "output_type": "execute_result"
    }
   ],
   "source": [
    "x6 = x4[:2, :2].copy()\n",
    "x6"
   ]
  },
  {
   "cell_type": "code",
   "execution_count": 55,
   "id": "319cdde1",
   "metadata": {},
   "outputs": [
    {
     "data": {
      "text/plain": [
       "array([[ 0, 16],\n",
       "       [15, 19]])"
      ]
     },
     "execution_count": 55,
     "metadata": {},
     "output_type": "execute_result"
    }
   ],
   "source": [
    "x6[0, 0] = 0\n",
    "x6"
   ]
  },
  {
   "cell_type": "code",
   "execution_count": 56,
   "id": "da778eaf",
   "metadata": {},
   "outputs": [
    {
     "data": {
      "text/plain": [
       "array([[ 5, 16,  6, 14],\n",
       "       [15, 19, 16, 12],\n",
       "       [16, 10,  4, 11]])"
      ]
     },
     "execution_count": 56,
     "metadata": {},
     "output_type": "execute_result"
    }
   ],
   "source": [
    "x4"
   ]
  },
  {
   "cell_type": "markdown",
   "id": "6af65661",
   "metadata": {},
   "source": [
    "### 3.4. 数组的变形"
   ]
  },
  {
   "cell_type": "code",
   "execution_count": 57,
   "id": "888f47ff",
   "metadata": {},
   "outputs": [
    {
     "data": {
      "text/plain": [
       "array([8, 5, 8, 9, 5, 0, 8, 4, 5, 3, 3, 1])"
      ]
     },
     "execution_count": 57,
     "metadata": {},
     "output_type": "execute_result"
    }
   ],
   "source": [
    "x5 = np.random.randint(0, 10, (12,))\n",
    "x5"
   ]
  },
  {
   "cell_type": "code",
   "execution_count": 58,
   "id": "bab8dcc5",
   "metadata": {},
   "outputs": [
    {
     "data": {
      "text/plain": [
       "(12,)"
      ]
     },
     "execution_count": 58,
     "metadata": {},
     "output_type": "execute_result"
    }
   ],
   "source": [
    "x5.shape"
   ]
  },
  {
   "cell_type": "code",
   "execution_count": 59,
   "id": "d25629c3",
   "metadata": {},
   "outputs": [
    {
     "data": {
      "text/plain": [
       "array([[8, 5, 8, 9],\n",
       "       [5, 0, 8, 4],\n",
       "       [5, 3, 3, 1]])"
      ]
     },
     "execution_count": 59,
     "metadata": {},
     "output_type": "execute_result"
    }
   ],
   "source": [
    "x6 = x5.reshape(3, 4)   # 要求：size需要相同\n",
    "x6"
   ]
  },
  {
   "cell_type": "markdown",
   "id": "a9207363",
   "metadata": {},
   "source": [
    "**注意：reshape返回的是视图，而非副本**"
   ]
  },
  {
   "cell_type": "code",
   "execution_count": 60,
   "id": "021f5f6a",
   "metadata": {},
   "outputs": [
    {
     "data": {
      "text/plain": [
       "array([0, 5, 8, 9, 5, 0, 8, 4, 5, 3, 3, 1])"
      ]
     },
     "execution_count": 60,
     "metadata": {},
     "output_type": "execute_result"
    }
   ],
   "source": [
    "x6[0, 0] = 0\n",
    "x5"
   ]
  },
  {
   "cell_type": "markdown",
   "id": "fcb110d2",
   "metadata": {},
   "source": [
    "**一维向量转行向量**"
   ]
  },
  {
   "cell_type": "code",
   "execution_count": 61,
   "id": "46262674",
   "metadata": {},
   "outputs": [
    {
     "data": {
      "text/plain": [
       "array([[0, 5, 8, 9, 5, 0, 8, 4, 5, 3, 3, 1]])"
      ]
     },
     "execution_count": 61,
     "metadata": {},
     "output_type": "execute_result"
    }
   ],
   "source": [
    "x7 = x5.reshape(1, x5.shape[0])\n",
    "x7"
   ]
  },
  {
   "cell_type": "markdown",
   "id": "835b5af7",
   "metadata": {},
   "source": [
    "**一维向量转列向量**"
   ]
  },
  {
   "cell_type": "code",
   "execution_count": 62,
   "id": "c35e56b0",
   "metadata": {},
   "outputs": [
    {
     "data": {
      "text/plain": [
       "array([[0],\n",
       "       [5],\n",
       "       [8],\n",
       "       [9],\n",
       "       [5],\n",
       "       [0],\n",
       "       [8],\n",
       "       [4],\n",
       "       [5],\n",
       "       [3],\n",
       "       [3],\n",
       "       [1]])"
      ]
     },
     "execution_count": 62,
     "metadata": {},
     "output_type": "execute_result"
    }
   ],
   "source": [
    "x7 = x5.reshape(x5.shape[0], 1)\n",
    "x7"
   ]
  },
  {
   "cell_type": "code",
   "execution_count": 63,
   "id": "3b906867",
   "metadata": {},
   "outputs": [
    {
     "data": {
      "text/plain": [
       "array([[0],\n",
       "       [5],\n",
       "       [8],\n",
       "       [9],\n",
       "       [5],\n",
       "       [0],\n",
       "       [8],\n",
       "       [4],\n",
       "       [5],\n",
       "       [3],\n",
       "       [3],\n",
       "       [1]])"
      ]
     },
     "execution_count": 63,
     "metadata": {},
     "output_type": "execute_result"
    }
   ],
   "source": [
    "x8 = x5[:,np.newaxis]\n",
    "x8"
   ]
  },
  {
   "cell_type": "markdown",
   "id": "2da53b84",
   "metadata": {},
   "source": [
    "**多维向量转一维向量**"
   ]
  },
  {
   "cell_type": "code",
   "execution_count": 64,
   "id": "312aaecb",
   "metadata": {},
   "outputs": [
    {
     "data": {
      "text/plain": [
       "array([[8, 7, 5, 2],\n",
       "       [6, 5, 6, 9],\n",
       "       [9, 1, 0, 7]])"
      ]
     },
     "execution_count": 64,
     "metadata": {},
     "output_type": "execute_result"
    }
   ],
   "source": [
    "x6 = np.random.randint(0, 10, (3, 4))\n",
    "x6"
   ]
  },
  {
   "cell_type": "markdown",
   "id": "d1281744",
   "metadata": {},
   "source": [
    "**flatten返回的是副本**"
   ]
  },
  {
   "cell_type": "code",
   "execution_count": 65,
   "id": "64ebed7a",
   "metadata": {},
   "outputs": [
    {
     "data": {
      "text/plain": [
       "array([8, 7, 5, 2, 6, 5, 6, 9, 9, 1, 0, 7])"
      ]
     },
     "execution_count": 65,
     "metadata": {},
     "output_type": "execute_result"
    }
   ],
   "source": [
    "x9 = x6.flatten()\n",
    "x9"
   ]
  },
  {
   "cell_type": "code",
   "execution_count": 66,
   "id": "651e9cdf",
   "metadata": {},
   "outputs": [
    {
     "data": {
      "text/plain": [
       "array([[8, 7, 5, 2],\n",
       "       [6, 5, 6, 9],\n",
       "       [9, 1, 0, 7]])"
      ]
     },
     "execution_count": 66,
     "metadata": {},
     "output_type": "execute_result"
    }
   ],
   "source": [
    "x9[0] = 0\n",
    "x6"
   ]
  },
  {
   "cell_type": "markdown",
   "id": "b05bd343",
   "metadata": {},
   "source": [
    "**ravel返回的是视图**"
   ]
  },
  {
   "cell_type": "code",
   "execution_count": 67,
   "id": "09f992b4",
   "metadata": {},
   "outputs": [
    {
     "data": {
      "text/plain": [
       "array([8, 7, 5, 2, 6, 5, 6, 9, 9, 1, 0, 7])"
      ]
     },
     "execution_count": 67,
     "metadata": {},
     "output_type": "execute_result"
    }
   ],
   "source": [
    "x11 = x6.reshape(-1)\n",
    "x11"
   ]
  },
  {
   "cell_type": "code",
   "execution_count": 68,
   "id": "7c389e5c",
   "metadata": {},
   "outputs": [
    {
     "data": {
      "text/plain": [
       "array([[10,  7,  5,  2],\n",
       "       [ 6,  5,  6,  9],\n",
       "       [ 9,  1,  0,  7]])"
      ]
     },
     "execution_count": 68,
     "metadata": {},
     "output_type": "execute_result"
    }
   ],
   "source": [
    "x11[0] = 10\n",
    "x6"
   ]
  },
  {
   "cell_type": "markdown",
   "id": "f8bee623",
   "metadata": {},
   "source": [
    "### 3.5. 数组的拼接"
   ]
  },
  {
   "cell_type": "code",
   "execution_count": 69,
   "id": "99b86ccc",
   "metadata": {},
   "outputs": [],
   "source": [
    "x1 = np.array([[1, 2, 3],\n",
    "             [4, 5, 6]])\n",
    "x2 = np.array([[7, 8, 9],\n",
    "              [0, 1, 2]])"
   ]
  },
  {
   "cell_type": "markdown",
   "id": "bb1387a7",
   "metadata": {},
   "source": [
    "#### 1. 水平拼接——非视图    hstack"
   ]
  },
  {
   "cell_type": "code",
   "execution_count": 70,
   "id": "4b489e90",
   "metadata": {},
   "outputs": [
    {
     "data": {
      "text/plain": [
       "array([[1, 2, 3, 7, 8, 9],\n",
       "       [4, 5, 6, 0, 1, 2]])"
      ]
     },
     "execution_count": 70,
     "metadata": {},
     "output_type": "execute_result"
    }
   ],
   "source": [
    "x3 = np.hstack([x1, x2])\n",
    "x3"
   ]
  },
  {
   "cell_type": "code",
   "execution_count": 71,
   "id": "ecb56d63",
   "metadata": {},
   "outputs": [
    {
     "data": {
      "text/plain": [
       "array([[1, 2, 3],\n",
       "       [4, 5, 6]])"
      ]
     },
     "execution_count": 71,
     "metadata": {},
     "output_type": "execute_result"
    }
   ],
   "source": [
    "x3[0][0] = 0\n",
    "x1"
   ]
  },
  {
   "cell_type": "code",
   "execution_count": 72,
   "id": "f49e1c64",
   "metadata": {},
   "outputs": [
    {
     "data": {
      "text/plain": [
       "array([[1, 2, 3, 7, 8, 9],\n",
       "       [4, 5, 6, 0, 1, 2]])"
      ]
     },
     "execution_count": 72,
     "metadata": {},
     "output_type": "execute_result"
    }
   ],
   "source": [
    "x4 = np.c_[x1, x2]\n",
    "x4"
   ]
  },
  {
   "cell_type": "code",
   "execution_count": 73,
   "id": "ca30fd68",
   "metadata": {},
   "outputs": [
    {
     "data": {
      "text/plain": [
       "array([[1, 2, 3],\n",
       "       [4, 5, 6]])"
      ]
     },
     "execution_count": 73,
     "metadata": {},
     "output_type": "execute_result"
    }
   ],
   "source": [
    "x4[0][0] = 0\n",
    "x1"
   ]
  },
  {
   "cell_type": "markdown",
   "id": "45e5db33",
   "metadata": {},
   "source": [
    "#### 2. 垂直拼接——非视图    vstack"
   ]
  },
  {
   "cell_type": "code",
   "execution_count": 74,
   "id": "b5085955",
   "metadata": {},
   "outputs": [],
   "source": [
    "x1 = np.array([[1, 2, 3],\n",
    "              [4, 5, 6]])\n",
    "x2 = np.array([[7, 8, 9],\n",
    "             [0, 1, 2]])"
   ]
  },
  {
   "cell_type": "code",
   "execution_count": 75,
   "id": "13f88390",
   "metadata": {},
   "outputs": [
    {
     "data": {
      "text/plain": [
       "array([[1, 2, 3],\n",
       "       [4, 5, 6],\n",
       "       [7, 8, 9],\n",
       "       [0, 1, 2]])"
      ]
     },
     "execution_count": 75,
     "metadata": {},
     "output_type": "execute_result"
    }
   ],
   "source": [
    "x5 = np.vstack([x1, x2])\n",
    "x5"
   ]
  },
  {
   "cell_type": "code",
   "execution_count": 76,
   "id": "62d86c49",
   "metadata": {},
   "outputs": [
    {
     "data": {
      "text/plain": [
       "array([[1, 2, 3],\n",
       "       [4, 5, 6],\n",
       "       [7, 8, 9],\n",
       "       [0, 1, 2]])"
      ]
     },
     "execution_count": 76,
     "metadata": {},
     "output_type": "execute_result"
    }
   ],
   "source": [
    "x6 = np.r_[x1, x2]\n",
    "x6"
   ]
  },
  {
   "cell_type": "markdown",
   "id": "c7d2c344",
   "metadata": {},
   "source": [
    "### 3.6. 数组的分裂"
   ]
  },
  {
   "cell_type": "markdown",
   "id": "c9ab67ff",
   "metadata": {},
   "source": [
    "#### 1. split的用法"
   ]
  },
  {
   "cell_type": "code",
   "execution_count": 77,
   "id": "4799c7ce",
   "metadata": {},
   "outputs": [
    {
     "data": {
      "text/plain": [
       "array([0, 1, 2, 3, 4, 5, 6, 7, 8, 9])"
      ]
     },
     "execution_count": 77,
     "metadata": {},
     "output_type": "execute_result"
    }
   ],
   "source": [
    "x6 = np.arange(10)\n",
    "x6"
   ]
  },
  {
   "cell_type": "code",
   "execution_count": 78,
   "id": "43a88c44",
   "metadata": {},
   "outputs": [
    {
     "name": "stdout",
     "output_type": "stream",
     "text": [
      "[0 1] [2 3 4 5 6]\n"
     ]
    }
   ],
   "source": [
    "x1, x2, x3 = np.split(x6, [2, 7])\n",
    "print(x1, x2)"
   ]
  },
  {
   "cell_type": "markdown",
   "id": "1fb7d234",
   "metadata": {},
   "source": [
    "注：\n",
    "\n",
    "    np.split(ary, indices_or_sections, axis=0)\n",
    "    \n",
    "参数：\n",
    "\n",
    "ary：要切分的数组\n",
    "\n",
    "indices_or_sections：如果是一个整数，就用该数平均切分这么多份，如果是一个数组，里面的数，代表沿轴切分的位置，轴在该数代表的下标与前面的下标之间的位置\n",
    "\n",
    "axis：沿着哪个维度进行切向，默认为0，横向切分"
   ]
  },
  {
   "cell_type": "markdown",
   "id": "1f646fd8",
   "metadata": {},
   "source": [
    "#### 2. hsplit的用法——水平分隔"
   ]
  },
  {
   "cell_type": "code",
   "execution_count": 79,
   "id": "c8c9a73e",
   "metadata": {},
   "outputs": [
    {
     "data": {
      "text/plain": [
       "array([[ 1,  2,  3,  4,  5],\n",
       "       [ 6,  7,  8,  9, 10],\n",
       "       [11, 12, 13, 14, 15],\n",
       "       [16, 17, 18, 19, 20],\n",
       "       [21, 22, 23, 24, 25]])"
      ]
     },
     "execution_count": 79,
     "metadata": {},
     "output_type": "execute_result"
    }
   ],
   "source": [
    "x7 = np.arange(1, 26).reshape(5, 5)\n",
    "x7"
   ]
  },
  {
   "cell_type": "code",
   "execution_count": 80,
   "id": "610e9659",
   "metadata": {},
   "outputs": [
    {
     "name": "stdout",
     "output_type": "stream",
     "text": [
      "right:\n",
      " [[ 1  2]\n",
      " [ 6  7]\n",
      " [11 12]\n",
      " [16 17]\n",
      " [21 22]]\n",
      "middle:\n",
      " [[ 3  4]\n",
      " [ 8  9]\n",
      " [13 14]\n",
      " [18 19]\n",
      " [23 24]]\n",
      "left:\n",
      " [[ 5]\n",
      " [10]\n",
      " [15]\n",
      " [20]\n",
      " [25]]\n"
     ]
    }
   ],
   "source": [
    "right, middle, left = np.hsplit(x7, [2, 4])\n",
    "print(\"right:\\n\", right)    # 第0-1行\n",
    "print(\"middle:\\n\", middle)    #第2-3行\n",
    "print(\"left:\\n\", left)    #第4行"
   ]
  },
  {
   "cell_type": "markdown",
   "id": "07c95add",
   "metadata": {},
   "source": [
    "#### 3. vsplit的用法——垂直分隔"
   ]
  },
  {
   "cell_type": "code",
   "execution_count": 81,
   "id": "2d3d13fc",
   "metadata": {},
   "outputs": [
    {
     "data": {
      "text/plain": [
       "array([[ 1,  2,  3,  4,  5],\n",
       "       [ 6,  7,  8,  9, 10],\n",
       "       [11, 12, 13, 14, 15],\n",
       "       [16, 17, 18, 19, 20],\n",
       "       [21, 22, 23, 24, 25]])"
      ]
     },
     "execution_count": 81,
     "metadata": {},
     "output_type": "execute_result"
    }
   ],
   "source": [
    "x7 = np.arange(1, 26).reshape(5, 5)\n",
    "x7"
   ]
  },
  {
   "cell_type": "code",
   "execution_count": 82,
   "id": "e0e8d401",
   "metadata": {},
   "outputs": [
    {
     "name": "stdout",
     "output_type": "stream",
     "text": [
      "upper:\n",
      " [[ 1  2  3  4  5]\n",
      " [ 6  7  8  9 10]]\n",
      "middle:\n",
      " [[11 12 13 14 15]\n",
      " [16 17 18 19 20]]\n",
      "lower:\n",
      " [[21 22 23 24 25]]\n"
     ]
    }
   ],
   "source": [
    "upper, middle, lower = np.vsplit(x7, [2, 4])\n",
    "print(\"upper:\\n\", upper)    #第0-1行\n",
    "print(\"middle:\\n\", middle)    #第2-3行\n",
    "print(\"lower:\\n\", lower)    #第4行"
   ]
  },
  {
   "cell_type": "markdown",
   "id": "8d21ca6a",
   "metadata": {},
   "source": [
    "## 4. Numpy四大运算\n",
    "\n",
    "### 4.1. 向量化运算\n",
    "\n",
    "#### 1. 与数字的加减乘除等"
   ]
  },
  {
   "cell_type": "code",
   "execution_count": 83,
   "id": "c5635e39",
   "metadata": {},
   "outputs": [
    {
     "data": {
      "text/plain": [
       "array([1, 2, 3, 4, 5])"
      ]
     },
     "execution_count": 83,
     "metadata": {},
     "output_type": "execute_result"
    }
   ],
   "source": [
    "x1 = np.arange(1, 6)\n",
    "x1"
   ]
  },
  {
   "cell_type": "code",
   "execution_count": 84,
   "id": "7426341b",
   "metadata": {},
   "outputs": [
    {
     "name": "stdout",
     "output_type": "stream",
     "text": [
      "x1 + 5 [ 6  7  8  9 10]\n",
      "x1 - 5 [-4 -3 -2 -1  0]\n",
      "x1 * 5 [ 5 10 15 20 25]\n",
      "x1 / 5 [0.2 0.4 0.6 0.8 1. ]\n"
     ]
    }
   ],
   "source": [
    "print(\"x1 + 5\", x1 + 5)\n",
    "print(\"x1 - 5\", x1 - 5)\n",
    "print(\"x1 * 5\", x1 * 5)\n",
    "print(\"x1 / 5\", x1 / 5)"
   ]
  },
  {
   "cell_type": "code",
   "execution_count": 85,
   "id": "ab7b190e",
   "metadata": {},
   "outputs": [
    {
     "name": "stdout",
     "output_type": "stream",
     "text": [
      "-x1 [-1 -2 -3 -4 -5]\n",
      "x1 ** 2 [ 1  4  9 16 25]\n",
      "x1 // 2 [0 1 1 2 2]\n",
      "x1 % 2 [1 0 1 0 1]\n"
     ]
    }
   ],
   "source": [
    "print(\"-x1\", -x1)\n",
    "print(\"x1 ** 2\", x1 ** 2)\n",
    "print(\"x1 // 2\", x1 // 2)  # 求整数商\n",
    "print(\"x1 % 2\", x1 % 2)"
   ]
  },
  {
   "cell_type": "markdown",
   "id": "7ffb3169",
   "metadata": {},
   "source": [
    "#### 2. 绝对值，三角函数，指数，对数\n",
    "\n",
    "（1）绝对值"
   ]
  },
  {
   "cell_type": "code",
   "execution_count": 86,
   "id": "a31587cb",
   "metadata": {},
   "outputs": [
    {
     "data": {
      "text/plain": [
       "array([ 1, -1,  2, -2,  0])"
      ]
     },
     "execution_count": 86,
     "metadata": {},
     "output_type": "execute_result"
    }
   ],
   "source": [
    "x2 = np.array([1, -1, 2, -2, 0])\n",
    "x2"
   ]
  },
  {
   "cell_type": "code",
   "execution_count": 87,
   "id": "e6e9a82f",
   "metadata": {},
   "outputs": [
    {
     "data": {
      "text/plain": [
       "array([1, 1, 2, 2, 0])"
      ]
     },
     "execution_count": 87,
     "metadata": {},
     "output_type": "execute_result"
    }
   ],
   "source": [
    "abs(x2)"
   ]
  },
  {
   "cell_type": "code",
   "execution_count": 88,
   "id": "931771d5",
   "metadata": {},
   "outputs": [
    {
     "data": {
      "text/plain": [
       "array([1, 1, 2, 2, 0])"
      ]
     },
     "execution_count": 88,
     "metadata": {},
     "output_type": "execute_result"
    }
   ],
   "source": [
    "np.abs(x2)"
   ]
  },
  {
   "cell_type": "markdown",
   "id": "11a07aa0",
   "metadata": {},
   "source": [
    "（2）三角函数"
   ]
  },
  {
   "cell_type": "code",
   "execution_count": 89,
   "id": "7d276d4f",
   "metadata": {},
   "outputs": [
    {
     "data": {
      "text/plain": [
       "array([0.        , 1.57079633, 3.14159265])"
      ]
     },
     "execution_count": 89,
     "metadata": {},
     "output_type": "execute_result"
    }
   ],
   "source": [
    "theta = np.linspace(0, np.pi, 3)\n",
    "theta"
   ]
  },
  {
   "cell_type": "code",
   "execution_count": 90,
   "id": "b4b23270",
   "metadata": {},
   "outputs": [
    {
     "name": "stdout",
     "output_type": "stream",
     "text": [
      "sin(theta) [0.0000000e+00 1.0000000e+00 1.2246468e-16]\n",
      "con(theta) [ 1.000000e+00  6.123234e-17 -1.000000e+00]\n",
      "tan(theta) [ 0.00000000e+00  1.63312394e+16 -1.22464680e-16]\n"
     ]
    }
   ],
   "source": [
    "print(\"sin(theta)\", np.sin(theta))\n",
    "print(\"con(theta)\", np.cos(theta))\n",
    "print(\"tan(theta)\", np.tan(theta))"
   ]
  },
  {
   "cell_type": "code",
   "execution_count": 91,
   "id": "5d46d7fc",
   "metadata": {},
   "outputs": [
    {
     "name": "stdout",
     "output_type": "stream",
     "text": [
      "arcsin(x) [ 1.57079633  0.         -1.57079633]\n",
      "arccon(x) [0.         1.57079633 3.14159265]\n",
      "arctan(x) [ 0.78539816  0.         -0.78539816]\n"
     ]
    }
   ],
   "source": [
    "x = [1, 0, -1]\n",
    "print(\"arcsin(x)\", np.arcsin(x))\n",
    "print(\"arccon(x)\", np.arccos(x))\n",
    "print(\"arctan(x)\", np.arctan(x))"
   ]
  },
  {
   "cell_type": "markdown",
   "id": "9cd37ccd",
   "metadata": {},
   "source": [
    "（3）指数运算"
   ]
  },
  {
   "cell_type": "code",
   "execution_count": 92,
   "id": "3d98e383",
   "metadata": {},
   "outputs": [
    {
     "data": {
      "text/plain": [
       "array([0, 1, 2])"
      ]
     },
     "execution_count": 92,
     "metadata": {},
     "output_type": "execute_result"
    }
   ],
   "source": [
    "x = np.arange(3)\n",
    "x"
   ]
  },
  {
   "cell_type": "code",
   "execution_count": 93,
   "id": "38cbebec",
   "metadata": {},
   "outputs": [
    {
     "data": {
      "text/plain": [
       "array([1.        , 2.71828183, 7.3890561 ])"
      ]
     },
     "execution_count": 93,
     "metadata": {},
     "output_type": "execute_result"
    }
   ],
   "source": [
    "np.exp(x)"
   ]
  },
  {
   "cell_type": "markdown",
   "id": "d4794aa7",
   "metadata": {},
   "source": [
    "（4）对数运算"
   ]
  },
  {
   "cell_type": "code",
   "execution_count": 94,
   "id": "f1178c14",
   "metadata": {},
   "outputs": [
    {
     "name": "stdout",
     "output_type": "stream",
     "text": [
      "ln(x) [0.         0.69314718 1.38629436 2.07944154 2.30258509]\n",
      "log2(x) [0.         1.         2.         3.         3.32192809]\n",
      "log10(x) [0.         0.30103    0.60205999 0.90308999 1.        ]\n"
     ]
    }
   ],
   "source": [
    "x = np.array([1, 2, 4, 8, 10])\n",
    "print(\"ln(x)\", np.log(x))\n",
    "print(\"log2(x)\", np.log2(x))\n",
    "print(\"log10(x)\", np.log10(x))"
   ]
  },
  {
   "cell_type": "markdown",
   "id": "8c02d8d8",
   "metadata": {},
   "source": [
    "#### 3. 两个数组的运算——对应元素进行运算"
   ]
  },
  {
   "cell_type": "code",
   "execution_count": 95,
   "id": "eb9299a0",
   "metadata": {},
   "outputs": [
    {
     "data": {
      "text/plain": [
       "array([1, 2, 3, 4, 5])"
      ]
     },
     "execution_count": 95,
     "metadata": {},
     "output_type": "execute_result"
    }
   ],
   "source": [
    "x1 = np.arange(1, 6)\n",
    "x1"
   ]
  },
  {
   "cell_type": "code",
   "execution_count": 96,
   "id": "54b2c76d",
   "metadata": {},
   "outputs": [
    {
     "data": {
      "text/plain": [
       "array([ 6,  7,  8,  9, 10])"
      ]
     },
     "execution_count": 96,
     "metadata": {},
     "output_type": "execute_result"
    }
   ],
   "source": [
    "x2 = np.arange(6, 11)\n",
    "x2"
   ]
  },
  {
   "cell_type": "code",
   "execution_count": 97,
   "id": "ed7ceb95",
   "metadata": {},
   "outputs": [
    {
     "name": "stdout",
     "output_type": "stream",
     "text": [
      "x1 + x2: [ 7  9 11 13 15]\n",
      "x1 - x2: [-5 -5 -5 -5 -5]\n",
      "x1 * x2: [ 6 14 24 36 50]\n",
      "x1 / x2: [0.16666667 0.28571429 0.375      0.44444444 0.5       ]\n"
     ]
    }
   ],
   "source": [
    "print(\"x1 + x2:\", x1 + x2)\n",
    "print(\"x1 - x2:\", x1 - x2)\n",
    "print(\"x1 * x2:\", x1 * x2)\n",
    "print(\"x1 / x2:\", x1 / x2)"
   ]
  },
  {
   "cell_type": "markdown",
   "id": "6e9c89f2",
   "metadata": {},
   "source": [
    "### 4.2. 矩阵运算"
   ]
  },
  {
   "cell_type": "code",
   "execution_count": 98,
   "id": "56b5742f",
   "metadata": {},
   "outputs": [
    {
     "data": {
      "text/plain": [
       "array([[0, 1, 2],\n",
       "       [3, 4, 5],\n",
       "       [6, 7, 8]])"
      ]
     },
     "execution_count": 98,
     "metadata": {},
     "output_type": "execute_result"
    }
   ],
   "source": [
    "x = np.arange(9).reshape(3, 3)\n",
    "x"
   ]
  },
  {
   "cell_type": "markdown",
   "id": "062c35d7",
   "metadata": {},
   "source": [
    "- 矩阵的转置"
   ]
  },
  {
   "cell_type": "code",
   "execution_count": 99,
   "id": "7ea2b6c6",
   "metadata": {},
   "outputs": [
    {
     "data": {
      "text/plain": [
       "array([[0, 3, 6],\n",
       "       [1, 4, 7],\n",
       "       [2, 5, 8]])"
      ]
     },
     "execution_count": 99,
     "metadata": {},
     "output_type": "execute_result"
    }
   ],
   "source": [
    "y = x.T\n",
    "y"
   ]
  },
  {
   "cell_type": "markdown",
   "id": "14062f93",
   "metadata": {},
   "source": [
    "- 矩阵乘法"
   ]
  },
  {
   "cell_type": "code",
   "execution_count": 100,
   "id": "95c64865",
   "metadata": {},
   "outputs": [],
   "source": [
    "x = np.array([[1, 0],\n",
    "             [1, 1]])\n",
    "y = np.array([[0, 1],\n",
    "             [1, 1]])"
   ]
  },
  {
   "cell_type": "code",
   "execution_count": 101,
   "id": "b76f0804",
   "metadata": {},
   "outputs": [
    {
     "data": {
      "text/plain": [
       "array([[0, 1],\n",
       "       [1, 2]])"
      ]
     },
     "execution_count": 101,
     "metadata": {},
     "output_type": "execute_result"
    }
   ],
   "source": [
    "x.dot(y)"
   ]
  },
  {
   "cell_type": "code",
   "execution_count": 102,
   "id": "026c99c2",
   "metadata": {},
   "outputs": [
    {
     "data": {
      "text/plain": [
       "array([[0, 1],\n",
       "       [1, 2]])"
      ]
     },
     "execution_count": 102,
     "metadata": {},
     "output_type": "execute_result"
    }
   ],
   "source": [
    "np.dot(x, y)"
   ]
  },
  {
   "cell_type": "code",
   "execution_count": 103,
   "id": "8708274e",
   "metadata": {},
   "outputs": [
    {
     "data": {
      "text/plain": [
       "array([[1, 1],\n",
       "       [2, 1]])"
      ]
     },
     "execution_count": 103,
     "metadata": {},
     "output_type": "execute_result"
    }
   ],
   "source": [
    "y.dot(x)"
   ]
  },
  {
   "cell_type": "code",
   "execution_count": 104,
   "id": "da4c0e0b",
   "metadata": {},
   "outputs": [
    {
     "data": {
      "text/plain": [
       "array([[1, 1],\n",
       "       [2, 1]])"
      ]
     },
     "execution_count": 104,
     "metadata": {},
     "output_type": "execute_result"
    }
   ],
   "source": [
    "np.dot(y, x)"
   ]
  },
  {
   "cell_type": "markdown",
   "id": "cd1d5ce6",
   "metadata": {},
   "source": [
    "**注意跟x * y的区别**"
   ]
  },
  {
   "cell_type": "code",
   "execution_count": 105,
   "id": "cfd8292d",
   "metadata": {},
   "outputs": [
    {
     "data": {
      "text/plain": [
       "array([[0, 0],\n",
       "       [1, 1]])"
      ]
     },
     "execution_count": 105,
     "metadata": {},
     "output_type": "execute_result"
    }
   ],
   "source": [
    "x * y"
   ]
  },
  {
   "cell_type": "markdown",
   "id": "7ffa63fb",
   "metadata": {},
   "source": [
    "### 4.3. 广播运算"
   ]
  },
  {
   "cell_type": "code",
   "execution_count": 106,
   "id": "17572c35",
   "metadata": {},
   "outputs": [
    {
     "data": {
      "text/plain": [
       "array([[0, 1, 2]])"
      ]
     },
     "execution_count": 106,
     "metadata": {},
     "output_type": "execute_result"
    }
   ],
   "source": [
    "x = np.arange(3).reshape(1, 3)\n",
    "x"
   ]
  },
  {
   "cell_type": "code",
   "execution_count": 107,
   "id": "4f0691bd",
   "metadata": {},
   "outputs": [
    {
     "data": {
      "text/plain": [
       "array([[5, 6, 7]])"
      ]
     },
     "execution_count": 107,
     "metadata": {},
     "output_type": "execute_result"
    }
   ],
   "source": [
    "x + 5"
   ]
  },
  {
   "cell_type": "markdown",
   "id": "807ac8ae",
   "metadata": {},
   "source": [
    "**规则**\n",
    "\n",
    "- 规则 1：如果两个数组的维度数不相同，那么小维度数组的形状将会在最左边补 1。\n",
    "\n",
    "* 规则 2：如果两个数组的形状在任何一个维度上都不匹配，那么数组的形状会沿着维度 为 1 的维度扩展以匹配另外一个数组的形状。\n",
    "\n",
    "- 规则 3：如果两个数组的形状在任何一个维度上都不匹配并且没有任何一个维度等于 1， 那么会引发异常。\n",
    "\n",
    "更清楚的广播规则[介绍](https://www.zhihu.com/tardis/zm/art/317749434?source_id=1005 \"广播规则\")"
   ]
  },
  {
   "cell_type": "code",
   "execution_count": 108,
   "id": "0ba735c6",
   "metadata": {},
   "outputs": [
    {
     "data": {
      "text/plain": [
       "array([[1., 1., 1.],\n",
       "       [1., 1., 1.],\n",
       "       [1., 1., 1.]])"
      ]
     },
     "execution_count": 108,
     "metadata": {},
     "output_type": "execute_result"
    }
   ],
   "source": [
    "x1 = np.ones((3, 3))\n",
    "x1"
   ]
  },
  {
   "cell_type": "code",
   "execution_count": 109,
   "id": "8ccc1d47",
   "metadata": {},
   "outputs": [
    {
     "data": {
      "text/plain": [
       "array([[0, 1, 2]])"
      ]
     },
     "execution_count": 109,
     "metadata": {},
     "output_type": "execute_result"
    }
   ],
   "source": [
    "x2 = np.arange(3).reshape(1, 3)\n",
    "x2"
   ]
  },
  {
   "cell_type": "code",
   "execution_count": 110,
   "id": "2004fd17",
   "metadata": {},
   "outputs": [
    {
     "data": {
      "text/plain": [
       "array([[1., 2., 3.],\n",
       "       [1., 2., 3.],\n",
       "       [1., 2., 3.]])"
      ]
     },
     "execution_count": 110,
     "metadata": {},
     "output_type": "execute_result"
    }
   ],
   "source": [
    "x1 + x2"
   ]
  },
  {
   "cell_type": "code",
   "execution_count": 111,
   "id": "663da641",
   "metadata": {},
   "outputs": [
    {
     "data": {
      "text/plain": [
       "array([[   2.,    4.,    8.,   16.,   32.],\n",
       "       [  64.,  128.,  256.,  512., 1024.]])"
      ]
     },
     "execution_count": 111,
     "metadata": {},
     "output_type": "execute_result"
    }
   ],
   "source": [
    "x3 = np.logspace(1, 10, 10, base = 2).reshape(2, 5)\n",
    "x3"
   ]
  },
  {
   "cell_type": "code",
   "execution_count": 112,
   "id": "d7efe6bb",
   "metadata": {},
   "outputs": [
    {
     "data": {
      "text/plain": [
       "array([ 1,  2,  4,  8, 16])"
      ]
     },
     "execution_count": 112,
     "metadata": {},
     "output_type": "execute_result"
    }
   ],
   "source": [
    "x4 = np.array([1, 2, 4, 8, 16])\n",
    "x4"
   ]
  },
  {
   "cell_type": "code",
   "execution_count": 113,
   "id": "3bb7f4c1",
   "metadata": {},
   "outputs": [
    {
     "data": {
      "text/plain": [
       "array([[ 2.,  2.,  2.,  2.,  2.],\n",
       "       [64., 64., 64., 64., 64.]])"
      ]
     },
     "execution_count": 113,
     "metadata": {},
     "output_type": "execute_result"
    }
   ],
   "source": [
    "x3 / x4"
   ]
  },
  {
   "cell_type": "code",
   "execution_count": 114,
   "id": "99512095",
   "metadata": {},
   "outputs": [
    {
     "data": {
      "text/plain": [
       "array([[0],\n",
       "       [1],\n",
       "       [2]])"
      ]
     },
     "execution_count": 114,
     "metadata": {},
     "output_type": "execute_result"
    }
   ],
   "source": [
    "x5 = np.arange(3).reshape(3, 1)\n",
    "x5"
   ]
  },
  {
   "cell_type": "code",
   "execution_count": 115,
   "id": "99d5c414",
   "metadata": {},
   "outputs": [
    {
     "data": {
      "text/plain": [
       "array([[0, 1, 2]])"
      ]
     },
     "execution_count": 115,
     "metadata": {},
     "output_type": "execute_result"
    }
   ],
   "source": [
    "x6 = np.arange(3).reshape(1, 3)\n",
    "x6"
   ]
  },
  {
   "cell_type": "code",
   "execution_count": 116,
   "id": "f21b3bc6",
   "metadata": {},
   "outputs": [
    {
     "data": {
      "text/plain": [
       "array([[0, 1, 2],\n",
       "       [1, 2, 3],\n",
       "       [2, 3, 4]])"
      ]
     },
     "execution_count": 116,
     "metadata": {},
     "output_type": "execute_result"
    }
   ],
   "source": [
    "x5 + x6"
   ]
  },
  {
   "cell_type": "markdown",
   "id": "06d47b77",
   "metadata": {},
   "source": [
    "![广播规则](./图片等杂项/广播规则.png \"广播规则\")"
   ]
  },
  {
   "cell_type": "markdown",
   "id": "5a519e25",
   "metadata": {},
   "source": [
    "### 4.4. 比较运算和掩码\n",
    "\n",
    "#### 1.比较运算"
   ]
  },
  {
   "cell_type": "code",
   "execution_count": 117,
   "id": "b93229f2",
   "metadata": {},
   "outputs": [
    {
     "data": {
      "text/plain": [
       "array([[21, 62, 61, 43, 42, 68, 27,  1, 37, 52],\n",
       "       [77, 60, 55, 93, 14, 96, 83, 93, 93, 75],\n",
       "       [29, 61, 40,  2,  3, 82, 48, 22, 87, 72],\n",
       "       [92, 60, 90, 82, 50,  1, 90, 97,  9, 65],\n",
       "       [71, 18, 72, 43,  0, 38, 46, 82, 56, 89],\n",
       "       [41,  6, 23, 94, 55, 97, 61,  5,  7, 44],\n",
       "       [30, 62,  0, 49, 79, 92, 20, 47, 72, 33],\n",
       "       [81, 17,  8, 16, 30, 52, 31, 71, 14, 86],\n",
       "       [ 5, 63, 84, 22, 80, 34, 24, 65,  2, 93],\n",
       "       [67, 84, 81, 89, 21, 96, 42, 13, 57, 18]])"
      ]
     },
     "execution_count": 117,
     "metadata": {},
     "output_type": "execute_result"
    }
   ],
   "source": [
    "x1 = np.random.randint(100, size = (10, 10))\n",
    "x1"
   ]
  },
  {
   "cell_type": "code",
   "execution_count": 118,
   "id": "c67b745f",
   "metadata": {},
   "outputs": [
    {
     "data": {
      "text/plain": [
       "array([[False,  True,  True, False, False,  True, False, False, False,\n",
       "         True],\n",
       "       [ True,  True,  True,  True, False,  True,  True,  True,  True,\n",
       "         True],\n",
       "       [False,  True, False, False, False,  True, False, False,  True,\n",
       "         True],\n",
       "       [ True,  True,  True,  True, False, False,  True,  True, False,\n",
       "         True],\n",
       "       [ True, False,  True, False, False, False, False,  True,  True,\n",
       "         True],\n",
       "       [False, False, False,  True,  True,  True,  True, False, False,\n",
       "        False],\n",
       "       [False,  True, False, False,  True,  True, False, False,  True,\n",
       "        False],\n",
       "       [ True, False, False, False, False,  True, False,  True, False,\n",
       "         True],\n",
       "       [False,  True,  True, False,  True, False, False,  True, False,\n",
       "         True],\n",
       "       [ True,  True,  True,  True, False,  True, False, False,  True,\n",
       "        False]])"
      ]
     },
     "execution_count": 118,
     "metadata": {},
     "output_type": "execute_result"
    }
   ],
   "source": [
    "x1 > 50"
   ]
  },
  {
   "cell_type": "markdown",
   "id": "49a87e11",
   "metadata": {},
   "source": [
    "#### 2. 操作布尔数组"
   ]
  },
  {
   "cell_type": "code",
   "execution_count": 119,
   "id": "5b37cb71",
   "metadata": {},
   "outputs": [
    {
     "data": {
      "text/plain": [
       "array([[3, 7, 9, 1],\n",
       "       [5, 4, 5, 9],\n",
       "       [1, 7, 8, 0]])"
      ]
     },
     "execution_count": 119,
     "metadata": {},
     "output_type": "execute_result"
    }
   ],
   "source": [
    "x2 = np.random.randint(10, size = (3, 4))\n",
    "x2"
   ]
  },
  {
   "cell_type": "code",
   "execution_count": 120,
   "id": "e2871003",
   "metadata": {},
   "outputs": [
    {
     "name": "stdout",
     "output_type": "stream",
     "text": [
      "[[False  True  True False]\n",
      " [False False False  True]\n",
      " [False  True  True False]]\n"
     ]
    },
    {
     "data": {
      "text/plain": [
       "5"
      ]
     },
     "execution_count": 120,
     "metadata": {},
     "output_type": "execute_result"
    }
   ],
   "source": [
    "print(x2 > 5)\n",
    "np.sum(x2 > 5)  # 统计大于5的个数"
   ]
  },
  {
   "cell_type": "code",
   "execution_count": 121,
   "id": "0c007f53",
   "metadata": {},
   "outputs": [
    {
     "data": {
      "text/plain": [
       "False"
      ]
     },
     "execution_count": 121,
     "metadata": {},
     "output_type": "execute_result"
    }
   ],
   "source": [
    "np.all(x2 > 0)    # 所有"
   ]
  },
  {
   "cell_type": "code",
   "execution_count": 122,
   "id": "35caaf3d",
   "metadata": {},
   "outputs": [
    {
     "data": {
      "text/plain": [
       "False"
      ]
     },
     "execution_count": 122,
     "metadata": {},
     "output_type": "execute_result"
    }
   ],
   "source": [
    "np.any(x2 == 6)   # 存在"
   ]
  },
  {
   "cell_type": "code",
   "execution_count": 123,
   "id": "ad9a7de8",
   "metadata": {
    "scrolled": false
   },
   "outputs": [
    {
     "data": {
      "text/plain": [
       "array([False, False, False])"
      ]
     },
     "execution_count": 123,
     "metadata": {},
     "output_type": "execute_result"
    }
   ],
   "source": [
    "np.all(x2 < 8, axis = 1)    "
   ]
  },
  {
   "cell_type": "code",
   "execution_count": 124,
   "id": "9ec7efe1",
   "metadata": {},
   "outputs": [
    {
     "data": {
      "text/plain": [
       "array([[3, 7, 9, 1],\n",
       "       [5, 4, 5, 9],\n",
       "       [1, 7, 8, 0]])"
      ]
     },
     "execution_count": 124,
     "metadata": {},
     "output_type": "execute_result"
    }
   ],
   "source": [
    "x2"
   ]
  },
  {
   "cell_type": "code",
   "execution_count": 125,
   "id": "7f3a9f7c",
   "metadata": {},
   "outputs": [
    {
     "data": {
      "text/plain": [
       "array([[False,  True, False, False],\n",
       "       [False, False, False, False],\n",
       "       [False,  True,  True, False]])"
      ]
     },
     "execution_count": 125,
     "metadata": {},
     "output_type": "execute_result"
    }
   ],
   "source": [
    "(x2 < 9) & (x2 > 5)"
   ]
  },
  {
   "cell_type": "code",
   "execution_count": 126,
   "id": "a17bcb30",
   "metadata": {},
   "outputs": [
    {
     "data": {
      "text/plain": [
       "3"
      ]
     },
     "execution_count": 126,
     "metadata": {},
     "output_type": "execute_result"
    }
   ],
   "source": [
    "np.sum((x2 < 9) & (x2 > 5))"
   ]
  },
  {
   "cell_type": "markdown",
   "id": "df9667b4",
   "metadata": {},
   "source": [
    "#### 3. 将布尔数组作为掩码\n",
    "\n",
    "若一个普通数组和一个布尔型数组的维度相同，可以将布尔型数组作为普通 数组的掩码，这样可以对普通数组中的元素作筛选。"
   ]
  },
  {
   "cell_type": "code",
   "execution_count": 127,
   "id": "ea402b1d",
   "metadata": {},
   "outputs": [
    {
     "data": {
      "text/plain": [
       "array([[3, 7, 9, 1],\n",
       "       [5, 4, 5, 9],\n",
       "       [1, 7, 8, 0]])"
      ]
     },
     "execution_count": 127,
     "metadata": {},
     "output_type": "execute_result"
    }
   ],
   "source": [
    "x2"
   ]
  },
  {
   "cell_type": "code",
   "execution_count": 128,
   "id": "02abffee",
   "metadata": {},
   "outputs": [
    {
     "data": {
      "text/plain": [
       "array([[False,  True,  True, False],\n",
       "       [False, False, False,  True],\n",
       "       [False,  True,  True, False]])"
      ]
     },
     "execution_count": 128,
     "metadata": {},
     "output_type": "execute_result"
    }
   ],
   "source": [
    "x2 > 5"
   ]
  },
  {
   "cell_type": "code",
   "execution_count": 129,
   "id": "dc89edd3",
   "metadata": {},
   "outputs": [
    {
     "data": {
      "text/plain": [
       "array([7, 9, 9, 7, 8])"
      ]
     },
     "execution_count": 129,
     "metadata": {},
     "output_type": "execute_result"
    }
   ],
   "source": [
    "x2[x2 > 5]"
   ]
  },
  {
   "cell_type": "markdown",
   "id": "b59331eb",
   "metadata": {},
   "source": [
    "注意：这个矩阵进行掩码操作后，退化为了向量，实际上不管数组维度是多少，进行布尔掩码操作后，都会退化成一维向量"
   ]
  },
  {
   "cell_type": "markdown",
   "id": "dafac382",
   "metadata": {},
   "source": [
    "### 4.5. 花哨的索引\n",
    "\n",
    "#### 1. 一维数组"
   ]
  },
  {
   "cell_type": "code",
   "execution_count": 130,
   "id": "825e5502",
   "metadata": {},
   "outputs": [
    {
     "data": {
      "text/plain": [
       "array([57, 22, 56, 89, 90, 50, 71, 86, 88, 96])"
      ]
     },
     "execution_count": 130,
     "metadata": {},
     "output_type": "execute_result"
    }
   ],
   "source": [
    "x = np.random.randint(100, size = 10)\n",
    "x"
   ]
  },
  {
   "cell_type": "markdown",
   "id": "cb6c1638",
   "metadata": {},
   "source": [
    "**注意：结果的形状与索引数组ind一致**"
   ]
  },
  {
   "cell_type": "code",
   "execution_count": 131,
   "id": "247e51f6",
   "metadata": {},
   "outputs": [
    {
     "data": {
      "text/plain": [
       "array([56, 71, 96])"
      ]
     },
     "execution_count": 131,
     "metadata": {},
     "output_type": "execute_result"
    }
   ],
   "source": [
    "ind = [2, 6, 9]\n",
    "x[ind]"
   ]
  },
  {
   "cell_type": "code",
   "execution_count": 132,
   "id": "404b523a",
   "metadata": {},
   "outputs": [
    {
     "data": {
      "text/plain": [
       "array([[22, 57],\n",
       "       [56, 89]])"
      ]
     },
     "execution_count": 132,
     "metadata": {},
     "output_type": "execute_result"
    }
   ],
   "source": [
    "ind = np.array([[1, 0],\n",
    "              [2, 3]])\n",
    "x[ind]"
   ]
  },
  {
   "cell_type": "markdown",
   "id": "08444173",
   "metadata": {},
   "source": [
    "#### 2. 多维数组"
   ]
  },
  {
   "cell_type": "code",
   "execution_count": 133,
   "id": "9b11db03",
   "metadata": {},
   "outputs": [
    {
     "data": {
      "text/plain": [
       "array([[ 0,  1,  2,  3],\n",
       "       [ 4,  5,  6,  7],\n",
       "       [ 8,  9, 10, 11]])"
      ]
     },
     "execution_count": 133,
     "metadata": {},
     "output_type": "execute_result"
    }
   ],
   "source": [
    "x = np.arange(12).reshape(3, 4)\n",
    "x"
   ]
  },
  {
   "cell_type": "code",
   "execution_count": 134,
   "id": "2494aea1",
   "metadata": {},
   "outputs": [
    {
     "data": {
      "text/plain": [
       "array([1, 7, 8])"
      ]
     },
     "execution_count": 134,
     "metadata": {},
     "output_type": "execute_result"
    }
   ],
   "source": [
    "row = np.array([0, 1, 2])\n",
    "col = np.array([1, 3, 0])\n",
    "x[row, col]             # x(0, 1) x(1, 3) x(2, 0)"
   ]
  },
  {
   "cell_type": "code",
   "execution_count": 135,
   "id": "5782f84d",
   "metadata": {},
   "outputs": [
    {
     "data": {
      "text/plain": [
       "array([[0],\n",
       "       [1],\n",
       "       [2]])"
      ]
     },
     "execution_count": 135,
     "metadata": {},
     "output_type": "execute_result"
    }
   ],
   "source": [
    "row[:, np.newaxis]    # 列向量"
   ]
  },
  {
   "cell_type": "code",
   "execution_count": 136,
   "id": "519165cc",
   "metadata": {},
   "outputs": [
    {
     "data": {
      "text/plain": [
       "array([[ 1,  3,  0],\n",
       "       [ 5,  7,  4],\n",
       "       [ 9, 11,  8]])"
      ]
     },
     "execution_count": 136,
     "metadata": {},
     "output_type": "execute_result"
    }
   ],
   "source": [
    "x[row[:, np.newaxis], col]    #广播机制"
   ]
  },
  {
   "cell_type": "markdown",
   "id": "37c2a542",
   "metadata": {},
   "source": [
    "## 5. 其他Numpy通用函数\n",
    "\n",
    "### 5.1. 数值排序"
   ]
  },
  {
   "cell_type": "code",
   "execution_count": 137,
   "id": "b12715cc",
   "metadata": {},
   "outputs": [
    {
     "data": {
      "text/plain": [
       "array([44, 22, 48, 31, 38, 27, 49, 36, 24, 39])"
      ]
     },
     "execution_count": 137,
     "metadata": {},
     "output_type": "execute_result"
    }
   ],
   "source": [
    "x = np.random.randint(20, 50, size = 10)\n",
    "x"
   ]
  },
  {
   "cell_type": "markdown",
   "id": "81544eea",
   "metadata": {},
   "source": [
    "- 产生新的排序数组"
   ]
  },
  {
   "cell_type": "code",
   "execution_count": 138,
   "id": "f2ca6451",
   "metadata": {},
   "outputs": [
    {
     "data": {
      "text/plain": [
       "array([22, 24, 27, 31, 36, 38, 39, 44, 48, 49])"
      ]
     },
     "execution_count": 138,
     "metadata": {},
     "output_type": "execute_result"
    }
   ],
   "source": [
    "np.sort(x)"
   ]
  },
  {
   "cell_type": "code",
   "execution_count": 139,
   "id": "38418a93",
   "metadata": {},
   "outputs": [
    {
     "data": {
      "text/plain": [
       "array([44, 22, 48, 31, 38, 27, 49, 36, 24, 39])"
      ]
     },
     "execution_count": 139,
     "metadata": {},
     "output_type": "execute_result"
    }
   ],
   "source": [
    "x"
   ]
  },
  {
   "cell_type": "markdown",
   "id": "47dbb38a",
   "metadata": {},
   "source": [
    "- 替换原数组"
   ]
  },
  {
   "cell_type": "code",
   "execution_count": 140,
   "id": "0be2a97b",
   "metadata": {},
   "outputs": [
    {
     "data": {
      "text/plain": [
       "array([22, 24, 27, 31, 36, 38, 39, 44, 48, 49])"
      ]
     },
     "execution_count": 140,
     "metadata": {},
     "output_type": "execute_result"
    }
   ],
   "source": [
    "x.sort()\n",
    "x"
   ]
  },
  {
   "cell_type": "markdown",
   "id": "dcda83f5",
   "metadata": {},
   "source": [
    "- 获得排序索引"
   ]
  },
  {
   "cell_type": "code",
   "execution_count": 141,
   "id": "fc610388",
   "metadata": {},
   "outputs": [
    {
     "data": {
      "text/plain": [
       "array([43, 45, 27, 41, 41, 28, 33, 32, 31, 37])"
      ]
     },
     "execution_count": 141,
     "metadata": {},
     "output_type": "execute_result"
    }
   ],
   "source": [
    "x = np.random.randint(20, 50, size = 10)\n",
    "x"
   ]
  },
  {
   "cell_type": "code",
   "execution_count": 142,
   "id": "ef10b13f",
   "metadata": {},
   "outputs": [
    {
     "data": {
      "text/plain": [
       "array([2, 5, 8, 7, 6, 9, 3, 4, 0, 1], dtype=int64)"
      ]
     },
     "execution_count": 142,
     "metadata": {},
     "output_type": "execute_result"
    }
   ],
   "source": [
    "i = np.argsort(x)\n",
    "i"
   ]
  },
  {
   "cell_type": "markdown",
   "id": "720a5367",
   "metadata": {},
   "source": [
    "### 5.2. 最大最小值"
   ]
  },
  {
   "cell_type": "code",
   "execution_count": 143,
   "id": "09ad15b1",
   "metadata": {},
   "outputs": [
    {
     "data": {
      "text/plain": [
       "array([27, 31, 35, 44, 33, 24, 25, 47, 23, 42])"
      ]
     },
     "execution_count": 143,
     "metadata": {},
     "output_type": "execute_result"
    }
   ],
   "source": [
    "x = np.random.randint(20, 50, size = 10)\n",
    "x"
   ]
  },
  {
   "cell_type": "code",
   "execution_count": 144,
   "id": "d069dc14",
   "metadata": {},
   "outputs": [
    {
     "name": "stdout",
     "output_type": "stream",
     "text": [
      "max: 47\n",
      "min: 23\n"
     ]
    }
   ],
   "source": [
    "print(\"max:\", np.max(x))\n",
    "print(\"min:\", np.min(x))"
   ]
  },
  {
   "cell_type": "code",
   "execution_count": 145,
   "id": "8582a348",
   "metadata": {},
   "outputs": [
    {
     "name": "stdout",
     "output_type": "stream",
     "text": [
      "max_index: 7\n",
      "min_index: 8\n"
     ]
    }
   ],
   "source": [
    "print(\"max_index:\", np.argmax(x))\n",
    "print(\"min_index:\", np.argmin(x))"
   ]
  },
  {
   "cell_type": "markdown",
   "id": "86b4bc25",
   "metadata": {},
   "source": [
    "### 5.3. 数值求和，求积"
   ]
  },
  {
   "cell_type": "code",
   "execution_count": 146,
   "id": "04b71128",
   "metadata": {},
   "outputs": [
    {
     "data": {
      "text/plain": [
       "array([1, 2, 3, 4, 5])"
      ]
     },
     "execution_count": 146,
     "metadata": {},
     "output_type": "execute_result"
    }
   ],
   "source": [
    "x = np.arange(1, 6)\n",
    "x"
   ]
  },
  {
   "cell_type": "code",
   "execution_count": 147,
   "id": "11212278",
   "metadata": {},
   "outputs": [
    {
     "data": {
      "text/plain": [
       "15"
      ]
     },
     "execution_count": 147,
     "metadata": {},
     "output_type": "execute_result"
    }
   ],
   "source": [
    "x.sum()"
   ]
  },
  {
   "cell_type": "code",
   "execution_count": 148,
   "id": "e1b0b4c5",
   "metadata": {},
   "outputs": [
    {
     "data": {
      "text/plain": [
       "15"
      ]
     },
     "execution_count": 148,
     "metadata": {},
     "output_type": "execute_result"
    }
   ],
   "source": [
    "np.sum(x)"
   ]
  },
  {
   "cell_type": "code",
   "execution_count": 149,
   "id": "e42264d2",
   "metadata": {},
   "outputs": [
    {
     "data": {
      "text/plain": [
       "array([[0, 1, 2],\n",
       "       [3, 4, 5]])"
      ]
     },
     "execution_count": 149,
     "metadata": {},
     "output_type": "execute_result"
    }
   ],
   "source": [
    "x1 = np.arange(6).reshape(2, 3)\n",
    "x1"
   ]
  },
  {
   "cell_type": "markdown",
   "id": "110b471c",
   "metadata": {},
   "source": [
    "- 按行求和"
   ]
  },
  {
   "cell_type": "code",
   "execution_count": 150,
   "id": "d1c3081b",
   "metadata": {},
   "outputs": [
    {
     "data": {
      "text/plain": [
       "array([ 3, 12])"
      ]
     },
     "execution_count": 150,
     "metadata": {},
     "output_type": "execute_result"
    }
   ],
   "source": [
    "np.sum(x1, axis = 1)"
   ]
  },
  {
   "cell_type": "markdown",
   "id": "04f3f0b4",
   "metadata": {},
   "source": [
    "- 按列求和"
   ]
  },
  {
   "cell_type": "code",
   "execution_count": 151,
   "id": "15de066d",
   "metadata": {},
   "outputs": [
    {
     "data": {
      "text/plain": [
       "array([3, 5, 7])"
      ]
     },
     "execution_count": 151,
     "metadata": {},
     "output_type": "execute_result"
    }
   ],
   "source": [
    "np.sum(x1, axis = 0)"
   ]
  },
  {
   "cell_type": "markdown",
   "id": "5d7e450f",
   "metadata": {},
   "source": [
    "- 求积"
   ]
  },
  {
   "cell_type": "code",
   "execution_count": 152,
   "id": "8dfe60a1",
   "metadata": {},
   "outputs": [
    {
     "data": {
      "text/plain": [
       "array([1, 2, 3, 4, 5])"
      ]
     },
     "execution_count": 152,
     "metadata": {},
     "output_type": "execute_result"
    }
   ],
   "source": [
    "x"
   ]
  },
  {
   "cell_type": "code",
   "execution_count": 153,
   "id": "ea2ddbff",
   "metadata": {},
   "outputs": [
    {
     "data": {
      "text/plain": [
       "120"
      ]
     },
     "execution_count": 153,
     "metadata": {},
     "output_type": "execute_result"
    }
   ],
   "source": [
    "x.prod()"
   ]
  },
  {
   "cell_type": "code",
   "execution_count": 154,
   "id": "663ccf68",
   "metadata": {},
   "outputs": [
    {
     "data": {
      "text/plain": [
       "120"
      ]
     },
     "execution_count": 154,
     "metadata": {},
     "output_type": "execute_result"
    }
   ],
   "source": [
    "np.prod(x)"
   ]
  },
  {
   "cell_type": "markdown",
   "id": "e61ce7dd",
   "metadata": {},
   "source": [
    "### 5.4. 中位数，均值，方差，标准差"
   ]
  },
  {
   "cell_type": "code",
   "execution_count": 155,
   "id": "26ba3882",
   "metadata": {},
   "outputs": [],
   "source": [
    "x = np.random.normal(0, 1, size = 10000)"
   ]
  },
  {
   "cell_type": "code",
   "execution_count": 156,
   "id": "b068bd75",
   "metadata": {},
   "outputs": [
    {
     "data": {
      "image/png": "[encoded data removed]",
      "text/plain": [
       "<Figure size 640x480 with 1 Axes>"
      ]
     },
     "metadata": {},
     "output_type": "display_data"
    }
   ],
   "source": [
    "import matplotlib.pyplot as plt\n",
    "\n",
    "plt.hist(x, bins = 50)\n",
    "plt.show()"
   ]
  },
  {
   "cell_type": "markdown",
   "id": "9c3d87f9",
   "metadata": {},
   "source": [
    "- 中位数"
   ]
  },
  {
   "cell_type": "code",
   "execution_count": 157,
   "id": "6f5fafb5",
   "metadata": {},
   "outputs": [
    {
     "data": {
      "text/plain": [
       "0.008136910629176222"
      ]
     },
     "execution_count": 157,
     "metadata": {},
     "output_type": "execute_result"
    }
   ],
   "source": [
    "np.median(x)"
   ]
  },
  {
   "cell_type": "markdown",
   "id": "a8fd58f3",
   "metadata": {},
   "source": [
    "- 均值"
   ]
  },
  {
   "cell_type": "code",
   "execution_count": 158,
   "id": "1eefcf16",
   "metadata": {},
   "outputs": [
    {
     "data": {
      "text/plain": [
       "0.005728328094972755"
      ]
     },
     "execution_count": 158,
     "metadata": {},
     "output_type": "execute_result"
    }
   ],
   "source": [
    "x.mean()"
   ]
  },
  {
   "cell_type": "code",
   "execution_count": 159,
   "id": "1a9979a8",
   "metadata": {},
   "outputs": [
    {
     "data": {
      "text/plain": [
       "0.005728328094972755"
      ]
     },
     "execution_count": 159,
     "metadata": {},
     "output_type": "execute_result"
    }
   ],
   "source": [
    "np.mean(x)"
   ]
  },
  {
   "cell_type": "markdown",
   "id": "a85b6bce",
   "metadata": {},
   "source": [
    "- 方差"
   ]
  },
  {
   "cell_type": "code",
   "execution_count": 160,
   "id": "597ba32e",
   "metadata": {},
   "outputs": [
    {
     "data": {
      "text/plain": [
       "0.997982147758554"
      ]
     },
     "execution_count": 160,
     "metadata": {},
     "output_type": "execute_result"
    }
   ],
   "source": [
    "x.var()"
   ]
  },
  {
   "cell_type": "code",
   "execution_count": 161,
   "id": "744f6044",
   "metadata": {},
   "outputs": [
    {
     "data": {
      "text/plain": [
       "0.997982147758554"
      ]
     },
     "execution_count": 161,
     "metadata": {},
     "output_type": "execute_result"
    }
   ],
   "source": [
    "np.var(x)"
   ]
  },
  {
   "cell_type": "markdown",
   "id": "23361a54",
   "metadata": {},
   "source": [
    "- 标准差"
   ]
  },
  {
   "cell_type": "code",
   "execution_count": 162,
   "id": "514760ba",
   "metadata": {},
   "outputs": [
    {
     "data": {
      "text/plain": [
       "0.9989905643991609"
      ]
     },
     "execution_count": 162,
     "metadata": {},
     "output_type": "execute_result"
    }
   ],
   "source": [
    "x.std()"
   ]
  },
  {
   "cell_type": "code",
   "execution_count": 163,
   "id": "10db2e2c",
   "metadata": {},
   "outputs": [
    {
     "data": {
      "text/plain": [
       "0.9989905643991609"
      ]
     },
     "execution_count": 163,
     "metadata": {},
     "output_type": "execute_result"
    }
   ],
   "source": [
    "np.std(x)"
   ]
  },
  {
   "cell_type": "markdown",
   "id": "385783cf",
   "metadata": {},
   "source": [
    "## 6. Numpy维度的理解\n",
    "\n",
    "NumPy中有几个概念比较绕，维度、轴、秩。"
   ]
  },
  {
   "cell_type": "markdown",
   "id": "fe21648a",
   "metadata": {},
   "source": [
    "### 6.1. 维度的介绍\n",
    "\n",
    "对于维度的介绍，官网是这么写的“ In NumPy dimensions are called axes”，即**维度称为轴**。为了更直观的理解，可以将其与现实世界联系起来，比如在平面中即二维的世界中，我们描述一个点的时候，通常使用 x 轴、y 轴，这样就能确定一个点的具体位置了。因此，这里的两个维度，也就跟两个轴对应了起来。如果是立体的三维世界中，我们就会多出一个z轴，以此更加准确的来反映点的位置。所以，我么可以把以上的维度和轴进行等价。"
   ]
  },
  {
   "cell_type": "markdown",
   "id": "2ef27b68",
   "metadata": {},
   "source": [
    "### 6.2. 什么是秩（rank）\n",
    "\n",
    "它是指轴的数量，或者维度的数量，是一个标量。\n",
    "\n",
    "在下面的例子中，有一个数组 [1,2,1]， 它的维度是1，也就是有一个轴，这个轴的长度是3，而它的秩也为1。这些信息，都可以通过NumPy提供的数组属性来获得"
   ]
  },
  {
   "cell_type": "code",
   "execution_count": 164,
   "id": "5f15d76e",
   "metadata": {},
   "outputs": [
    {
     "name": "stdout",
     "output_type": "stream",
     "text": [
      "[1 2 1]\n",
      "1\n",
      "(3,)\n"
     ]
    },
    {
     "data": {
      "text/plain": [
       "array([1, 2, 1])"
      ]
     },
     "execution_count": 164,
     "metadata": {},
     "output_type": "execute_result"
    }
   ],
   "source": [
    "a = np.array([1, 2, 1])\n",
    "print(a)\n",
    "print(a.ndim)\n",
    "print(a.shape)\n",
    "a"
   ]
  },
  {
   "cell_type": "markdown",
   "id": "9da44f8b",
   "metadata": {},
   "source": [
    "### 6.3. 深入理解numpy数组的维度概念与axis轴\n",
    "\n",
    "我们在求和，操作布尔数组，矩阵乘法等时都会用到与axis轴有关的知识\n",
    "\n",
    "首先明确axis的概念：\n",
    "\n",
    "从图片理解：\n",
    "![axis1](./图片等杂项/axis1.png \"axis1\")\n",
    "![axis2](./图片等杂项/axis2.png \"axis2\")\n",
    "从数组形式理解：\n",
    "\n",
    "numpy数组都有[]标记，其对应关系：axis=0对应最外层的[]，axis=1对应第二外层的[]，…，axis=n对应第n外层的[]\n",
    "\n",
    "以三维数组为例：\n",
    "|  axis   |   [  ]   |\n",
    "|:-------------:|:-------------:|\n",
    "| axis = 0    |  <font color=red>[</font> [   [    ]   ]   <font color=red>]</font> |\n",
    "| axis = 1    |  [ <font color=red>[</font>   [    ]   <font color=red>]</font>   ] |\n",
    "| axis = 2    |  [ [   <font color=red>[</font>    <font color=red>]</font>   ] ] |\n",
    "\n",
    "在 NumPy 和 Pandas 中，axis 参数的定义通常是一致的，但在不同的上下文中，它的实际作用可能有所不同。\n",
    "\n",
    "- NumPy\n",
    "\n",
    "    np.sum、np.mean、np.all 等函数：\n",
    "    \n",
    "    axis=0：表示对每一列进行操作，结果是一个行向量（每一列的聚合结果）。\n",
    "    \n",
    "    axis=1：表示对每一行进行操作，结果是一个列向量（每一行的聚合结果）。\n",
    "\n",
    "* Pandas\n",
    "\n",
    "    DataFrame 的方法（如 sum、mean、dropna 等）：\n",
    "\n",
    "    axis=0：表示对每一列进行操作。比如，df.sum(axis=0) 会返回每一列的和。\n",
    "    \n",
    "    axis=1：表示对每一行进行操作。比如，df.sum(axis=1) 会返回每一行的和。\n",
    "    \n",
    "    drop 和 dropna 方法：\n",
    "\n",
    "    axis=0：表示删除行。例如，df.drop(index=[0, 1], axis=0) 会删除第 0 和第 1 行。\n",
    "    \n",
    "    axis=1：表示删除列。例如，df.drop(columns=['A', 'B'], axis=1) 会删除列 A 和 B。\n",
    "\n",
    "- 总结\n",
    "\n",
    "    在 NumPy 和 Pandas 中：\n",
    "    \n",
    "    axis=0 一般是对列进行操作（如求和、计算均值等），也可以用来删除行。\n",
    "    \n",
    "    axis=1 是对行进行操作（如求和、计算均值等），也可以用来删除列。\n",
    "    \n",
    "    这两种情况的关键是理解上下文：**在计算函数中，axis=0 通常是对列的操作，而在数据结构操作（如删除行或列）中，axis=0 表示行，axis=1 表示列。**\n",
    "\n",
    "#### 1. 从线性代数的角度去理解\n",
    "\n",
    "因为矩阵运算是numpy库的一个重要功能，所以我们从线代的角度去理解。\n",
    "\n",
    "**对于一维数组**"
   ]
  },
  {
   "cell_type": "code",
   "execution_count": 165,
   "id": "58eb192a",
   "metadata": {},
   "outputs": [
    {
     "name": "stdout",
     "output_type": "stream",
     "text": [
      "(3,)\n"
     ]
    }
   ],
   "source": [
    "x1 = np.array([1, 2, 3])\n",
    "print(x1.shape)"
   ]
  },
  {
   "cell_type": "markdown",
   "id": "20fb7b48",
   "metadata": {},
   "source": [
    "如上，一维数组的shape属性类似于(3,)这种形式，表示数组是一维的，轴的长度是3"
   ]
  },
  {
   "cell_type": "markdown",
   "id": "4eae9abd",
   "metadata": {},
   "source": [
    "**对于二维数组**"
   ]
  },
  {
   "cell_type": "code",
   "execution_count": 166,
   "id": "30b7ca43",
   "metadata": {},
   "outputs": [
    {
     "name": "stdout",
     "output_type": "stream",
     "text": [
      "(1, 3)\n",
      "(3, 3)\n",
      "(3, 1)\n"
     ]
    }
   ],
   "source": [
    "x2 = np.array([[1,2,3]])\n",
    "x3 = np.array([[1,2,3],\n",
    "             [4,5,6],\n",
    "              [7,8,9]])\n",
    "x4 = np.array([[1],\n",
    "             [2],\n",
    "             [3]])\n",
    "print(x2.shape)\n",
    "print(x3.shape)\n",
    "print(x4.shape)"
   ]
  },
  {
   "cell_type": "markdown",
   "id": "b7c7f96b",
   "metadata": {},
   "source": [
    "二维数组就是我们熟悉的在线代里面常用的，如上：x2为行向量，x3为矩阵，x4为列向量  \n",
    "\n",
    "**(3,)的数组和(1, 3)的数组的区别**\n",
    "\n",
    "虽然它们看起来很像，但是实际上有大不同\n",
    "\n",
    "1. (3,)的数组是一维数组，(1, 3)是二维数组，维度不同\n",
    "2. (3,)的数组可以既可以当作列向量也可以行向量（左行右列）,但(1, 3)数组只能作为行向量\n",
    "3. 进行矩阵乘法时,像(3,)数组这样的一维数组与其他数组进行矩阵乘法，会产生降维的效果，而二维数组等多维数组不会\n",
    "\n",
    "如下："
   ]
  },
  {
   "cell_type": "code",
   "execution_count": 167,
   "id": "b7a29c6a",
   "metadata": {},
   "outputs": [],
   "source": [
    "x1 = np.array([1,2,3])\n",
    "x2 = np.array([[1,2,3]])\n",
    "x3 = np.array([[[1,2,3],\n",
    "             [4,5,6],\n",
    "              [7,8,9]]])\n",
    "x4 = np.array([[1],\n",
    "             [2],\n",
    "             [3]])\n",
    "x5 = np.array([[[[1,2,3],\n",
    "             [4,5,6],\n",
    "              [7,8,9]]]])"
   ]
  },
  {
   "cell_type": "code",
   "execution_count": 168,
   "id": "fdbe442c",
   "metadata": {},
   "outputs": [
    {
     "data": {
      "text/plain": [
       "14"
      ]
     },
     "execution_count": 168,
     "metadata": {},
     "output_type": "execute_result"
    }
   ],
   "source": [
    "x1.dot(x1)"
   ]
  },
  {
   "cell_type": "code",
   "execution_count": 169,
   "id": "f6e4214d",
   "metadata": {},
   "outputs": [
    {
     "data": {
      "text/plain": [
       "array([14])"
      ]
     },
     "execution_count": 169,
     "metadata": {},
     "output_type": "execute_result"
    }
   ],
   "source": [
    "x1.dot(x4)"
   ]
  },
  {
   "cell_type": "code",
   "execution_count": 170,
   "id": "3e8b69c3",
   "metadata": {},
   "outputs": [
    {
     "ename": "ValueError",
     "evalue": "shapes (3,1) and (3,) not aligned: 1 (dim 1) != 3 (dim 0)",
     "output_type": "error",
     "traceback": [
      "\u001b[1;31m---------------------------------------------------------------------------\u001b[0m",
      "\u001b[1;31mValueError\u001b[0m                                Traceback (most recent call last)",
      "Cell \u001b[1;32mIn[170], line 1\u001b[0m\n\u001b[1;32m----> 1\u001b[0m x4\u001b[38;5;241m.\u001b[39mdot(x1)\n",
      "\u001b[1;31mValueError\u001b[0m: shapes (3,1) and (3,) not aligned: 1 (dim 1) != 3 (dim 0)"
     ]
    }
   ],
   "source": [
    "x4.dot(x1)"
   ]
  },
  {
   "cell_type": "code",
   "execution_count": null,
   "id": "a591d05c",
   "metadata": {},
   "outputs": [],
   "source": [
    "x2.dot(x1)"
   ]
  },
  {
   "cell_type": "code",
   "execution_count": null,
   "id": "3904f616",
   "metadata": {},
   "outputs": [],
   "source": [
    "x1.dot(x2)"
   ]
  },
  {
   "cell_type": "code",
   "execution_count": null,
   "id": "6459dd7e",
   "metadata": {},
   "outputs": [],
   "source": [
    "x1.dot(x3)"
   ]
  },
  {
   "cell_type": "code",
   "execution_count": null,
   "id": "c0219b1f",
   "metadata": {},
   "outputs": [],
   "source": [
    "x3.dot(x1)"
   ]
  },
  {
   "cell_type": "markdown",
   "id": "b415f1a5",
   "metadata": {},
   "source": [
    "**自己多试试，多观察观察区别吧！！！**"
   ]
  },
  {
   "cell_type": "code",
   "execution_count": null,
   "id": "68e0800c",
   "metadata": {},
   "outputs": [],
   "source": []
  }
 ],
 "metadata": {
  "kernelspec": {
   "display_name": "Python 3 (ipykernel)",
   "language": "python",
   "name": "python3"
  },
  "language_info": {
   "codemirror_mode": {
    "name": "ipython",
    "version": 3
   },
   "file_extension": ".py",
   "mimetype": "text/x-python",
   "name": "python",
   "nbconvert_exporter": "python",
   "pygments_lexer": "ipython3",
   "version": "3.11.9"
  }
 },
 "nbformat": 4,
 "nbformat_minor": 5
}
